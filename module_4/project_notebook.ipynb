{
 "cells": [
  {
   "cell_type": "markdown",
   "metadata": {},
   "source": [
    "# Проект 4. Авиарейсы без потерь"
   ]
  },
  {
   "cell_type": "code",
   "execution_count": 2,
   "metadata": {},
   "outputs": [],
   "source": [
    "# Импорт библиотек\n",
    "\n",
    "import pandas as pd\n",
    "import numpy as np\n",
    "import matplotlib.pyplot as plt\n",
    "import seaborn as sns"
   ]
  },
  {
   "cell_type": "markdown",
   "metadata": {},
   "source": [
    "### Первичный осмотр данных"
   ]
  },
  {
   "cell_type": "code",
   "execution_count": 7,
   "metadata": {},
   "outputs": [],
   "source": [
    "df = pd.read_csv('data.csv')"
   ]
  },
  {
   "cell_type": "code",
   "execution_count": 8,
   "metadata": {},
   "outputs": [
    {
     "data": {
      "text/html": [
       "<div>\n",
       "<style scoped>\n",
       "    .dataframe tbody tr th:only-of-type {\n",
       "        vertical-align: middle;\n",
       "    }\n",
       "\n",
       "    .dataframe tbody tr th {\n",
       "        vertical-align: top;\n",
       "    }\n",
       "\n",
       "    .dataframe thead th {\n",
       "        text-align: right;\n",
       "    }\n",
       "</style>\n",
       "<table border=\"1\" class=\"dataframe\">\n",
       "  <thead>\n",
       "    <tr style=\"text-align: right;\">\n",
       "      <th></th>\n",
       "      <th>flight_id</th>\n",
       "      <th>departure_city</th>\n",
       "      <th>destination</th>\n",
       "      <th>model</th>\n",
       "      <th>distance</th>\n",
       "      <th>tickets_sold</th>\n",
       "      <th>max_seats</th>\n",
       "      <th>load_factor</th>\n",
       "      <th>fuel_cons_total</th>\n",
       "      <th>revenue</th>\n",
       "      <th>fuel_costs</th>\n",
       "      <th>other_costs</th>\n",
       "      <th>total_costs</th>\n",
       "      <th>profit</th>\n",
       "    </tr>\n",
       "  </thead>\n",
       "  <tbody>\n",
       "    <tr>\n",
       "      <th>0</th>\n",
       "      <td>136464.0</td>\n",
       "      <td>Anapa</td>\n",
       "      <td>Moscow</td>\n",
       "      <td>Boeing 737-300</td>\n",
       "      <td>1200</td>\n",
       "      <td>100</td>\n",
       "      <td>130</td>\n",
       "      <td>0.769231</td>\n",
       "      <td>4188.0</td>\n",
       "      <td>1398000.0</td>\n",
       "      <td>192648.0</td>\n",
       "      <td>1.324265e+06</td>\n",
       "      <td>1.516913e+06</td>\n",
       "      <td>-118913.385827</td>\n",
       "    </tr>\n",
       "    <tr>\n",
       "      <th>1</th>\n",
       "      <td>136250.0</td>\n",
       "      <td>Anapa</td>\n",
       "      <td>Moscow</td>\n",
       "      <td>Boeing 737-300</td>\n",
       "      <td>1200</td>\n",
       "      <td>99</td>\n",
       "      <td>130</td>\n",
       "      <td>0.761538</td>\n",
       "      <td>4188.0</td>\n",
       "      <td>1407800.0</td>\n",
       "      <td>192648.0</td>\n",
       "      <td>1.324265e+06</td>\n",
       "      <td>1.516913e+06</td>\n",
       "      <td>-109113.385827</td>\n",
       "    </tr>\n",
       "    <tr>\n",
       "      <th>2</th>\n",
       "      <td>136807.0</td>\n",
       "      <td>Anapa</td>\n",
       "      <td>Belgorod</td>\n",
       "      <td>Sukhoi Superjet-100</td>\n",
       "      <td>620</td>\n",
       "      <td>68</td>\n",
       "      <td>97</td>\n",
       "      <td>0.701031</td>\n",
       "      <td>1742.2</td>\n",
       "      <td>531000.0</td>\n",
       "      <td>80141.2</td>\n",
       "      <td>5.508919e+05</td>\n",
       "      <td>6.310331e+05</td>\n",
       "      <td>-100033.070866</td>\n",
       "    </tr>\n",
       "    <tr>\n",
       "      <th>3</th>\n",
       "      <td>136642.0</td>\n",
       "      <td>Anapa</td>\n",
       "      <td>Belgorod</td>\n",
       "      <td>Sukhoi Superjet-100</td>\n",
       "      <td>620</td>\n",
       "      <td>64</td>\n",
       "      <td>97</td>\n",
       "      <td>0.659794</td>\n",
       "      <td>1742.2</td>\n",
       "      <td>531000.0</td>\n",
       "      <td>80141.2</td>\n",
       "      <td>5.508919e+05</td>\n",
       "      <td>6.310331e+05</td>\n",
       "      <td>-100033.070866</td>\n",
       "    </tr>\n",
       "    <tr>\n",
       "      <th>4</th>\n",
       "      <td>136122.0</td>\n",
       "      <td>Anapa</td>\n",
       "      <td>Moscow</td>\n",
       "      <td>Boeing 737-300</td>\n",
       "      <td>1200</td>\n",
       "      <td>97</td>\n",
       "      <td>130</td>\n",
       "      <td>0.746154</td>\n",
       "      <td>4188.0</td>\n",
       "      <td>1431000.0</td>\n",
       "      <td>192648.0</td>\n",
       "      <td>1.324265e+06</td>\n",
       "      <td>1.516913e+06</td>\n",
       "      <td>-85913.385827</td>\n",
       "    </tr>\n",
       "  </tbody>\n",
       "</table>\n",
       "</div>"
      ],
      "text/plain": [
       "   flight_id departure_city destination                model  distance  \\\n",
       "0   136464.0          Anapa      Moscow       Boeing 737-300      1200   \n",
       "1   136250.0          Anapa      Moscow       Boeing 737-300      1200   \n",
       "2   136807.0          Anapa    Belgorod  Sukhoi Superjet-100       620   \n",
       "3   136642.0          Anapa    Belgorod  Sukhoi Superjet-100       620   \n",
       "4   136122.0          Anapa      Moscow       Boeing 737-300      1200   \n",
       "\n",
       "   tickets_sold  max_seats  load_factor  fuel_cons_total    revenue  \\\n",
       "0           100        130     0.769231           4188.0  1398000.0   \n",
       "1            99        130     0.761538           4188.0  1407800.0   \n",
       "2            68         97     0.701031           1742.2   531000.0   \n",
       "3            64         97     0.659794           1742.2   531000.0   \n",
       "4            97        130     0.746154           4188.0  1431000.0   \n",
       "\n",
       "   fuel_costs   other_costs   total_costs         profit  \n",
       "0    192648.0  1.324265e+06  1.516913e+06 -118913.385827  \n",
       "1    192648.0  1.324265e+06  1.516913e+06 -109113.385827  \n",
       "2     80141.2  5.508919e+05  6.310331e+05 -100033.070866  \n",
       "3     80141.2  5.508919e+05  6.310331e+05 -100033.070866  \n",
       "4    192648.0  1.324265e+06  1.516913e+06  -85913.385827  "
      ]
     },
     "execution_count": 8,
     "metadata": {},
     "output_type": "execute_result"
    }
   ],
   "source": [
    "df.head()"
   ]
  },
  {
   "cell_type": "code",
   "execution_count": 9,
   "metadata": {},
   "outputs": [
    {
     "data": {
      "text/plain": [
       "(127, 14)"
      ]
     },
     "execution_count": 9,
     "metadata": {},
     "output_type": "execute_result"
    }
   ],
   "source": [
    "df.shape"
   ]
  },
  {
   "cell_type": "code",
   "execution_count": 11,
   "metadata": {},
   "outputs": [],
   "source": [
    "df = df.dropna()"
   ]
  },
  {
   "cell_type": "code",
   "execution_count": 12,
   "metadata": {},
   "outputs": [
    {
     "data": {
      "text/plain": [
       "(118, 14)"
      ]
     },
     "execution_count": 12,
     "metadata": {},
     "output_type": "execute_result"
    }
   ],
   "source": [
    "df.shape"
   ]
  },
  {
   "cell_type": "code",
   "execution_count": 13,
   "metadata": {},
   "outputs": [
    {
     "data": {
      "text/html": [
       "<div>\n",
       "<style scoped>\n",
       "    .dataframe tbody tr th:only-of-type {\n",
       "        vertical-align: middle;\n",
       "    }\n",
       "\n",
       "    .dataframe tbody tr th {\n",
       "        vertical-align: top;\n",
       "    }\n",
       "\n",
       "    .dataframe thead th {\n",
       "        text-align: right;\n",
       "    }\n",
       "</style>\n",
       "<table border=\"1\" class=\"dataframe\">\n",
       "  <thead>\n",
       "    <tr style=\"text-align: right;\">\n",
       "      <th></th>\n",
       "      <th>flight_id</th>\n",
       "      <th>distance</th>\n",
       "      <th>tickets_sold</th>\n",
       "      <th>max_seats</th>\n",
       "      <th>load_factor</th>\n",
       "      <th>fuel_cons_total</th>\n",
       "      <th>revenue</th>\n",
       "      <th>fuel_costs</th>\n",
       "      <th>other_costs</th>\n",
       "      <th>total_costs</th>\n",
       "      <th>profit</th>\n",
       "    </tr>\n",
       "  </thead>\n",
       "  <tbody>\n",
       "    <tr>\n",
       "      <th>count</th>\n",
       "      <td>118.000000</td>\n",
       "      <td>118.000000</td>\n",
       "      <td>118.000000</td>\n",
       "      <td>118.000000</td>\n",
       "      <td>118.000000</td>\n",
       "      <td>118.000000</td>\n",
       "      <td>1.180000e+02</td>\n",
       "      <td>118.000000</td>\n",
       "      <td>1.180000e+02</td>\n",
       "      <td>1.180000e+02</td>\n",
       "      <td>118.000000</td>\n",
       "    </tr>\n",
       "    <tr>\n",
       "      <th>mean</th>\n",
       "      <td>136533.440678</td>\n",
       "      <td>910.000000</td>\n",
       "      <td>101.652542</td>\n",
       "      <td>113.500000</td>\n",
       "      <td>0.899950</td>\n",
       "      <td>2965.100000</td>\n",
       "      <td>1.176506e+06</td>\n",
       "      <td>136394.600000</td>\n",
       "      <td>9.375786e+05</td>\n",
       "      <td>1.073973e+06</td>\n",
       "      <td>102532.703857</td>\n",
       "    </tr>\n",
       "    <tr>\n",
       "      <th>std</th>\n",
       "      <td>261.971994</td>\n",
       "      <td>291.236679</td>\n",
       "      <td>14.295643</td>\n",
       "      <td>16.570363</td>\n",
       "      <td>0.081705</td>\n",
       "      <td>1228.114949</td>\n",
       "      <td>4.794251e+05</td>\n",
       "      <td>56493.287655</td>\n",
       "      <td>3.883357e+05</td>\n",
       "      <td>4.448290e+05</td>\n",
       "      <td>106347.800921</td>\n",
       "    </tr>\n",
       "    <tr>\n",
       "      <th>min</th>\n",
       "      <td>136119.000000</td>\n",
       "      <td>620.000000</td>\n",
       "      <td>64.000000</td>\n",
       "      <td>97.000000</td>\n",
       "      <td>0.659794</td>\n",
       "      <td>1742.200000</td>\n",
       "      <td>5.310000e+05</td>\n",
       "      <td>80141.200000</td>\n",
       "      <td>5.508919e+05</td>\n",
       "      <td>6.310331e+05</td>\n",
       "      <td>-118913.385827</td>\n",
       "    </tr>\n",
       "    <tr>\n",
       "      <th>25%</th>\n",
       "      <td>136286.250000</td>\n",
       "      <td>620.000000</td>\n",
       "      <td>95.000000</td>\n",
       "      <td>97.000000</td>\n",
       "      <td>0.835052</td>\n",
       "      <td>1742.200000</td>\n",
       "      <td>7.464000e+05</td>\n",
       "      <td>80141.200000</td>\n",
       "      <td>5.508919e+05</td>\n",
       "      <td>6.310331e+05</td>\n",
       "      <td>28981.692913</td>\n",
       "    </tr>\n",
       "    <tr>\n",
       "      <th>50%</th>\n",
       "      <td>136528.500000</td>\n",
       "      <td>910.000000</td>\n",
       "      <td>97.000000</td>\n",
       "      <td>113.500000</td>\n",
       "      <td>0.898454</td>\n",
       "      <td>2965.100000</td>\n",
       "      <td>1.081650e+06</td>\n",
       "      <td>136394.600000</td>\n",
       "      <td>9.375786e+05</td>\n",
       "      <td>1.073973e+06</td>\n",
       "      <td>115366.929134</td>\n",
       "    </tr>\n",
       "    <tr>\n",
       "      <th>75%</th>\n",
       "      <td>136768.500000</td>\n",
       "      <td>1200.000000</td>\n",
       "      <td>111.750000</td>\n",
       "      <td>130.000000</td>\n",
       "      <td>0.989691</td>\n",
       "      <td>4188.000000</td>\n",
       "      <td>1.625850e+06</td>\n",
       "      <td>192648.000000</td>\n",
       "      <td>1.324265e+06</td>\n",
       "      <td>1.516913e+06</td>\n",
       "      <td>134266.929134</td>\n",
       "    </tr>\n",
       "    <tr>\n",
       "      <th>max</th>\n",
       "      <td>136956.000000</td>\n",
       "      <td>1200.000000</td>\n",
       "      <td>130.000000</td>\n",
       "      <td>130.000000</td>\n",
       "      <td>1.000000</td>\n",
       "      <td>4188.000000</td>\n",
       "      <td>1.886000e+06</td>\n",
       "      <td>192648.000000</td>\n",
       "      <td>1.324265e+06</td>\n",
       "      <td>1.516913e+06</td>\n",
       "      <td>369086.614173</td>\n",
       "    </tr>\n",
       "  </tbody>\n",
       "</table>\n",
       "</div>"
      ],
      "text/plain": [
       "           flight_id     distance  tickets_sold   max_seats  load_factor  \\\n",
       "count     118.000000   118.000000    118.000000  118.000000   118.000000   \n",
       "mean   136533.440678   910.000000    101.652542  113.500000     0.899950   \n",
       "std       261.971994   291.236679     14.295643   16.570363     0.081705   \n",
       "min    136119.000000   620.000000     64.000000   97.000000     0.659794   \n",
       "25%    136286.250000   620.000000     95.000000   97.000000     0.835052   \n",
       "50%    136528.500000   910.000000     97.000000  113.500000     0.898454   \n",
       "75%    136768.500000  1200.000000    111.750000  130.000000     0.989691   \n",
       "max    136956.000000  1200.000000    130.000000  130.000000     1.000000   \n",
       "\n",
       "       fuel_cons_total       revenue     fuel_costs   other_costs  \\\n",
       "count       118.000000  1.180000e+02     118.000000  1.180000e+02   \n",
       "mean       2965.100000  1.176506e+06  136394.600000  9.375786e+05   \n",
       "std        1228.114949  4.794251e+05   56493.287655  3.883357e+05   \n",
       "min        1742.200000  5.310000e+05   80141.200000  5.508919e+05   \n",
       "25%        1742.200000  7.464000e+05   80141.200000  5.508919e+05   \n",
       "50%        2965.100000  1.081650e+06  136394.600000  9.375786e+05   \n",
       "75%        4188.000000  1.625850e+06  192648.000000  1.324265e+06   \n",
       "max        4188.000000  1.886000e+06  192648.000000  1.324265e+06   \n",
       "\n",
       "        total_costs         profit  \n",
       "count  1.180000e+02     118.000000  \n",
       "mean   1.073973e+06  102532.703857  \n",
       "std    4.448290e+05  106347.800921  \n",
       "min    6.310331e+05 -118913.385827  \n",
       "25%    6.310331e+05   28981.692913  \n",
       "50%    1.073973e+06  115366.929134  \n",
       "75%    1.516913e+06  134266.929134  \n",
       "max    1.516913e+06  369086.614173  "
      ]
     },
     "execution_count": 13,
     "metadata": {},
     "output_type": "execute_result"
    }
   ],
   "source": [
    "df.describe()"
   ]
  },
  {
   "cell_type": "markdown",
   "metadata": {},
   "source": [
    "### Анализ убыточности рейсов"
   ]
  },
  {
   "cell_type": "code",
   "execution_count": 77,
   "metadata": {},
   "outputs": [
    {
     "name": "stdout",
     "output_type": "stream",
     "text": [
      "Доля убыточных рейсов составляет 15.25 процентов\n"
     ]
    }
   ],
   "source": [
    "print(f'Доля убыточных рейсов составляет {round(df[df.profit < 0].shape[0] / df.shape[0] * 100, 2)} процентов')"
   ]
  },
  {
   "cell_type": "code",
   "execution_count": 27,
   "metadata": {},
   "outputs": [],
   "source": [
    "# ID всех убыточных рейсов\n",
    "\n",
    "unprofitable_flights = np.array(df[df.profit < 0].flight_id)"
   ]
  },
  {
   "cell_type": "code",
   "execution_count": 28,
   "metadata": {},
   "outputs": [
    {
     "data": {
      "text/plain": [
       "array([136464., 136250., 136807., 136642., 136122., 136178., 136360.,\n",
       "       136204., 136844., 136887., 136383., 136922., 136202., 136620.,\n",
       "       136486., 136823., 136888., 136937.])"
      ]
     },
     "execution_count": 28,
     "metadata": {},
     "output_type": "execute_result"
    }
   ],
   "source": [
    "unprofitable_flights"
   ]
  },
  {
   "cell_type": "code",
   "execution_count": 29,
   "metadata": {},
   "outputs": [
    {
     "data": {
      "text/plain": [
       "destination\n",
       "Belgorod    9\n",
       "Moscow      9\n",
       "Name: flight_id, dtype: int64"
      ]
     },
     "execution_count": 29,
     "metadata": {},
     "output_type": "execute_result"
    }
   ],
   "source": [
    "# Статистика убыточных рейсов по городам прилета\n",
    "\n",
    "df[df.profit < 0].groupby('destination')['flight_id'].count()"
   ]
  },
  {
   "cell_type": "code",
   "execution_count": 43,
   "metadata": {},
   "outputs": [],
   "source": [
    "good_flights = df[df.profit >= 0].sort_values(by='profit', ascending=False)"
   ]
  },
  {
   "cell_type": "code",
   "execution_count": 32,
   "metadata": {},
   "outputs": [],
   "source": [
    "bad_flights = df[df.profit < 0].sort_values('destination')"
   ]
  },
  {
   "cell_type": "code",
   "execution_count": 34,
   "metadata": {},
   "outputs": [
    {
     "data": {
      "text/html": [
       "<div>\n",
       "<style scoped>\n",
       "    .dataframe tbody tr th:only-of-type {\n",
       "        vertical-align: middle;\n",
       "    }\n",
       "\n",
       "    .dataframe tbody tr th {\n",
       "        vertical-align: top;\n",
       "    }\n",
       "\n",
       "    .dataframe thead th {\n",
       "        text-align: right;\n",
       "    }\n",
       "</style>\n",
       "<table border=\"1\" class=\"dataframe\">\n",
       "  <thead>\n",
       "    <tr style=\"text-align: right;\">\n",
       "      <th></th>\n",
       "      <th>flight_id</th>\n",
       "      <th>departure_city</th>\n",
       "      <th>destination</th>\n",
       "      <th>model</th>\n",
       "      <th>distance</th>\n",
       "      <th>tickets_sold</th>\n",
       "      <th>max_seats</th>\n",
       "      <th>load_factor</th>\n",
       "      <th>fuel_cons_total</th>\n",
       "      <th>revenue</th>\n",
       "      <th>fuel_costs</th>\n",
       "      <th>other_costs</th>\n",
       "      <th>total_costs</th>\n",
       "      <th>profit</th>\n",
       "    </tr>\n",
       "  </thead>\n",
       "  <tbody>\n",
       "    <tr>\n",
       "      <th>8</th>\n",
       "      <td>136844.0</td>\n",
       "      <td>Anapa</td>\n",
       "      <td>Belgorod</td>\n",
       "      <td>Sukhoi Superjet-100</td>\n",
       "      <td>620</td>\n",
       "      <td>79</td>\n",
       "      <td>97</td>\n",
       "      <td>0.814433</td>\n",
       "      <td>1742.2</td>\n",
       "      <td>575100.0</td>\n",
       "      <td>80141.2</td>\n",
       "      <td>550891.870866</td>\n",
       "      <td>631033.070866</td>\n",
       "      <td>-55933.070866</td>\n",
       "    </tr>\n",
       "    <tr>\n",
       "      <th>15</th>\n",
       "      <td>136823.0</td>\n",
       "      <td>Anapa</td>\n",
       "      <td>Belgorod</td>\n",
       "      <td>Sukhoi Superjet-100</td>\n",
       "      <td>620</td>\n",
       "      <td>78</td>\n",
       "      <td>97</td>\n",
       "      <td>0.804124</td>\n",
       "      <td>1742.2</td>\n",
       "      <td>620400.0</td>\n",
       "      <td>80141.2</td>\n",
       "      <td>550891.870866</td>\n",
       "      <td>631033.070866</td>\n",
       "      <td>-10633.070866</td>\n",
       "    </tr>\n",
       "    <tr>\n",
       "      <th>13</th>\n",
       "      <td>136620.0</td>\n",
       "      <td>Anapa</td>\n",
       "      <td>Belgorod</td>\n",
       "      <td>Sukhoi Superjet-100</td>\n",
       "      <td>620</td>\n",
       "      <td>79</td>\n",
       "      <td>97</td>\n",
       "      <td>0.814433</td>\n",
       "      <td>1742.2</td>\n",
       "      <td>613500.0</td>\n",
       "      <td>80141.2</td>\n",
       "      <td>550891.870866</td>\n",
       "      <td>631033.070866</td>\n",
       "      <td>-17533.070866</td>\n",
       "    </tr>\n",
       "    <tr>\n",
       "      <th>11</th>\n",
       "      <td>136922.0</td>\n",
       "      <td>Anapa</td>\n",
       "      <td>Belgorod</td>\n",
       "      <td>Sukhoi Superjet-100</td>\n",
       "      <td>620</td>\n",
       "      <td>76</td>\n",
       "      <td>97</td>\n",
       "      <td>0.783505</td>\n",
       "      <td>1742.2</td>\n",
       "      <td>607800.0</td>\n",
       "      <td>80141.2</td>\n",
       "      <td>550891.870866</td>\n",
       "      <td>631033.070866</td>\n",
       "      <td>-23233.070866</td>\n",
       "    </tr>\n",
       "    <tr>\n",
       "      <th>9</th>\n",
       "      <td>136887.0</td>\n",
       "      <td>Anapa</td>\n",
       "      <td>Belgorod</td>\n",
       "      <td>Sukhoi Superjet-100</td>\n",
       "      <td>620</td>\n",
       "      <td>78</td>\n",
       "      <td>97</td>\n",
       "      <td>0.804124</td>\n",
       "      <td>1742.2</td>\n",
       "      <td>595200.0</td>\n",
       "      <td>80141.2</td>\n",
       "      <td>550891.870866</td>\n",
       "      <td>631033.070866</td>\n",
       "      <td>-35833.070866</td>\n",
       "    </tr>\n",
       "  </tbody>\n",
       "</table>\n",
       "</div>"
      ],
      "text/plain": [
       "    flight_id departure_city destination                model  distance  \\\n",
       "8    136844.0          Anapa    Belgorod  Sukhoi Superjet-100       620   \n",
       "15   136823.0          Anapa    Belgorod  Sukhoi Superjet-100       620   \n",
       "13   136620.0          Anapa    Belgorod  Sukhoi Superjet-100       620   \n",
       "11   136922.0          Anapa    Belgorod  Sukhoi Superjet-100       620   \n",
       "9    136887.0          Anapa    Belgorod  Sukhoi Superjet-100       620   \n",
       "\n",
       "    tickets_sold  max_seats  load_factor  fuel_cons_total   revenue  \\\n",
       "8             79         97     0.814433           1742.2  575100.0   \n",
       "15            78         97     0.804124           1742.2  620400.0   \n",
       "13            79         97     0.814433           1742.2  613500.0   \n",
       "11            76         97     0.783505           1742.2  607800.0   \n",
       "9             78         97     0.804124           1742.2  595200.0   \n",
       "\n",
       "    fuel_costs    other_costs    total_costs        profit  \n",
       "8      80141.2  550891.870866  631033.070866 -55933.070866  \n",
       "15     80141.2  550891.870866  631033.070866 -10633.070866  \n",
       "13     80141.2  550891.870866  631033.070866 -17533.070866  \n",
       "11     80141.2  550891.870866  631033.070866 -23233.070866  \n",
       "9      80141.2  550891.870866  631033.070866 -35833.070866  "
      ]
     },
     "execution_count": 34,
     "metadata": {},
     "output_type": "execute_result"
    }
   ],
   "source": [
    "bad_flights.head()"
   ]
  },
  {
   "cell_type": "code",
   "execution_count": 36,
   "metadata": {},
   "outputs": [],
   "source": [
    "# ID всех убыточных рейсов в Москву\n",
    "\n",
    "bad_flights_Moscow = np.array(bad_flights[bad_flights.destination == 'Moscow'].flight_id)"
   ]
  },
  {
   "cell_type": "code",
   "execution_count": 37,
   "metadata": {},
   "outputs": [
    {
     "data": {
      "text/plain": [
       "array([136204., 136178., 136122., 136383., 136202., 136486., 136250.,\n",
       "       136360., 136464.])"
      ]
     },
     "execution_count": 37,
     "metadata": {},
     "output_type": "execute_result"
    }
   ],
   "source": [
    "print(bad_flights_Moscow)"
   ]
  },
  {
   "cell_type": "code",
   "execution_count": 38,
   "metadata": {},
   "outputs": [],
   "source": [
    "# ID всех убыточных рейсов в Белгород\n",
    "\n",
    "bad_flights_Belgorod = np.array(bad_flights[bad_flights.destination == 'Belgorod'].flight_id)"
   ]
  },
  {
   "cell_type": "code",
   "execution_count": 39,
   "metadata": {},
   "outputs": [
    {
     "data": {
      "text/plain": [
       "array([136844., 136823., 136620., 136922., 136887., 136888., 136937.,\n",
       "       136642., 136807.])"
      ]
     },
     "execution_count": 39,
     "metadata": {},
     "output_type": "execute_result"
    }
   ],
   "source": [
    "bad_flights_Belgorod"
   ]
  },
  {
   "cell_type": "code",
   "execution_count": 79,
   "metadata": {},
   "outputs": [
    {
     "data": {
      "text/html": [
       "<div>\n",
       "<style scoped>\n",
       "    .dataframe tbody tr th:only-of-type {\n",
       "        vertical-align: middle;\n",
       "    }\n",
       "\n",
       "    .dataframe tbody tr th {\n",
       "        vertical-align: top;\n",
       "    }\n",
       "\n",
       "    .dataframe thead th {\n",
       "        text-align: right;\n",
       "    }\n",
       "</style>\n",
       "<table border=\"1\" class=\"dataframe\">\n",
       "  <thead>\n",
       "    <tr style=\"text-align: right;\">\n",
       "      <th></th>\n",
       "      <th>flight_id</th>\n",
       "      <th>departure_city</th>\n",
       "      <th>destination</th>\n",
       "      <th>model</th>\n",
       "      <th>distance</th>\n",
       "      <th>tickets_sold</th>\n",
       "      <th>max_seats</th>\n",
       "      <th>load_factor</th>\n",
       "      <th>fuel_cons_total</th>\n",
       "      <th>revenue</th>\n",
       "      <th>fuel_costs</th>\n",
       "      <th>other_costs</th>\n",
       "      <th>total_costs</th>\n",
       "      <th>profit</th>\n",
       "    </tr>\n",
       "  </thead>\n",
       "  <tbody>\n",
       "    <tr>\n",
       "      <th>117</th>\n",
       "      <td>136226.0</td>\n",
       "      <td>Anapa</td>\n",
       "      <td>Moscow</td>\n",
       "      <td>Boeing 737-300</td>\n",
       "      <td>1200</td>\n",
       "      <td>130</td>\n",
       "      <td>130</td>\n",
       "      <td>1.000000</td>\n",
       "      <td>4188.0</td>\n",
       "      <td>1886000.0</td>\n",
       "      <td>192648.0</td>\n",
       "      <td>1.324265e+06</td>\n",
       "      <td>1.516913e+06</td>\n",
       "      <td>369086.614173</td>\n",
       "    </tr>\n",
       "    <tr>\n",
       "      <th>116</th>\n",
       "      <td>136316.0</td>\n",
       "      <td>Anapa</td>\n",
       "      <td>Moscow</td>\n",
       "      <td>Boeing 737-300</td>\n",
       "      <td>1200</td>\n",
       "      <td>130</td>\n",
       "      <td>130</td>\n",
       "      <td>1.000000</td>\n",
       "      <td>4188.0</td>\n",
       "      <td>1886000.0</td>\n",
       "      <td>192648.0</td>\n",
       "      <td>1.324265e+06</td>\n",
       "      <td>1.516913e+06</td>\n",
       "      <td>369086.614173</td>\n",
       "    </tr>\n",
       "    <tr>\n",
       "      <th>115</th>\n",
       "      <td>136403.0</td>\n",
       "      <td>Anapa</td>\n",
       "      <td>Moscow</td>\n",
       "      <td>Boeing 737-300</td>\n",
       "      <td>1200</td>\n",
       "      <td>129</td>\n",
       "      <td>130</td>\n",
       "      <td>0.992308</td>\n",
       "      <td>4188.0</td>\n",
       "      <td>1873800.0</td>\n",
       "      <td>192648.0</td>\n",
       "      <td>1.324265e+06</td>\n",
       "      <td>1.516913e+06</td>\n",
       "      <td>356886.614173</td>\n",
       "    </tr>\n",
       "    <tr>\n",
       "      <th>114</th>\n",
       "      <td>136389.0</td>\n",
       "      <td>Anapa</td>\n",
       "      <td>Moscow</td>\n",
       "      <td>Boeing 737-300</td>\n",
       "      <td>1200</td>\n",
       "      <td>129</td>\n",
       "      <td>130</td>\n",
       "      <td>0.992308</td>\n",
       "      <td>4188.0</td>\n",
       "      <td>1873800.0</td>\n",
       "      <td>192648.0</td>\n",
       "      <td>1.324265e+06</td>\n",
       "      <td>1.516913e+06</td>\n",
       "      <td>356886.614173</td>\n",
       "    </tr>\n",
       "    <tr>\n",
       "      <th>113</th>\n",
       "      <td>136423.0</td>\n",
       "      <td>Anapa</td>\n",
       "      <td>Moscow</td>\n",
       "      <td>Boeing 737-300</td>\n",
       "      <td>1200</td>\n",
       "      <td>129</td>\n",
       "      <td>130</td>\n",
       "      <td>0.992308</td>\n",
       "      <td>4188.0</td>\n",
       "      <td>1849400.0</td>\n",
       "      <td>192648.0</td>\n",
       "      <td>1.324265e+06</td>\n",
       "      <td>1.516913e+06</td>\n",
       "      <td>332486.614173</td>\n",
       "    </tr>\n",
       "  </tbody>\n",
       "</table>\n",
       "</div>"
      ],
      "text/plain": [
       "     flight_id departure_city destination           model  distance  \\\n",
       "117   136226.0          Anapa      Moscow  Boeing 737-300      1200   \n",
       "116   136316.0          Anapa      Moscow  Boeing 737-300      1200   \n",
       "115   136403.0          Anapa      Moscow  Boeing 737-300      1200   \n",
       "114   136389.0          Anapa      Moscow  Boeing 737-300      1200   \n",
       "113   136423.0          Anapa      Moscow  Boeing 737-300      1200   \n",
       "\n",
       "     tickets_sold  max_seats  load_factor  fuel_cons_total    revenue  \\\n",
       "117           130        130     1.000000           4188.0  1886000.0   \n",
       "116           130        130     1.000000           4188.0  1886000.0   \n",
       "115           129        130     0.992308           4188.0  1873800.0   \n",
       "114           129        130     0.992308           4188.0  1873800.0   \n",
       "113           129        130     0.992308           4188.0  1849400.0   \n",
       "\n",
       "     fuel_costs   other_costs   total_costs         profit  \n",
       "117    192648.0  1.324265e+06  1.516913e+06  369086.614173  \n",
       "116    192648.0  1.324265e+06  1.516913e+06  369086.614173  \n",
       "115    192648.0  1.324265e+06  1.516913e+06  356886.614173  \n",
       "114    192648.0  1.324265e+06  1.516913e+06  356886.614173  \n",
       "113    192648.0  1.324265e+06  1.516913e+06  332486.614173  "
      ]
     },
     "execution_count": 79,
     "metadata": {},
     "output_type": "execute_result"
    }
   ],
   "source": [
    "good_flights.head()"
   ]
  },
  {
   "cell_type": "code",
   "execution_count": 45,
   "metadata": {},
   "outputs": [
    {
     "data": {
      "text/plain": [
       "destination\n",
       "Belgorod    100756.929134\n",
       "Moscow      159750.614173\n",
       "Name: profit, dtype: float64"
      ]
     },
     "execution_count": 45,
     "metadata": {},
     "output_type": "execute_result"
    }
   ],
   "source": [
    "# Средняя прибыльность прибыльных рейсов по городам прилета\n",
    "\n",
    "good_flights.groupby('destination')['profit'].mean()"
   ]
  },
  {
   "cell_type": "markdown",
   "metadata": {},
   "source": [
    "Рейсы в Москву в зимние месяцы в среднем прибыльнее, чем рейсы в Белгород"
   ]
  },
  {
   "cell_type": "code",
   "execution_count": 52,
   "metadata": {},
   "outputs": [
    {
     "data": {
      "text/plain": [
       "model\n",
       "Boeing 737-300         159750.614173\n",
       "Sukhoi Superjet-100    100756.929134\n",
       "Name: profit, dtype: float64"
      ]
     },
     "execution_count": 52,
     "metadata": {},
     "output_type": "execute_result"
    }
   ],
   "source": [
    "# Средняя прибыльность прибыльных рейсов по моделям самолета\n",
    "\n",
    "good_flights.groupby('model')['profit'].mean()"
   ]
  },
  {
   "cell_type": "markdown",
   "metadata": {},
   "source": [
    "Боинг в среднем существеннее прибыльнее Сухого"
   ]
  },
  {
   "cell_type": "code",
   "execution_count": 51,
   "metadata": {},
   "outputs": [
    {
     "name": "stdout",
     "output_type": "stream",
     "text": [
      "Средняя прибыльность всех зимних рейсов из Анапы составляет 102532.7 руб\n"
     ]
    }
   ],
   "source": [
    "print(f'Средняя прибыльность всех зимних рейсов из Анапы составляет {round(df.describe().iloc[1, -1], 2)} руб')"
   ]
  },
  {
   "cell_type": "markdown",
   "metadata": {},
   "source": [
    "Проверим гипотезу о наличии положительной корреляции между заполняемостью и прибыльностью рейсов"
   ]
  },
  {
   "cell_type": "code",
   "execution_count": 46,
   "metadata": {},
   "outputs": [],
   "source": [
    "corr_mat = df.loc[:, ['load_factor', 'profit']].corr()"
   ]
  },
  {
   "cell_type": "code",
   "execution_count": 47,
   "metadata": {},
   "outputs": [
    {
     "data": {
      "text/html": [
       "<div>\n",
       "<style scoped>\n",
       "    .dataframe tbody tr th:only-of-type {\n",
       "        vertical-align: middle;\n",
       "    }\n",
       "\n",
       "    .dataframe tbody tr th {\n",
       "        vertical-align: top;\n",
       "    }\n",
       "\n",
       "    .dataframe thead th {\n",
       "        text-align: right;\n",
       "    }\n",
       "</style>\n",
       "<table border=\"1\" class=\"dataframe\">\n",
       "  <thead>\n",
       "    <tr style=\"text-align: right;\">\n",
       "      <th></th>\n",
       "      <th>load_factor</th>\n",
       "      <th>profit</th>\n",
       "    </tr>\n",
       "  </thead>\n",
       "  <tbody>\n",
       "    <tr>\n",
       "      <th>load_factor</th>\n",
       "      <td>1.000000</td>\n",
       "      <td>0.733636</td>\n",
       "    </tr>\n",
       "    <tr>\n",
       "      <th>profit</th>\n",
       "      <td>0.733636</td>\n",
       "      <td>1.000000</td>\n",
       "    </tr>\n",
       "  </tbody>\n",
       "</table>\n",
       "</div>"
      ],
      "text/plain": [
       "             load_factor    profit\n",
       "load_factor     1.000000  0.733636\n",
       "profit          0.733636  1.000000"
      ]
     },
     "execution_count": 47,
     "metadata": {},
     "output_type": "execute_result"
    }
   ],
   "source": [
    "corr_mat"
   ]
  },
  {
   "cell_type": "markdown",
   "metadata": {},
   "source": [
    "Наблюдаем сильную положительную корреляцию. Чем выше доля заполненных мест в самолете, тем выше прибыльность рейса."
   ]
  }
 ],
 "metadata": {
  "kernelspec": {
   "display_name": "Python 3",
   "language": "python",
   "name": "python3"
  },
  "language_info": {
   "codemirror_mode": {
    "name": "ipython",
    "version": 3
   },
   "file_extension": ".py",
   "mimetype": "text/x-python",
   "name": "python",
   "nbconvert_exporter": "python",
   "pygments_lexer": "ipython3",
   "version": "3.8.3"
  }
 },
 "nbformat": 4,
 "nbformat_minor": 4
}
