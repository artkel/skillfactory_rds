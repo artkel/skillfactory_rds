{
 "cells": [
  {
   "cell_type": "markdown",
   "metadata": {},
   "source": [
    "![](https://www.pata.org/wp-content/uploads/2014/09/TripAdvisor_Logo-300x119.png)\n",
    "# Predict TripAdvisor Rating\n",
    "## В этом соревновании нам предстоит предсказать рейтинг ресторана в TripAdvisor\n",
    "**По ходу задачи:**\n",
    "* Прокачаем работу с pandas\n",
    "* Научимся работать с Kaggle Notebooks\n",
    "* Поймем как делать предобработку различных данных\n",
    "* Научимся работать с пропущенными данными (Nan)\n",
    "* Познакомимся с различными видами кодирования признаков\n",
    "* Немного попробуем [Feature Engineering](https://ru.wikipedia.org/wiki/Конструирование_признаков) (генерировать новые признаки)\n",
    "* И совсем немного затронем ML\n",
    "* И многое другое...   \n",
    "\n",
    "\n",
    "\n",
    "### И самое важное, все это вы сможете сделать самостоятельно!\n",
    "\n",
    "*Этот Ноутбук являетсся Примером/Шаблоном к этому соревнованию (Baseline) и не служит готовым решением!*   \n",
    "Вы можете использовать его как основу для построения своего решения.\n",
    "\n",
    "> что такое baseline решение, зачем оно нужно и почему предоставлять baseline к соревнованию стало важным стандартом на kaggle и других площадках.   \n",
    "**baseline** создается больше как шаблон, где можно посмотреть как происходит обращение с входящими данными и что нужно получить на выходе. При этом МЛ начинка может быть достаточно простой, просто для примера. Это помогает быстрее приступить к самому МЛ, а не тратить ценное время на чисто инженерные задачи. \n",
    "Также baseline являеться хорошей опорной точкой по метрике. Если твое решение хуже baseline - ты явно делаешь что-то не то и стоит попробовать другой путь) \n",
    "\n",
    "В контексте нашего соревнования baseline идет с небольшими примерами того, что можно делать с данными, и с инструкцией, что делать дальше, чтобы улучшить результат.  Вообще готовым решением это сложно назвать, так как используются всего 2 самых простых признака (а остальные исключаются)."
   ]
  },
  {
   "cell_type": "markdown",
   "metadata": {},
   "source": [
    "## Загрузка данных"
   ]
  },
  {
   "cell_type": "code",
   "execution_count": 1,
   "metadata": {
    "_cell_guid": "b1076dfc-b9ad-4769-8c92-a6c4dae69d19",
    "_uuid": "8f2839f25d086af736a60e9eeb907d3b93b6e0e5"
   },
   "outputs": [],
   "source": [
    "# This Python 3 environment comes with many helpful analytics libraries installed\n",
    "# It is defined by the kaggle/python docker image: https://github.com/kaggle/docker-python\n",
    "# For example, here's several helpful packages to load in \n",
    "\n",
    "import numpy as np # linear algebra\n",
    "import pandas as pd # data processing, CSV file I/O (e.g. pd.read_csv)\n",
    "\n",
    "import matplotlib.pyplot as plt\n",
    "import seaborn as sns \n",
    "%matplotlib inline\n",
    "\n",
    "# Загружаем специальный удобный инструмент для разделения датасета:\n",
    "from sklearn.model_selection import train_test_split\n",
    "\n",
    "from datetime import datetime, timedelta\n",
    "\n",
    "from sklearn.experimental import enable_iterative_imputer\n",
    "from sklearn.impute import IterativeImputer\n",
    "from sklearn.tree import DecisionTreeRegressor\n",
    "from sklearn.tree import DecisionTreeClassifier\n",
    "from sklearn.ensemble import RandomForestRegressor\n",
    "from sklearn import metrics\n",
    "from sklearn.preprocessing import OneHotEncoder, MultiLabelBinarizer\n",
    "\n",
    "import category_encoders as ce\n",
    "\n",
    "import warnings\n",
    "warnings.filterwarnings('ignore')\n",
    "\n",
    "# Input data files are available in the \"../input/\" directory.\n",
    "# For example, running this (by clicking run or pressing Shift+Enter) will list all files under the input directory\n",
    "\n",
    "import os\n",
    "for dirname, _, filenames in os.walk('/kaggle/input'):\n",
    "    for filename in filenames:\n",
    "        print(os.path.join(dirname, filename))\n",
    "\n",
    "# Any results you write to the current directory are saved as output."
   ]
  },
  {
   "cell_type": "code",
   "execution_count": 2,
   "metadata": {},
   "outputs": [],
   "source": [
    "RANDOM_SEED = 42"
   ]
  },
  {
   "cell_type": "code",
   "execution_count": 3,
   "metadata": {},
   "outputs": [],
   "source": [
    "# # зафиксируем версию пакетов, чтобы эксперименты были воспроизводимы:\n",
    "# !pip freeze > requirements.txt"
   ]
  },
  {
   "cell_type": "markdown",
   "metadata": {},
   "source": [
    "## Первичный осмотр данных"
   ]
  },
  {
   "cell_type": "code",
   "execution_count": 4,
   "metadata": {
    "_cell_guid": "79c7e3d0-c299-4dcb-8224-4455121ee9b0",
    "_uuid": "d629ff2d2480ee46fbb7e2d37f6b5fab8052498a"
   },
   "outputs": [],
   "source": [
    "# DATA_DIR = '/kaggle/input/sf-dst-restaurant-rating/'\n",
    "df_train = pd.read_csv('main_task.csv')\n",
    "df_test = pd.read_csv('kaggle_task.csv')\n",
    "sample_submission = pd.read_csv('sample_submission.csv')"
   ]
  },
  {
   "cell_type": "code",
   "execution_count": 5,
   "metadata": {},
   "outputs": [
    {
     "name": "stdout",
     "output_type": "stream",
     "text": [
      "<class 'pandas.core.frame.DataFrame'>\n",
      "RangeIndex: 40000 entries, 0 to 39999\n",
      "Data columns (total 10 columns):\n",
      " #   Column             Non-Null Count  Dtype  \n",
      "---  ------             --------------  -----  \n",
      " 0   Restaurant_id      40000 non-null  object \n",
      " 1   City               40000 non-null  object \n",
      " 2   Cuisine Style      30717 non-null  object \n",
      " 3   Ranking            40000 non-null  float64\n",
      " 4   Rating             40000 non-null  float64\n",
      " 5   Price Range        26114 non-null  object \n",
      " 6   Number of Reviews  37457 non-null  float64\n",
      " 7   Reviews            40000 non-null  object \n",
      " 8   URL_TA             40000 non-null  object \n",
      " 9   ID_TA              40000 non-null  object \n",
      "dtypes: float64(3), object(7)\n",
      "memory usage: 3.1+ MB\n"
     ]
    }
   ],
   "source": [
    "df_train.info()"
   ]
  },
  {
   "cell_type": "code",
   "execution_count": 6,
   "metadata": {},
   "outputs": [
    {
     "data": {
      "text/html": [
       "<div>\n",
       "<style scoped>\n",
       "    .dataframe tbody tr th:only-of-type {\n",
       "        vertical-align: middle;\n",
       "    }\n",
       "\n",
       "    .dataframe tbody tr th {\n",
       "        vertical-align: top;\n",
       "    }\n",
       "\n",
       "    .dataframe thead th {\n",
       "        text-align: right;\n",
       "    }\n",
       "</style>\n",
       "<table border=\"1\" class=\"dataframe\">\n",
       "  <thead>\n",
       "    <tr style=\"text-align: right;\">\n",
       "      <th></th>\n",
       "      <th>Restaurant_id</th>\n",
       "      <th>City</th>\n",
       "      <th>Cuisine Style</th>\n",
       "      <th>Ranking</th>\n",
       "      <th>Rating</th>\n",
       "      <th>Price Range</th>\n",
       "      <th>Number of Reviews</th>\n",
       "      <th>Reviews</th>\n",
       "      <th>URL_TA</th>\n",
       "      <th>ID_TA</th>\n",
       "    </tr>\n",
       "  </thead>\n",
       "  <tbody>\n",
       "    <tr>\n",
       "      <th>0</th>\n",
       "      <td>id_5569</td>\n",
       "      <td>Paris</td>\n",
       "      <td>['European', 'French', 'International']</td>\n",
       "      <td>5570.0</td>\n",
       "      <td>3.5</td>\n",
       "      <td>$$ - $$$</td>\n",
       "      <td>194.0</td>\n",
       "      <td>[['Good food at your doorstep', 'A good hotel ...</td>\n",
       "      <td>/Restaurant_Review-g187147-d1912643-Reviews-R_...</td>\n",
       "      <td>d1912643</td>\n",
       "    </tr>\n",
       "    <tr>\n",
       "      <th>1</th>\n",
       "      <td>id_1535</td>\n",
       "      <td>Stockholm</td>\n",
       "      <td>NaN</td>\n",
       "      <td>1537.0</td>\n",
       "      <td>4.0</td>\n",
       "      <td>NaN</td>\n",
       "      <td>10.0</td>\n",
       "      <td>[['Unique cuisine', 'Delicious Nepalese food']...</td>\n",
       "      <td>/Restaurant_Review-g189852-d7992032-Reviews-Bu...</td>\n",
       "      <td>d7992032</td>\n",
       "    </tr>\n",
       "    <tr>\n",
       "      <th>2</th>\n",
       "      <td>id_352</td>\n",
       "      <td>London</td>\n",
       "      <td>['Japanese', 'Sushi', 'Asian', 'Grill', 'Veget...</td>\n",
       "      <td>353.0</td>\n",
       "      <td>4.5</td>\n",
       "      <td>$$$$</td>\n",
       "      <td>688.0</td>\n",
       "      <td>[['Catch up with friends', 'Not exceptional'],...</td>\n",
       "      <td>/Restaurant_Review-g186338-d8632781-Reviews-RO...</td>\n",
       "      <td>d8632781</td>\n",
       "    </tr>\n",
       "    <tr>\n",
       "      <th>3</th>\n",
       "      <td>id_3456</td>\n",
       "      <td>Berlin</td>\n",
       "      <td>NaN</td>\n",
       "      <td>3458.0</td>\n",
       "      <td>5.0</td>\n",
       "      <td>NaN</td>\n",
       "      <td>3.0</td>\n",
       "      <td>[[], []]</td>\n",
       "      <td>/Restaurant_Review-g187323-d1358776-Reviews-Es...</td>\n",
       "      <td>d1358776</td>\n",
       "    </tr>\n",
       "    <tr>\n",
       "      <th>4</th>\n",
       "      <td>id_615</td>\n",
       "      <td>Munich</td>\n",
       "      <td>['German', 'Central European', 'Vegetarian Fri...</td>\n",
       "      <td>621.0</td>\n",
       "      <td>4.0</td>\n",
       "      <td>$$ - $$$</td>\n",
       "      <td>84.0</td>\n",
       "      <td>[['Best place to try a Bavarian food', 'Nice b...</td>\n",
       "      <td>/Restaurant_Review-g187309-d6864963-Reviews-Au...</td>\n",
       "      <td>d6864963</td>\n",
       "    </tr>\n",
       "  </tbody>\n",
       "</table>\n",
       "</div>"
      ],
      "text/plain": [
       "  Restaurant_id       City                                      Cuisine Style  \\\n",
       "0       id_5569      Paris            ['European', 'French', 'International']   \n",
       "1       id_1535  Stockholm                                                NaN   \n",
       "2        id_352     London  ['Japanese', 'Sushi', 'Asian', 'Grill', 'Veget...   \n",
       "3       id_3456     Berlin                                                NaN   \n",
       "4        id_615     Munich  ['German', 'Central European', 'Vegetarian Fri...   \n",
       "\n",
       "   Ranking  Rating Price Range  Number of Reviews  \\\n",
       "0   5570.0     3.5    $$ - $$$              194.0   \n",
       "1   1537.0     4.0         NaN               10.0   \n",
       "2    353.0     4.5        $$$$              688.0   \n",
       "3   3458.0     5.0         NaN                3.0   \n",
       "4    621.0     4.0    $$ - $$$               84.0   \n",
       "\n",
       "                                             Reviews  \\\n",
       "0  [['Good food at your doorstep', 'A good hotel ...   \n",
       "1  [['Unique cuisine', 'Delicious Nepalese food']...   \n",
       "2  [['Catch up with friends', 'Not exceptional'],...   \n",
       "3                                           [[], []]   \n",
       "4  [['Best place to try a Bavarian food', 'Nice b...   \n",
       "\n",
       "                                              URL_TA     ID_TA  \n",
       "0  /Restaurant_Review-g187147-d1912643-Reviews-R_...  d1912643  \n",
       "1  /Restaurant_Review-g189852-d7992032-Reviews-Bu...  d7992032  \n",
       "2  /Restaurant_Review-g186338-d8632781-Reviews-RO...  d8632781  \n",
       "3  /Restaurant_Review-g187323-d1358776-Reviews-Es...  d1358776  \n",
       "4  /Restaurant_Review-g187309-d6864963-Reviews-Au...  d6864963  "
      ]
     },
     "execution_count": 6,
     "metadata": {},
     "output_type": "execute_result"
    }
   ],
   "source": [
    "df_train.head(5)"
   ]
  },
  {
   "cell_type": "code",
   "execution_count": 7,
   "metadata": {},
   "outputs": [
    {
     "name": "stdout",
     "output_type": "stream",
     "text": [
      "<class 'pandas.core.frame.DataFrame'>\n",
      "RangeIndex: 10000 entries, 0 to 9999\n",
      "Data columns (total 9 columns):\n",
      " #   Column             Non-Null Count  Dtype  \n",
      "---  ------             --------------  -----  \n",
      " 0   Restaurant_id      10000 non-null  object \n",
      " 1   City               10000 non-null  object \n",
      " 2   Cuisine Style      7693 non-null   object \n",
      " 3   Ranking            10000 non-null  float64\n",
      " 4   Price Range        6525 non-null   object \n",
      " 5   Number of Reviews  9343 non-null   float64\n",
      " 6   Reviews            9998 non-null   object \n",
      " 7   URL_TA             10000 non-null  object \n",
      " 8   ID_TA              10000 non-null  object \n",
      "dtypes: float64(2), object(7)\n",
      "memory usage: 703.2+ KB\n"
     ]
    }
   ],
   "source": [
    "df_test.info()"
   ]
  },
  {
   "cell_type": "code",
   "execution_count": 8,
   "metadata": {},
   "outputs": [
    {
     "data": {
      "text/html": [
       "<div>\n",
       "<style scoped>\n",
       "    .dataframe tbody tr th:only-of-type {\n",
       "        vertical-align: middle;\n",
       "    }\n",
       "\n",
       "    .dataframe tbody tr th {\n",
       "        vertical-align: top;\n",
       "    }\n",
       "\n",
       "    .dataframe thead th {\n",
       "        text-align: right;\n",
       "    }\n",
       "</style>\n",
       "<table border=\"1\" class=\"dataframe\">\n",
       "  <thead>\n",
       "    <tr style=\"text-align: right;\">\n",
       "      <th></th>\n",
       "      <th>Restaurant_id</th>\n",
       "      <th>City</th>\n",
       "      <th>Cuisine Style</th>\n",
       "      <th>Ranking</th>\n",
       "      <th>Price Range</th>\n",
       "      <th>Number of Reviews</th>\n",
       "      <th>Reviews</th>\n",
       "      <th>URL_TA</th>\n",
       "      <th>ID_TA</th>\n",
       "    </tr>\n",
       "  </thead>\n",
       "  <tbody>\n",
       "    <tr>\n",
       "      <th>0</th>\n",
       "      <td>id_0</td>\n",
       "      <td>Paris</td>\n",
       "      <td>['Bar', 'Pub']</td>\n",
       "      <td>12963.0</td>\n",
       "      <td>$$ - $$$</td>\n",
       "      <td>4.0</td>\n",
       "      <td>[[], []]</td>\n",
       "      <td>/Restaurant_Review-g187147-d10746918-Reviews-L...</td>\n",
       "      <td>d10746918</td>\n",
       "    </tr>\n",
       "    <tr>\n",
       "      <th>1</th>\n",
       "      <td>id_1</td>\n",
       "      <td>Helsinki</td>\n",
       "      <td>['European', 'Scandinavian', 'Gluten Free Opti...</td>\n",
       "      <td>106.0</td>\n",
       "      <td>$$ - $$$</td>\n",
       "      <td>97.0</td>\n",
       "      <td>[['Very good reviews!', 'Fine dining in Hakani...</td>\n",
       "      <td>/Restaurant_Review-g189934-d6674944-Reviews-Ra...</td>\n",
       "      <td>d6674944</td>\n",
       "    </tr>\n",
       "    <tr>\n",
       "      <th>2</th>\n",
       "      <td>id_2</td>\n",
       "      <td>Edinburgh</td>\n",
       "      <td>['Vegetarian Friendly']</td>\n",
       "      <td>810.0</td>\n",
       "      <td>$$ - $$$</td>\n",
       "      <td>28.0</td>\n",
       "      <td>[['Better than the Links', 'Ivy Black'], ['12/...</td>\n",
       "      <td>/Restaurant_Review-g186525-d13129638-Reviews-B...</td>\n",
       "      <td>d13129638</td>\n",
       "    </tr>\n",
       "    <tr>\n",
       "      <th>3</th>\n",
       "      <td>id_3</td>\n",
       "      <td>London</td>\n",
       "      <td>['Italian', 'Mediterranean', 'European', 'Vege...</td>\n",
       "      <td>1669.0</td>\n",
       "      <td>$$$$</td>\n",
       "      <td>202.0</td>\n",
       "      <td>[['Most exquisite', 'Delicious and authentic']...</td>\n",
       "      <td>/Restaurant_Review-g186338-d680417-Reviews-Qui...</td>\n",
       "      <td>d680417</td>\n",
       "    </tr>\n",
       "    <tr>\n",
       "      <th>4</th>\n",
       "      <td>id_4</td>\n",
       "      <td>Bratislava</td>\n",
       "      <td>['Italian', 'Mediterranean', 'European', 'Seaf...</td>\n",
       "      <td>37.0</td>\n",
       "      <td>$$$$</td>\n",
       "      <td>162.0</td>\n",
       "      <td>[['Always the best in bratislava', 'Very good ...</td>\n",
       "      <td>/Restaurant_Review-g274924-d1112354-Reviews-Ma...</td>\n",
       "      <td>d1112354</td>\n",
       "    </tr>\n",
       "  </tbody>\n",
       "</table>\n",
       "</div>"
      ],
      "text/plain": [
       "  Restaurant_id        City  \\\n",
       "0          id_0       Paris   \n",
       "1          id_1    Helsinki   \n",
       "2          id_2   Edinburgh   \n",
       "3          id_3      London   \n",
       "4          id_4  Bratislava   \n",
       "\n",
       "                                       Cuisine Style  Ranking Price Range  \\\n",
       "0                                     ['Bar', 'Pub']  12963.0    $$ - $$$   \n",
       "1  ['European', 'Scandinavian', 'Gluten Free Opti...    106.0    $$ - $$$   \n",
       "2                            ['Vegetarian Friendly']    810.0    $$ - $$$   \n",
       "3  ['Italian', 'Mediterranean', 'European', 'Vege...   1669.0        $$$$   \n",
       "4  ['Italian', 'Mediterranean', 'European', 'Seaf...     37.0        $$$$   \n",
       "\n",
       "   Number of Reviews                                            Reviews  \\\n",
       "0                4.0                                           [[], []]   \n",
       "1               97.0  [['Very good reviews!', 'Fine dining in Hakani...   \n",
       "2               28.0  [['Better than the Links', 'Ivy Black'], ['12/...   \n",
       "3              202.0  [['Most exquisite', 'Delicious and authentic']...   \n",
       "4              162.0  [['Always the best in bratislava', 'Very good ...   \n",
       "\n",
       "                                              URL_TA      ID_TA  \n",
       "0  /Restaurant_Review-g187147-d10746918-Reviews-L...  d10746918  \n",
       "1  /Restaurant_Review-g189934-d6674944-Reviews-Ra...   d6674944  \n",
       "2  /Restaurant_Review-g186525-d13129638-Reviews-B...  d13129638  \n",
       "3  /Restaurant_Review-g186338-d680417-Reviews-Qui...    d680417  \n",
       "4  /Restaurant_Review-g274924-d1112354-Reviews-Ma...   d1112354  "
      ]
     },
     "execution_count": 8,
     "metadata": {},
     "output_type": "execute_result"
    }
   ],
   "source": [
    "df_test.head(5)"
   ]
  },
  {
   "cell_type": "code",
   "execution_count": 9,
   "metadata": {},
   "outputs": [
    {
     "data": {
      "text/html": [
       "<div>\n",
       "<style scoped>\n",
       "    .dataframe tbody tr th:only-of-type {\n",
       "        vertical-align: middle;\n",
       "    }\n",
       "\n",
       "    .dataframe tbody tr th {\n",
       "        vertical-align: top;\n",
       "    }\n",
       "\n",
       "    .dataframe thead th {\n",
       "        text-align: right;\n",
       "    }\n",
       "</style>\n",
       "<table border=\"1\" class=\"dataframe\">\n",
       "  <thead>\n",
       "    <tr style=\"text-align: right;\">\n",
       "      <th></th>\n",
       "      <th>Restaurant_id</th>\n",
       "      <th>Rating</th>\n",
       "    </tr>\n",
       "  </thead>\n",
       "  <tbody>\n",
       "    <tr>\n",
       "      <th>0</th>\n",
       "      <td>id_0</td>\n",
       "      <td>2.0</td>\n",
       "    </tr>\n",
       "    <tr>\n",
       "      <th>1</th>\n",
       "      <td>id_1</td>\n",
       "      <td>2.5</td>\n",
       "    </tr>\n",
       "    <tr>\n",
       "      <th>2</th>\n",
       "      <td>id_2</td>\n",
       "      <td>4.0</td>\n",
       "    </tr>\n",
       "    <tr>\n",
       "      <th>3</th>\n",
       "      <td>id_3</td>\n",
       "      <td>1.0</td>\n",
       "    </tr>\n",
       "    <tr>\n",
       "      <th>4</th>\n",
       "      <td>id_4</td>\n",
       "      <td>4.0</td>\n",
       "    </tr>\n",
       "  </tbody>\n",
       "</table>\n",
       "</div>"
      ],
      "text/plain": [
       "  Restaurant_id  Rating\n",
       "0          id_0     2.0\n",
       "1          id_1     2.5\n",
       "2          id_2     4.0\n",
       "3          id_3     1.0\n",
       "4          id_4     4.0"
      ]
     },
     "execution_count": 9,
     "metadata": {},
     "output_type": "execute_result"
    }
   ],
   "source": [
    "sample_submission.head(5)"
   ]
  },
  {
   "cell_type": "code",
   "execution_count": 10,
   "metadata": {},
   "outputs": [
    {
     "name": "stdout",
     "output_type": "stream",
     "text": [
      "<class 'pandas.core.frame.DataFrame'>\n",
      "RangeIndex: 10000 entries, 0 to 9999\n",
      "Data columns (total 2 columns):\n",
      " #   Column         Non-Null Count  Dtype  \n",
      "---  ------         --------------  -----  \n",
      " 0   Restaurant_id  10000 non-null  object \n",
      " 1   Rating         10000 non-null  float64\n",
      "dtypes: float64(1), object(1)\n",
      "memory usage: 156.4+ KB\n"
     ]
    }
   ],
   "source": [
    "sample_submission.info()"
   ]
  },
  {
   "cell_type": "code",
   "execution_count": 11,
   "metadata": {},
   "outputs": [],
   "source": [
    "# ВАЖНО! дря корректной обработки признаков объединяем трейн и тест в один датасет\n",
    "df_train['sample'] = 1 # помечаем где у нас трейн\n",
    "df_test['sample'] = 0 # помечаем где у нас тест\n",
    "df_test['Rating'] = 0 # в тесте у нас нет значения Rating, мы его должны предсказать, поэтому пока просто заполняем нулями\n",
    "\n",
    "data = df_test.append(df_train, sort=False).reset_index(drop=True) # объединяем\n",
    "df = data.copy()"
   ]
  },
  {
   "cell_type": "code",
   "execution_count": 12,
   "metadata": {},
   "outputs": [
    {
     "data": {
      "text/plain": [
       "(50000, 11)"
      ]
     },
     "execution_count": 12,
     "metadata": {},
     "output_type": "execute_result"
    }
   ],
   "source": [
    "df.shape"
   ]
  },
  {
   "cell_type": "code",
   "execution_count": 13,
   "metadata": {},
   "outputs": [
    {
     "name": "stdout",
     "output_type": "stream",
     "text": [
      "<class 'pandas.core.frame.DataFrame'>\n",
      "RangeIndex: 50000 entries, 0 to 49999\n",
      "Data columns (total 11 columns):\n",
      " #   Column             Non-Null Count  Dtype  \n",
      "---  ------             --------------  -----  \n",
      " 0   Restaurant_id      50000 non-null  object \n",
      " 1   City               50000 non-null  object \n",
      " 2   Cuisine Style      38410 non-null  object \n",
      " 3   Ranking            50000 non-null  float64\n",
      " 4   Price Range        32639 non-null  object \n",
      " 5   Number of Reviews  46800 non-null  float64\n",
      " 6   Reviews            49998 non-null  object \n",
      " 7   URL_TA             50000 non-null  object \n",
      " 8   ID_TA              50000 non-null  object \n",
      " 9   sample             50000 non-null  int64  \n",
      " 10  Rating             50000 non-null  float64\n",
      "dtypes: float64(3), int64(1), object(7)\n",
      "memory usage: 4.2+ MB\n"
     ]
    }
   ],
   "source": [
    "df.info()"
   ]
  },
  {
   "cell_type": "code",
   "execution_count": 14,
   "metadata": {},
   "outputs": [
    {
     "data": {
      "text/html": [
       "<div>\n",
       "<style scoped>\n",
       "    .dataframe tbody tr th:only-of-type {\n",
       "        vertical-align: middle;\n",
       "    }\n",
       "\n",
       "    .dataframe tbody tr th {\n",
       "        vertical-align: top;\n",
       "    }\n",
       "\n",
       "    .dataframe thead th {\n",
       "        text-align: right;\n",
       "    }\n",
       "</style>\n",
       "<table border=\"1\" class=\"dataframe\">\n",
       "  <thead>\n",
       "    <tr style=\"text-align: right;\">\n",
       "      <th></th>\n",
       "      <th>Restaurant_id</th>\n",
       "      <th>City</th>\n",
       "      <th>Cuisine Style</th>\n",
       "      <th>Ranking</th>\n",
       "      <th>Price Range</th>\n",
       "      <th>Number of Reviews</th>\n",
       "      <th>Reviews</th>\n",
       "      <th>URL_TA</th>\n",
       "      <th>ID_TA</th>\n",
       "      <th>sample</th>\n",
       "      <th>Rating</th>\n",
       "    </tr>\n",
       "  </thead>\n",
       "  <tbody>\n",
       "    <tr>\n",
       "      <th>0</th>\n",
       "      <td>id_0</td>\n",
       "      <td>Paris</td>\n",
       "      <td>['Bar', 'Pub']</td>\n",
       "      <td>12963.0</td>\n",
       "      <td>$$ - $$$</td>\n",
       "      <td>4.0</td>\n",
       "      <td>[[], []]</td>\n",
       "      <td>/Restaurant_Review-g187147-d10746918-Reviews-L...</td>\n",
       "      <td>d10746918</td>\n",
       "      <td>0</td>\n",
       "      <td>0.0</td>\n",
       "    </tr>\n",
       "    <tr>\n",
       "      <th>1</th>\n",
       "      <td>id_1</td>\n",
       "      <td>Helsinki</td>\n",
       "      <td>['European', 'Scandinavian', 'Gluten Free Opti...</td>\n",
       "      <td>106.0</td>\n",
       "      <td>$$ - $$$</td>\n",
       "      <td>97.0</td>\n",
       "      <td>[['Very good reviews!', 'Fine dining in Hakani...</td>\n",
       "      <td>/Restaurant_Review-g189934-d6674944-Reviews-Ra...</td>\n",
       "      <td>d6674944</td>\n",
       "      <td>0</td>\n",
       "      <td>0.0</td>\n",
       "    </tr>\n",
       "    <tr>\n",
       "      <th>2</th>\n",
       "      <td>id_2</td>\n",
       "      <td>Edinburgh</td>\n",
       "      <td>['Vegetarian Friendly']</td>\n",
       "      <td>810.0</td>\n",
       "      <td>$$ - $$$</td>\n",
       "      <td>28.0</td>\n",
       "      <td>[['Better than the Links', 'Ivy Black'], ['12/...</td>\n",
       "      <td>/Restaurant_Review-g186525-d13129638-Reviews-B...</td>\n",
       "      <td>d13129638</td>\n",
       "      <td>0</td>\n",
       "      <td>0.0</td>\n",
       "    </tr>\n",
       "    <tr>\n",
       "      <th>3</th>\n",
       "      <td>id_3</td>\n",
       "      <td>London</td>\n",
       "      <td>['Italian', 'Mediterranean', 'European', 'Vege...</td>\n",
       "      <td>1669.0</td>\n",
       "      <td>$$$$</td>\n",
       "      <td>202.0</td>\n",
       "      <td>[['Most exquisite', 'Delicious and authentic']...</td>\n",
       "      <td>/Restaurant_Review-g186338-d680417-Reviews-Qui...</td>\n",
       "      <td>d680417</td>\n",
       "      <td>0</td>\n",
       "      <td>0.0</td>\n",
       "    </tr>\n",
       "    <tr>\n",
       "      <th>4</th>\n",
       "      <td>id_4</td>\n",
       "      <td>Bratislava</td>\n",
       "      <td>['Italian', 'Mediterranean', 'European', 'Seaf...</td>\n",
       "      <td>37.0</td>\n",
       "      <td>$$$$</td>\n",
       "      <td>162.0</td>\n",
       "      <td>[['Always the best in bratislava', 'Very good ...</td>\n",
       "      <td>/Restaurant_Review-g274924-d1112354-Reviews-Ma...</td>\n",
       "      <td>d1112354</td>\n",
       "      <td>0</td>\n",
       "      <td>0.0</td>\n",
       "    </tr>\n",
       "  </tbody>\n",
       "</table>\n",
       "</div>"
      ],
      "text/plain": [
       "  Restaurant_id        City  \\\n",
       "0          id_0       Paris   \n",
       "1          id_1    Helsinki   \n",
       "2          id_2   Edinburgh   \n",
       "3          id_3      London   \n",
       "4          id_4  Bratislava   \n",
       "\n",
       "                                       Cuisine Style  Ranking Price Range  \\\n",
       "0                                     ['Bar', 'Pub']  12963.0    $$ - $$$   \n",
       "1  ['European', 'Scandinavian', 'Gluten Free Opti...    106.0    $$ - $$$   \n",
       "2                            ['Vegetarian Friendly']    810.0    $$ - $$$   \n",
       "3  ['Italian', 'Mediterranean', 'European', 'Vege...   1669.0        $$$$   \n",
       "4  ['Italian', 'Mediterranean', 'European', 'Seaf...     37.0        $$$$   \n",
       "\n",
       "   Number of Reviews                                            Reviews  \\\n",
       "0                4.0                                           [[], []]   \n",
       "1               97.0  [['Very good reviews!', 'Fine dining in Hakani...   \n",
       "2               28.0  [['Better than the Links', 'Ivy Black'], ['12/...   \n",
       "3              202.0  [['Most exquisite', 'Delicious and authentic']...   \n",
       "4              162.0  [['Always the best in bratislava', 'Very good ...   \n",
       "\n",
       "                                              URL_TA      ID_TA  sample  \\\n",
       "0  /Restaurant_Review-g187147-d10746918-Reviews-L...  d10746918       0   \n",
       "1  /Restaurant_Review-g189934-d6674944-Reviews-Ra...   d6674944       0   \n",
       "2  /Restaurant_Review-g186525-d13129638-Reviews-B...  d13129638       0   \n",
       "3  /Restaurant_Review-g186338-d680417-Reviews-Qui...    d680417       0   \n",
       "4  /Restaurant_Review-g274924-d1112354-Reviews-Ma...   d1112354       0   \n",
       "\n",
       "   Rating  \n",
       "0     0.0  \n",
       "1     0.0  \n",
       "2     0.0  \n",
       "3     0.0  \n",
       "4     0.0  "
      ]
     },
     "execution_count": 14,
     "metadata": {},
     "output_type": "execute_result"
    }
   ],
   "source": [
    "df.head()"
   ]
  },
  {
   "cell_type": "code",
   "execution_count": 15,
   "metadata": {},
   "outputs": [
    {
     "data": {
      "text/html": [
       "<div>\n",
       "<style scoped>\n",
       "    .dataframe tbody tr th:only-of-type {\n",
       "        vertical-align: middle;\n",
       "    }\n",
       "\n",
       "    .dataframe tbody tr th {\n",
       "        vertical-align: top;\n",
       "    }\n",
       "\n",
       "    .dataframe thead th {\n",
       "        text-align: right;\n",
       "    }\n",
       "</style>\n",
       "<table border=\"1\" class=\"dataframe\">\n",
       "  <thead>\n",
       "    <tr style=\"text-align: right;\">\n",
       "      <th></th>\n",
       "      <th>Restaurant_id</th>\n",
       "      <th>City</th>\n",
       "      <th>Cuisine Style</th>\n",
       "      <th>Ranking</th>\n",
       "      <th>Price Range</th>\n",
       "      <th>Number of Reviews</th>\n",
       "      <th>Reviews</th>\n",
       "      <th>URL_TA</th>\n",
       "      <th>ID_TA</th>\n",
       "      <th>sample</th>\n",
       "      <th>Rating</th>\n",
       "    </tr>\n",
       "  </thead>\n",
       "  <tbody>\n",
       "    <tr>\n",
       "      <th>0</th>\n",
       "      <td>id_0</td>\n",
       "      <td>Paris</td>\n",
       "      <td>['Bar', 'Pub']</td>\n",
       "      <td>12963.0</td>\n",
       "      <td>$$ - $$$</td>\n",
       "      <td>4.0</td>\n",
       "      <td>[[], []]</td>\n",
       "      <td>/Restaurant_Review-g187147-d10746918-Reviews-L...</td>\n",
       "      <td>d10746918</td>\n",
       "      <td>0</td>\n",
       "      <td>0.0</td>\n",
       "    </tr>\n",
       "    <tr>\n",
       "      <th>1</th>\n",
       "      <td>id_1</td>\n",
       "      <td>Helsinki</td>\n",
       "      <td>['European', 'Scandinavian', 'Gluten Free Opti...</td>\n",
       "      <td>106.0</td>\n",
       "      <td>$$ - $$$</td>\n",
       "      <td>97.0</td>\n",
       "      <td>[['Very good reviews!', 'Fine dining in Hakani...</td>\n",
       "      <td>/Restaurant_Review-g189934-d6674944-Reviews-Ra...</td>\n",
       "      <td>d6674944</td>\n",
       "      <td>0</td>\n",
       "      <td>0.0</td>\n",
       "    </tr>\n",
       "    <tr>\n",
       "      <th>2</th>\n",
       "      <td>id_2</td>\n",
       "      <td>Edinburgh</td>\n",
       "      <td>['Vegetarian Friendly']</td>\n",
       "      <td>810.0</td>\n",
       "      <td>$$ - $$$</td>\n",
       "      <td>28.0</td>\n",
       "      <td>[['Better than the Links', 'Ivy Black'], ['12/...</td>\n",
       "      <td>/Restaurant_Review-g186525-d13129638-Reviews-B...</td>\n",
       "      <td>d13129638</td>\n",
       "      <td>0</td>\n",
       "      <td>0.0</td>\n",
       "    </tr>\n",
       "    <tr>\n",
       "      <th>3</th>\n",
       "      <td>id_3</td>\n",
       "      <td>London</td>\n",
       "      <td>['Italian', 'Mediterranean', 'European', 'Vege...</td>\n",
       "      <td>1669.0</td>\n",
       "      <td>$$$$</td>\n",
       "      <td>202.0</td>\n",
       "      <td>[['Most exquisite', 'Delicious and authentic']...</td>\n",
       "      <td>/Restaurant_Review-g186338-d680417-Reviews-Qui...</td>\n",
       "      <td>d680417</td>\n",
       "      <td>0</td>\n",
       "      <td>0.0</td>\n",
       "    </tr>\n",
       "    <tr>\n",
       "      <th>4</th>\n",
       "      <td>id_4</td>\n",
       "      <td>Bratislava</td>\n",
       "      <td>['Italian', 'Mediterranean', 'European', 'Seaf...</td>\n",
       "      <td>37.0</td>\n",
       "      <td>$$$$</td>\n",
       "      <td>162.0</td>\n",
       "      <td>[['Always the best in bratislava', 'Very good ...</td>\n",
       "      <td>/Restaurant_Review-g274924-d1112354-Reviews-Ma...</td>\n",
       "      <td>d1112354</td>\n",
       "      <td>0</td>\n",
       "      <td>0.0</td>\n",
       "    </tr>\n",
       "  </tbody>\n",
       "</table>\n",
       "</div>"
      ],
      "text/plain": [
       "  Restaurant_id        City  \\\n",
       "0          id_0       Paris   \n",
       "1          id_1    Helsinki   \n",
       "2          id_2   Edinburgh   \n",
       "3          id_3      London   \n",
       "4          id_4  Bratislava   \n",
       "\n",
       "                                       Cuisine Style  Ranking Price Range  \\\n",
       "0                                     ['Bar', 'Pub']  12963.0    $$ - $$$   \n",
       "1  ['European', 'Scandinavian', 'Gluten Free Opti...    106.0    $$ - $$$   \n",
       "2                            ['Vegetarian Friendly']    810.0    $$ - $$$   \n",
       "3  ['Italian', 'Mediterranean', 'European', 'Vege...   1669.0        $$$$   \n",
       "4  ['Italian', 'Mediterranean', 'European', 'Seaf...     37.0        $$$$   \n",
       "\n",
       "   Number of Reviews                                            Reviews  \\\n",
       "0                4.0                                           [[], []]   \n",
       "1               97.0  [['Very good reviews!', 'Fine dining in Hakani...   \n",
       "2               28.0  [['Better than the Links', 'Ivy Black'], ['12/...   \n",
       "3              202.0  [['Most exquisite', 'Delicious and authentic']...   \n",
       "4              162.0  [['Always the best in bratislava', 'Very good ...   \n",
       "\n",
       "                                              URL_TA      ID_TA  sample  \\\n",
       "0  /Restaurant_Review-g187147-d10746918-Reviews-L...  d10746918       0   \n",
       "1  /Restaurant_Review-g189934-d6674944-Reviews-Ra...   d6674944       0   \n",
       "2  /Restaurant_Review-g186525-d13129638-Reviews-B...  d13129638       0   \n",
       "3  /Restaurant_Review-g186338-d680417-Reviews-Qui...    d680417       0   \n",
       "4  /Restaurant_Review-g274924-d1112354-Reviews-Ma...   d1112354       0   \n",
       "\n",
       "   Rating  \n",
       "0     0.0  \n",
       "1     0.0  \n",
       "2     0.0  \n",
       "3     0.0  \n",
       "4     0.0  "
      ]
     },
     "execution_count": 15,
     "metadata": {},
     "output_type": "execute_result"
    }
   ],
   "source": [
    "df.head()"
   ]
  },
  {
   "cell_type": "markdown",
   "metadata": {},
   "source": [
    "Подробнее по признакам:\n",
    "* City: Город \n",
    "* Cuisine Style: Кухня\n",
    "* Ranking: Ранг ресторана относительно других ресторанов в этом городе\n",
    "* Price Range: Цены в ресторане в 3 категориях\n",
    "* Number of Reviews: Количество отзывов\n",
    "* Reviews: 2 последних отзыва и даты этих отзывов\n",
    "* URL_TA: страница ресторана на 'www.tripadvisor.com' \n",
    "* ID_TA: ID ресторана в TripAdvisor\n",
    "* Rating: Рейтинг ресторана"
   ]
  },
  {
   "cell_type": "markdown",
   "metadata": {},
   "source": [
    "Не похоже, чтобы признаки *Restaurant_id*, *URL_TA* и *ID_TA* несли в себе важную информацию для анализа. Избавимся от них."
   ]
  },
  {
   "cell_type": "code",
   "execution_count": 16,
   "metadata": {},
   "outputs": [],
   "source": [
    "df.drop([\"Restaurant_id\", \"URL_TA\", \"ID_TA\"], 1, inplace=True)"
   ]
  },
  {
   "cell_type": "markdown",
   "metadata": {},
   "source": [
    "Переименуем столбцы для удобства:"
   ]
  },
  {
   "cell_type": "code",
   "execution_count": 17,
   "metadata": {},
   "outputs": [],
   "source": [
    "df.columns = [\"city\", \"c_style\", \"ranking\", \"p_range\", \"n_reviews\", \"reviews\", \"sample\", \"rating\"]"
   ]
  },
  {
   "cell_type": "code",
   "execution_count": 18,
   "metadata": {},
   "outputs": [
    {
     "data": {
      "text/html": [
       "<div>\n",
       "<style scoped>\n",
       "    .dataframe tbody tr th:only-of-type {\n",
       "        vertical-align: middle;\n",
       "    }\n",
       "\n",
       "    .dataframe tbody tr th {\n",
       "        vertical-align: top;\n",
       "    }\n",
       "\n",
       "    .dataframe thead th {\n",
       "        text-align: right;\n",
       "    }\n",
       "</style>\n",
       "<table border=\"1\" class=\"dataframe\">\n",
       "  <thead>\n",
       "    <tr style=\"text-align: right;\">\n",
       "      <th></th>\n",
       "      <th>city</th>\n",
       "      <th>c_style</th>\n",
       "      <th>ranking</th>\n",
       "      <th>p_range</th>\n",
       "      <th>n_reviews</th>\n",
       "      <th>reviews</th>\n",
       "      <th>sample</th>\n",
       "      <th>rating</th>\n",
       "    </tr>\n",
       "  </thead>\n",
       "  <tbody>\n",
       "    <tr>\n",
       "      <th>727</th>\n",
       "      <td>Edinburgh</td>\n",
       "      <td>['Mexican', 'Vegetarian Friendly', 'Vegan Opti...</td>\n",
       "      <td>141.0</td>\n",
       "      <td>$$ - $$$</td>\n",
       "      <td>310.0</td>\n",
       "      <td>[['Great food! Excellent customer service!', '...</td>\n",
       "      <td>0</td>\n",
       "      <td>0.0</td>\n",
       "    </tr>\n",
       "    <tr>\n",
       "      <th>6624</th>\n",
       "      <td>Edinburgh</td>\n",
       "      <td>['Scottish', 'Vegetarian Friendly', 'Vegan Opt...</td>\n",
       "      <td>135.0</td>\n",
       "      <td>$$ - $$$</td>\n",
       "      <td>1351.0</td>\n",
       "      <td>[['Excellent food and excellent service!', 'Ex...</td>\n",
       "      <td>0</td>\n",
       "      <td>0.0</td>\n",
       "    </tr>\n",
       "    <tr>\n",
       "      <th>9029</th>\n",
       "      <td>Munich</td>\n",
       "      <td>['Cafe', 'European', 'Greek']</td>\n",
       "      <td>1311.0</td>\n",
       "      <td>$</td>\n",
       "      <td>5.0</td>\n",
       "      <td>[[], []]</td>\n",
       "      <td>0</td>\n",
       "      <td>0.0</td>\n",
       "    </tr>\n",
       "  </tbody>\n",
       "</table>\n",
       "</div>"
      ],
      "text/plain": [
       "           city                                            c_style  ranking  \\\n",
       "727   Edinburgh  ['Mexican', 'Vegetarian Friendly', 'Vegan Opti...    141.0   \n",
       "6624  Edinburgh  ['Scottish', 'Vegetarian Friendly', 'Vegan Opt...    135.0   \n",
       "9029     Munich                      ['Cafe', 'European', 'Greek']   1311.0   \n",
       "\n",
       "       p_range  n_reviews                                            reviews  \\\n",
       "727   $$ - $$$      310.0  [['Great food! Excellent customer service!', '...   \n",
       "6624  $$ - $$$     1351.0  [['Excellent food and excellent service!', 'Ex...   \n",
       "9029         $        5.0                                           [[], []]   \n",
       "\n",
       "      sample  rating  \n",
       "727        0     0.0  \n",
       "6624       0     0.0  \n",
       "9029       0     0.0  "
      ]
     },
     "execution_count": 18,
     "metadata": {},
     "output_type": "execute_result"
    }
   ],
   "source": [
    "df.sample(3)"
   ]
  },
  {
   "cell_type": "markdown",
   "metadata": {},
   "source": [
    "Посмотрим на распределение числовых переменных *ranking*, *rating* и *n_reviews*:"
   ]
  },
  {
   "cell_type": "code",
   "execution_count": 19,
   "metadata": {},
   "outputs": [
    {
     "data": {
      "image/png": "[encoded data removed]",
      "text/plain": [
       "<Figure size 1080x864 with 3 Axes>"
      ]
     },
     "metadata": {
      "needs_background": "light"
     },
     "output_type": "display_data"
    }
   ],
   "source": [
    "fig = plt.figure(figsize=(15,12))\n",
    "for index, col in enumerate(df.loc[:, [\"n_reviews\", \"ranking\", \"rating\"]]):\n",
    "    plt.subplot(4,3,index+1)\n",
    "    sns.distplot(df.loc[:, col], kde=False, bins=40)\n",
    "fig.tight_layout(pad=1.0)"
   ]
  },
  {
   "cell_type": "markdown",
   "metadata": {},
   "source": [
    "## Очистка и подготовка данных\n",
    "Обычно данные содержат в себе кучу мусора, который необходимо почистить, для того чтобы привести их в приемлемый формат. Чистка данных — это необходимый этап решения почти любой реальной задачи.   "
   ]
  },
  {
   "cell_type": "markdown",
   "metadata": {},
   "source": [
    "### 1. Обработка NAN \n",
    "У наличия пропусков могут быть разные причины, но пропуски нужно либо заполнить, либо исключить из набора полностью. Но с пропусками нужно быть внимательным, **даже отсутствие информации может быть важным признаком!**   \n",
    "По этому перед обработкой NAN лучше вынести информацию о наличии пропуска как отдельный признак "
   ]
  },
  {
   "cell_type": "code",
   "execution_count": 20,
   "metadata": {},
   "outputs": [
    {
     "data": {
      "text/plain": [
       "city             0\n",
       "c_style      11590\n",
       "ranking          0\n",
       "p_range      17361\n",
       "n_reviews     3200\n",
       "reviews          2\n",
       "sample           0\n",
       "rating           0\n",
       "dtype: int64"
      ]
     },
     "execution_count": 20,
     "metadata": {},
     "output_type": "execute_result"
    }
   ],
   "source": [
    "df.isna().sum()"
   ]
  },
  {
   "cell_type": "markdown",
   "metadata": {},
   "source": [
    "В признаках *c_style*, *p_range*, *reviews* и *n_reviews* наблюдаем пропуски."
   ]
  },
  {
   "cell_type": "markdown",
   "metadata": {},
   "source": [
    "Заполним два пропуска в признаке *reviews*:"
   ]
  },
  {
   "cell_type": "code",
   "execution_count": 21,
   "metadata": {},
   "outputs": [
    {
     "data": {
      "text/plain": [
       "[[], []]                                                                                               8112\n",
       "[['Nice restaurant in Madrid', 'Highly reccomended'], ['11/10/2017', '05/21/2017']]                       2\n",
       "[['Delicious'], ['06/06/2017']]                                                                           2\n",
       "[['Absolutely authentic and delicious!', 'Wonderful discovery'], ['09/30/2017', '08/04/2016']]            2\n",
       "[['Enjoyable restaurant with indoor and outdo...', 'Delicious food'], ['11/04/2017', '10/31/2017']]       2\n",
       "                                                                                                       ... \n",
       "[['Excellent food!!!', 'Easy on the pocket'], ['11/17/2017', '11/05/2017']]                               1\n",
       "[['Excellent lunch', 'Pleasant Neighborhood Cafe!'], ['01/04/2018', '06/27/2017']]                        1\n",
       "[['Authentic and friendly', 'Great Vietnamese food'], ['07/22/2017', '03/24/2017']]                       1\n",
       "[['Average', 'Very nice'], ['10/20/2017', '10/08/2017']]                                                  1\n",
       "[['Miam miam!', 'Good value for good food'], ['01/03/2018', '09/27/2017']]                                1\n",
       "Name: reviews, Length: 41857, dtype: int64"
      ]
     },
     "execution_count": 21,
     "metadata": {},
     "output_type": "execute_result"
    }
   ],
   "source": [
    "df.reviews.value_counts()"
   ]
  },
  {
   "cell_type": "code",
   "execution_count": 22,
   "metadata": {},
   "outputs": [],
   "source": [
    "df.reviews.fillna(df.reviews.value_counts().index[0], inplace=True)"
   ]
  },
  {
   "cell_type": "code",
   "execution_count": 23,
   "metadata": {},
   "outputs": [],
   "source": [
    "# df.dropna(thresh=6, inplace=True)\n",
    "# df = df.reset_index(drop=True)\n",
    "# print(f\"Наш датасет стал меньше на {data.shape[0]-df.shape[0]} наблюдений\")   "
   ]
  },
  {
   "cell_type": "code",
   "execution_count": 24,
   "metadata": {},
   "outputs": [
    {
     "data": {
      "text/plain": [
       "city             0\n",
       "c_style      11590\n",
       "ranking          0\n",
       "p_range      17361\n",
       "n_reviews     3200\n",
       "reviews          0\n",
       "sample           0\n",
       "rating           0\n",
       "dtype: int64"
      ]
     },
     "execution_count": 24,
     "metadata": {},
     "output_type": "execute_result"
    }
   ],
   "source": [
    "df.isna().sum()"
   ]
  },
  {
   "cell_type": "markdown",
   "metadata": {},
   "source": [
    "Займемся признаком *n_reviews* (кол-во отзывов)"
   ]
  },
  {
   "cell_type": "markdown",
   "metadata": {},
   "source": [
    "Пропуски в нём заполним, руководствуясь следующей логикой:\n",
    "- 0 - если в столбце *reviews* пусто, т.е. len('[[], []]') == 8\n",
    "- 1 - если в столбце *reviews* есть отзыв"
   ]
  },
  {
   "cell_type": "markdown",
   "metadata": {},
   "source": [
    "Но прежде сохраним информацию о наблюдениях с пропусками:"
   ]
  },
  {
   "cell_type": "code",
   "execution_count": 25,
   "metadata": {},
   "outputs": [],
   "source": [
    "df['n_reviews_isNAN'] = pd.isna(df['n_reviews']).astype('uint8')"
   ]
  },
  {
   "cell_type": "code",
   "execution_count": 26,
   "metadata": {},
   "outputs": [
    {
     "data": {
      "text/plain": [
       "0    46800\n",
       "1     3200\n",
       "Name: n_reviews_isNAN, dtype: int64"
      ]
     },
     "execution_count": 26,
     "metadata": {},
     "output_type": "execute_result"
    }
   ],
   "source": [
    "df['n_reviews_isNAN'].value_counts()"
   ]
  },
  {
   "cell_type": "code",
   "execution_count": 27,
   "metadata": {},
   "outputs": [],
   "source": [
    "\"\"\"Функция проверяет длину значения из reviews; \n",
    "в зависимости от результата заполняет пропуски в n_reviews значением 1 или 0\"\"\"\n",
    "def n_reviews(row):\n",
    "    if pd.isnull(row.n_reviews):\n",
    "        if len(row.reviews) > 8:\n",
    "            return 1\n",
    "        return 0\n",
    "    return row.n_reviews"
   ]
  },
  {
   "cell_type": "code",
   "execution_count": 28,
   "metadata": {},
   "outputs": [],
   "source": [
    "# Применим функцию\n",
    "df[\"n_reviews\"] = df.apply(n_reviews, 1)"
   ]
  },
  {
   "cell_type": "code",
   "execution_count": 29,
   "metadata": {},
   "outputs": [
    {
     "data": {
      "text/html": [
       "<div>\n",
       "<style scoped>\n",
       "    .dataframe tbody tr th:only-of-type {\n",
       "        vertical-align: middle;\n",
       "    }\n",
       "\n",
       "    .dataframe tbody tr th {\n",
       "        vertical-align: top;\n",
       "    }\n",
       "\n",
       "    .dataframe thead th {\n",
       "        text-align: right;\n",
       "    }\n",
       "</style>\n",
       "<table border=\"1\" class=\"dataframe\">\n",
       "  <thead>\n",
       "    <tr style=\"text-align: right;\">\n",
       "      <th></th>\n",
       "      <th>city</th>\n",
       "      <th>c_style</th>\n",
       "      <th>ranking</th>\n",
       "      <th>p_range</th>\n",
       "      <th>n_reviews</th>\n",
       "      <th>reviews</th>\n",
       "      <th>sample</th>\n",
       "      <th>rating</th>\n",
       "      <th>n_reviews_isNAN</th>\n",
       "    </tr>\n",
       "  </thead>\n",
       "  <tbody>\n",
       "    <tr>\n",
       "      <th>0</th>\n",
       "      <td>Paris</td>\n",
       "      <td>['Bar', 'Pub']</td>\n",
       "      <td>12963.0</td>\n",
       "      <td>$$ - $$$</td>\n",
       "      <td>4.0</td>\n",
       "      <td>[[], []]</td>\n",
       "      <td>0</td>\n",
       "      <td>0.0</td>\n",
       "      <td>0</td>\n",
       "    </tr>\n",
       "    <tr>\n",
       "      <th>1</th>\n",
       "      <td>Helsinki</td>\n",
       "      <td>['European', 'Scandinavian', 'Gluten Free Opti...</td>\n",
       "      <td>106.0</td>\n",
       "      <td>$$ - $$$</td>\n",
       "      <td>97.0</td>\n",
       "      <td>[['Very good reviews!', 'Fine dining in Hakani...</td>\n",
       "      <td>0</td>\n",
       "      <td>0.0</td>\n",
       "      <td>0</td>\n",
       "    </tr>\n",
       "    <tr>\n",
       "      <th>2</th>\n",
       "      <td>Edinburgh</td>\n",
       "      <td>['Vegetarian Friendly']</td>\n",
       "      <td>810.0</td>\n",
       "      <td>$$ - $$$</td>\n",
       "      <td>28.0</td>\n",
       "      <td>[['Better than the Links', 'Ivy Black'], ['12/...</td>\n",
       "      <td>0</td>\n",
       "      <td>0.0</td>\n",
       "      <td>0</td>\n",
       "    </tr>\n",
       "    <tr>\n",
       "      <th>3</th>\n",
       "      <td>London</td>\n",
       "      <td>['Italian', 'Mediterranean', 'European', 'Vege...</td>\n",
       "      <td>1669.0</td>\n",
       "      <td>$$$$</td>\n",
       "      <td>202.0</td>\n",
       "      <td>[['Most exquisite', 'Delicious and authentic']...</td>\n",
       "      <td>0</td>\n",
       "      <td>0.0</td>\n",
       "      <td>0</td>\n",
       "    </tr>\n",
       "    <tr>\n",
       "      <th>4</th>\n",
       "      <td>Bratislava</td>\n",
       "      <td>['Italian', 'Mediterranean', 'European', 'Seaf...</td>\n",
       "      <td>37.0</td>\n",
       "      <td>$$$$</td>\n",
       "      <td>162.0</td>\n",
       "      <td>[['Always the best in bratislava', 'Very good ...</td>\n",
       "      <td>0</td>\n",
       "      <td>0.0</td>\n",
       "      <td>0</td>\n",
       "    </tr>\n",
       "  </tbody>\n",
       "</table>\n",
       "</div>"
      ],
      "text/plain": [
       "         city                                            c_style  ranking  \\\n",
       "0       Paris                                     ['Bar', 'Pub']  12963.0   \n",
       "1    Helsinki  ['European', 'Scandinavian', 'Gluten Free Opti...    106.0   \n",
       "2   Edinburgh                            ['Vegetarian Friendly']    810.0   \n",
       "3      London  ['Italian', 'Mediterranean', 'European', 'Vege...   1669.0   \n",
       "4  Bratislava  ['Italian', 'Mediterranean', 'European', 'Seaf...     37.0   \n",
       "\n",
       "    p_range  n_reviews                                            reviews  \\\n",
       "0  $$ - $$$        4.0                                           [[], []]   \n",
       "1  $$ - $$$       97.0  [['Very good reviews!', 'Fine dining in Hakani...   \n",
       "2  $$ - $$$       28.0  [['Better than the Links', 'Ivy Black'], ['12/...   \n",
       "3      $$$$      202.0  [['Most exquisite', 'Delicious and authentic']...   \n",
       "4      $$$$      162.0  [['Always the best in bratislava', 'Very good ...   \n",
       "\n",
       "   sample  rating  n_reviews_isNAN  \n",
       "0       0     0.0                0  \n",
       "1       0     0.0                0  \n",
       "2       0     0.0                0  \n",
       "3       0     0.0                0  \n",
       "4       0     0.0                0  "
      ]
     },
     "execution_count": 29,
     "metadata": {},
     "output_type": "execute_result"
    }
   ],
   "source": [
    "df.head()"
   ]
  },
  {
   "cell_type": "code",
   "execution_count": 30,
   "metadata": {},
   "outputs": [
    {
     "data": {
      "text/plain": [
       "city                   0\n",
       "c_style            11590\n",
       "ranking                0\n",
       "p_range            17361\n",
       "n_reviews              0\n",
       "reviews                0\n",
       "sample                 0\n",
       "rating                 0\n",
       "n_reviews_isNAN        0\n",
       "dtype: int64"
      ]
     },
     "execution_count": 30,
     "metadata": {},
     "output_type": "execute_result"
    }
   ],
   "source": [
    "df.isna().sum()"
   ]
  },
  {
   "cell_type": "markdown",
   "metadata": {},
   "source": [
    "С пропусками в других признаках разберемся чуть позже. А пока сохраним информацию о наличии пропусков в этих признаках."
   ]
  },
  {
   "cell_type": "code",
   "execution_count": 31,
   "metadata": {},
   "outputs": [],
   "source": [
    "df['c_style_isNAN'] = pd.isna(df['c_style']).astype('uint8')\n",
    "df['p_range_isNAN'] = pd.isna(df['p_range']).astype('uint8')"
   ]
  },
  {
   "cell_type": "markdown",
   "metadata": {},
   "source": [
    "### 2. Обработка и добавление признаков"
   ]
  },
  {
   "cell_type": "markdown",
   "metadata": {},
   "source": [
    "### reviews: Два последних отзыва и даты этих отзывов"
   ]
  },
  {
   "cell_type": "markdown",
   "metadata": {},
   "source": [
    "Поработаем теперь с колонкой *reviews*. Нам нужно извлечь из нее информацию о датах."
   ]
  },
  {
   "cell_type": "code",
   "execution_count": 32,
   "metadata": {},
   "outputs": [
    {
     "data": {
      "text/plain": [
       "[[], []]                                                                                               8114\n",
       "[['Nice restaurant in Madrid', 'Highly reccomended'], ['11/10/2017', '05/21/2017']]                       2\n",
       "[['Delicious'], ['06/06/2017']]                                                                           2\n",
       "[['Absolutely authentic and delicious!', 'Wonderful discovery'], ['09/30/2017', '08/04/2016']]            2\n",
       "[['Enjoyable restaurant with indoor and outdo...', 'Delicious food'], ['11/04/2017', '10/31/2017']]       2\n",
       "[['Good Lebanese food', 'Decent place'], ['07/19/2017', '03/17/2017']]                                    2\n",
       "[['Very good all around', 'Our first Madrid restaurant'], ['11/20/2017', '10/11/2017']]                   2\n",
       "Name: reviews, dtype: int64"
      ]
     },
     "execution_count": 32,
     "metadata": {},
     "output_type": "execute_result"
    }
   ],
   "source": [
    "df.reviews.value_counts()[:7]"
   ]
  },
  {
   "cell_type": "markdown",
   "metadata": {},
   "source": [
    "Видим, что в этом признаке также много пропусков: \"[[], []]\". Для начала сохраним информацию о наблюдениях с пропусками."
   ]
  },
  {
   "cell_type": "code",
   "execution_count": 33,
   "metadata": {},
   "outputs": [],
   "source": [
    "df[\"reviews\"] = df.reviews.apply(lambda x: np.nan if x == \"[[], []]\" else x)\n",
    "df['reviews_isNAN'] = pd.isna(df['reviews']).astype('uint8')"
   ]
  },
  {
   "cell_type": "code",
   "execution_count": 34,
   "metadata": {},
   "outputs": [
    {
     "data": {
      "text/html": [
       "<div>\n",
       "<style scoped>\n",
       "    .dataframe tbody tr th:only-of-type {\n",
       "        vertical-align: middle;\n",
       "    }\n",
       "\n",
       "    .dataframe tbody tr th {\n",
       "        vertical-align: top;\n",
       "    }\n",
       "\n",
       "    .dataframe thead th {\n",
       "        text-align: right;\n",
       "    }\n",
       "</style>\n",
       "<table border=\"1\" class=\"dataframe\">\n",
       "  <thead>\n",
       "    <tr style=\"text-align: right;\">\n",
       "      <th></th>\n",
       "      <th>city</th>\n",
       "      <th>c_style</th>\n",
       "      <th>ranking</th>\n",
       "      <th>p_range</th>\n",
       "      <th>n_reviews</th>\n",
       "      <th>reviews</th>\n",
       "      <th>sample</th>\n",
       "      <th>rating</th>\n",
       "      <th>n_reviews_isNAN</th>\n",
       "      <th>c_style_isNAN</th>\n",
       "      <th>p_range_isNAN</th>\n",
       "      <th>reviews_isNAN</th>\n",
       "    </tr>\n",
       "  </thead>\n",
       "  <tbody>\n",
       "    <tr>\n",
       "      <th>0</th>\n",
       "      <td>Paris</td>\n",
       "      <td>['Bar', 'Pub']</td>\n",
       "      <td>12963.0</td>\n",
       "      <td>$$ - $$$</td>\n",
       "      <td>4.0</td>\n",
       "      <td>NaN</td>\n",
       "      <td>0</td>\n",
       "      <td>0.0</td>\n",
       "      <td>0</td>\n",
       "      <td>0</td>\n",
       "      <td>0</td>\n",
       "      <td>1</td>\n",
       "    </tr>\n",
       "    <tr>\n",
       "      <th>1</th>\n",
       "      <td>Helsinki</td>\n",
       "      <td>['European', 'Scandinavian', 'Gluten Free Opti...</td>\n",
       "      <td>106.0</td>\n",
       "      <td>$$ - $$$</td>\n",
       "      <td>97.0</td>\n",
       "      <td>[['Very good reviews!', 'Fine dining in Hakani...</td>\n",
       "      <td>0</td>\n",
       "      <td>0.0</td>\n",
       "      <td>0</td>\n",
       "      <td>0</td>\n",
       "      <td>0</td>\n",
       "      <td>0</td>\n",
       "    </tr>\n",
       "    <tr>\n",
       "      <th>2</th>\n",
       "      <td>Edinburgh</td>\n",
       "      <td>['Vegetarian Friendly']</td>\n",
       "      <td>810.0</td>\n",
       "      <td>$$ - $$$</td>\n",
       "      <td>28.0</td>\n",
       "      <td>[['Better than the Links', 'Ivy Black'], ['12/...</td>\n",
       "      <td>0</td>\n",
       "      <td>0.0</td>\n",
       "      <td>0</td>\n",
       "      <td>0</td>\n",
       "      <td>0</td>\n",
       "      <td>0</td>\n",
       "    </tr>\n",
       "    <tr>\n",
       "      <th>3</th>\n",
       "      <td>London</td>\n",
       "      <td>['Italian', 'Mediterranean', 'European', 'Vege...</td>\n",
       "      <td>1669.0</td>\n",
       "      <td>$$$$</td>\n",
       "      <td>202.0</td>\n",
       "      <td>[['Most exquisite', 'Delicious and authentic']...</td>\n",
       "      <td>0</td>\n",
       "      <td>0.0</td>\n",
       "      <td>0</td>\n",
       "      <td>0</td>\n",
       "      <td>0</td>\n",
       "      <td>0</td>\n",
       "    </tr>\n",
       "    <tr>\n",
       "      <th>4</th>\n",
       "      <td>Bratislava</td>\n",
       "      <td>['Italian', 'Mediterranean', 'European', 'Seaf...</td>\n",
       "      <td>37.0</td>\n",
       "      <td>$$$$</td>\n",
       "      <td>162.0</td>\n",
       "      <td>[['Always the best in bratislava', 'Very good ...</td>\n",
       "      <td>0</td>\n",
       "      <td>0.0</td>\n",
       "      <td>0</td>\n",
       "      <td>0</td>\n",
       "      <td>0</td>\n",
       "      <td>0</td>\n",
       "    </tr>\n",
       "  </tbody>\n",
       "</table>\n",
       "</div>"
      ],
      "text/plain": [
       "         city                                            c_style  ranking  \\\n",
       "0       Paris                                     ['Bar', 'Pub']  12963.0   \n",
       "1    Helsinki  ['European', 'Scandinavian', 'Gluten Free Opti...    106.0   \n",
       "2   Edinburgh                            ['Vegetarian Friendly']    810.0   \n",
       "3      London  ['Italian', 'Mediterranean', 'European', 'Vege...   1669.0   \n",
       "4  Bratislava  ['Italian', 'Mediterranean', 'European', 'Seaf...     37.0   \n",
       "\n",
       "    p_range  n_reviews                                            reviews  \\\n",
       "0  $$ - $$$        4.0                                                NaN   \n",
       "1  $$ - $$$       97.0  [['Very good reviews!', 'Fine dining in Hakani...   \n",
       "2  $$ - $$$       28.0  [['Better than the Links', 'Ivy Black'], ['12/...   \n",
       "3      $$$$      202.0  [['Most exquisite', 'Delicious and authentic']...   \n",
       "4      $$$$      162.0  [['Always the best in bratislava', 'Very good ...   \n",
       "\n",
       "   sample  rating  n_reviews_isNAN  c_style_isNAN  p_range_isNAN  \\\n",
       "0       0     0.0                0              0              0   \n",
       "1       0     0.0                0              0              0   \n",
       "2       0     0.0                0              0              0   \n",
       "3       0     0.0                0              0              0   \n",
       "4       0     0.0                0              0              0   \n",
       "\n",
       "   reviews_isNAN  \n",
       "0              1  \n",
       "1              0  \n",
       "2              0  \n",
       "3              0  \n",
       "4              0  "
      ]
     },
     "execution_count": 34,
     "metadata": {},
     "output_type": "execute_result"
    }
   ],
   "source": [
    "df.head()"
   ]
  },
  {
   "cell_type": "markdown",
   "metadata": {},
   "source": [
    "Извлечем даты из *reviews*:"
   ]
  },
  {
   "cell_type": "code",
   "execution_count": 35,
   "metadata": {},
   "outputs": [],
   "source": [
    "# Сделаем из строки лист (метод split)\n",
    "df[\"reviews_list\"] = df.reviews.apply(lambda x: x.split(\"],\") if type(x) != float else \"na\")\n",
    "\n",
    "# Сохраним второй элемент получившегося листа в отдельный столбец\n",
    "df[\"date_str\"] = df.reviews_list.apply(lambda x: x[1][2:-2].split(\", \") if type(x) != str else x)"
   ]
  },
  {
   "cell_type": "code",
   "execution_count": 36,
   "metadata": {},
   "outputs": [
    {
     "data": {
      "text/html": [
       "<div>\n",
       "<style scoped>\n",
       "    .dataframe tbody tr th:only-of-type {\n",
       "        vertical-align: middle;\n",
       "    }\n",
       "\n",
       "    .dataframe tbody tr th {\n",
       "        vertical-align: top;\n",
       "    }\n",
       "\n",
       "    .dataframe thead th {\n",
       "        text-align: right;\n",
       "    }\n",
       "</style>\n",
       "<table border=\"1\" class=\"dataframe\">\n",
       "  <thead>\n",
       "    <tr style=\"text-align: right;\">\n",
       "      <th></th>\n",
       "      <th>city</th>\n",
       "      <th>c_style</th>\n",
       "      <th>ranking</th>\n",
       "      <th>p_range</th>\n",
       "      <th>n_reviews</th>\n",
       "      <th>reviews</th>\n",
       "      <th>sample</th>\n",
       "      <th>rating</th>\n",
       "      <th>n_reviews_isNAN</th>\n",
       "      <th>c_style_isNAN</th>\n",
       "      <th>p_range_isNAN</th>\n",
       "      <th>reviews_isNAN</th>\n",
       "      <th>reviews_list</th>\n",
       "      <th>date_str</th>\n",
       "    </tr>\n",
       "  </thead>\n",
       "  <tbody>\n",
       "    <tr>\n",
       "      <th>10224</th>\n",
       "      <td>London</td>\n",
       "      <td>['Bar']</td>\n",
       "      <td>4786.0</td>\n",
       "      <td>$$ - $$$</td>\n",
       "      <td>85.0</td>\n",
       "      <td>[['Works Christmas do.', 'Truly excellent, hig...</td>\n",
       "      <td>1</td>\n",
       "      <td>4.5</td>\n",
       "      <td>0</td>\n",
       "      <td>0</td>\n",
       "      <td>0</td>\n",
       "      <td>0</td>\n",
       "      <td>[[['Works Christmas do.', 'Truly excellent, hi...</td>\n",
       "      <td>['12/14/2017', '11/30/2017']</td>\n",
       "    </tr>\n",
       "    <tr>\n",
       "      <th>49998</th>\n",
       "      <td>Warsaw</td>\n",
       "      <td>['Polish', 'European', 'Eastern European', 'Ce...</td>\n",
       "      <td>641.0</td>\n",
       "      <td>$$ - $$$</td>\n",
       "      <td>70.0</td>\n",
       "      <td>[['Underground restaurant', 'Oldest Restaurant...</td>\n",
       "      <td>1</td>\n",
       "      <td>4.0</td>\n",
       "      <td>0</td>\n",
       "      <td>0</td>\n",
       "      <td>0</td>\n",
       "      <td>0</td>\n",
       "      <td>[[['Underground restaurant', 'Oldest Restauran...</td>\n",
       "      <td>['07/11/2017', '06/18/2017']</td>\n",
       "    </tr>\n",
       "    <tr>\n",
       "      <th>34099</th>\n",
       "      <td>Amsterdam</td>\n",
       "      <td>['French', 'Cafe', 'European', 'Healthy', 'Veg...</td>\n",
       "      <td>375.0</td>\n",
       "      <td>$$ - $$$</td>\n",
       "      <td>197.0</td>\n",
       "      <td>[['Twice Charmed', 'Loved it!'], ['10/24/2017'...</td>\n",
       "      <td>1</td>\n",
       "      <td>4.5</td>\n",
       "      <td>0</td>\n",
       "      <td>0</td>\n",
       "      <td>0</td>\n",
       "      <td>0</td>\n",
       "      <td>[[['Twice Charmed', 'Loved it!',  ['10/24/2017...</td>\n",
       "      <td>['10/24/2017', '10/23/2017']</td>\n",
       "    </tr>\n",
       "  </tbody>\n",
       "</table>\n",
       "</div>"
      ],
      "text/plain": [
       "            city                                            c_style  ranking  \\\n",
       "10224     London                                            ['Bar']   4786.0   \n",
       "49998     Warsaw  ['Polish', 'European', 'Eastern European', 'Ce...    641.0   \n",
       "34099  Amsterdam  ['French', 'Cafe', 'European', 'Healthy', 'Veg...    375.0   \n",
       "\n",
       "        p_range  n_reviews                                            reviews  \\\n",
       "10224  $$ - $$$       85.0  [['Works Christmas do.', 'Truly excellent, hig...   \n",
       "49998  $$ - $$$       70.0  [['Underground restaurant', 'Oldest Restaurant...   \n",
       "34099  $$ - $$$      197.0  [['Twice Charmed', 'Loved it!'], ['10/24/2017'...   \n",
       "\n",
       "       sample  rating  n_reviews_isNAN  c_style_isNAN  p_range_isNAN  \\\n",
       "10224       1     4.5                0              0              0   \n",
       "49998       1     4.0                0              0              0   \n",
       "34099       1     4.5                0              0              0   \n",
       "\n",
       "       reviews_isNAN                                       reviews_list  \\\n",
       "10224              0  [[['Works Christmas do.', 'Truly excellent, hi...   \n",
       "49998              0  [[['Underground restaurant', 'Oldest Restauran...   \n",
       "34099              0  [[['Twice Charmed', 'Loved it!',  ['10/24/2017...   \n",
       "\n",
       "                           date_str  \n",
       "10224  ['12/14/2017', '11/30/2017']  \n",
       "49998  ['07/11/2017', '06/18/2017']  \n",
       "34099  ['10/24/2017', '10/23/2017']  "
      ]
     },
     "execution_count": 36,
     "metadata": {},
     "output_type": "execute_result"
    }
   ],
   "source": [
    "df.sample(3)"
   ]
  },
  {
   "cell_type": "markdown",
   "metadata": {},
   "source": [
    "Сконструируем признак, сообщающий модели, если у нас лишь один пример отзыва в *reviews*:"
   ]
  },
  {
   "cell_type": "code",
   "execution_count": 37,
   "metadata": {},
   "outputs": [],
   "source": [
    "df['rev_single'] = df.date_str.apply(lambda x: 1 if len(x) == 1 else 0)"
   ]
  },
  {
   "cell_type": "code",
   "execution_count": 38,
   "metadata": {},
   "outputs": [],
   "source": [
    "# Наконец, создадим колонки с датами\n",
    "df[\"date_1\"] = df.date_str.apply(lambda x: x[0] if type(x) != str else x)\n",
    "df[\"date_2\"] = df.date_str.apply(lambda x: x[1] if (type(x) != str) & (len(x) > 1) else x[0])"
   ]
  },
  {
   "cell_type": "markdown",
   "metadata": {},
   "source": [
    "Отлично! Теперь у нас в колонках *date_1* и *date_2* хранятся даты двух крайних отзывов. Но они все еще записаны как string; переведем их в **datetime** формат:"
   ]
  },
  {
   "cell_type": "code",
   "execution_count": 39,
   "metadata": {},
   "outputs": [
    {
     "name": "stdout",
     "output_type": "stream",
     "text": [
      "datetime64[ns] datetime64[ns]\n"
     ]
    }
   ],
   "source": [
    "df[\"date_1\"] = df.date_1.apply(lambda x: datetime.strptime(x, \"'%m/%d/%Y'\") if len(x) > 3 else np.nan)\n",
    "df[\"date_2\"] = df.date_2.apply(lambda x: datetime.strptime(x, \"'%m/%d/%Y'\") if len(x) > 3 else np.nan)\n",
    "\n",
    "print(df.date_1.dtypes, df.date_2.dtypes)"
   ]
  },
  {
   "cell_type": "markdown",
   "metadata": {},
   "source": [
    "Осталось лишь избавиться от вспомогательных колонок (*reviews*, *reviews_list*, *date_str*) и создать признак *date_delta*!"
   ]
  },
  {
   "cell_type": "code",
   "execution_count": 40,
   "metadata": {},
   "outputs": [],
   "source": [
    "df.drop([\"reviews\", \"reviews_list\", \"date_str\"], axis=1, inplace=True)\n",
    "\n",
    "df[\"date_delta\"] = abs(df[\"date_1\"] - df[\"date_2\"])\n",
    "df[\"date_delta\"] = df[\"date_delta\"].dt.days # Переведем дни в числовой формат"
   ]
  },
  {
   "cell_type": "markdown",
   "metadata": {},
   "source": [
    "Добавим также новый признак *rev_fresh*, хранящий информацию о кол-ве дней, прошедших с момента публикации последнего отзыва:"
   ]
  },
  {
   "cell_type": "code",
   "execution_count": 41,
   "metadata": {},
   "outputs": [],
   "source": [
    "def rev_freshness(row):\n",
    "    if (str(row.date_1) == \"NaT\") & (str(row.date_2) == \"NaT\"):\n",
    "        return np.nan\n",
    "    return (min(datetime.now() - row.date_1, datetime.now() - row.date_2)).days"
   ]
  },
  {
   "cell_type": "code",
   "execution_count": 42,
   "metadata": {},
   "outputs": [],
   "source": [
    "df[\"rev_fresh\"] = df.apply(rev_freshness, 1)"
   ]
  },
  {
   "cell_type": "code",
   "execution_count": 43,
   "metadata": {},
   "outputs": [
    {
     "data": {
      "text/plain": [
       "<AxesSubplot:>"
      ]
     },
     "execution_count": 43,
     "metadata": {},
     "output_type": "execute_result"
    },
    {
     "data": {
      "image/png": "[encoded data removed]",
      "text/plain": [
       "<Figure size 432x288 with 1 Axes>"
      ]
     },
     "metadata": {
      "needs_background": "light"
     },
     "output_type": "display_data"
    }
   ],
   "source": [
    "df[\"rev_fresh\"].hist(bins=100)"
   ]
  },
  {
   "cell_type": "markdown",
   "metadata": {},
   "source": [
    "Похоже на [логнормальное распределение](http://sixsigmaonline.ru/baza-znanij/22-1-0-229#_22)."
   ]
  },
  {
   "cell_type": "code",
   "execution_count": 44,
   "metadata": {},
   "outputs": [
    {
     "data": {
      "text/plain": [
       "count    41885.000000\n",
       "mean      1303.027862\n",
       "std        363.238775\n",
       "min       1013.000000\n",
       "25%       1092.000000\n",
       "50%       1166.000000\n",
       "75%       1350.000000\n",
       "max       6072.000000\n",
       "Name: rev_fresh, dtype: float64"
      ]
     },
     "execution_count": 44,
     "metadata": {},
     "output_type": "execute_result"
    }
   ],
   "source": [
    "df[\"rev_fresh\"].describe()"
   ]
  },
  {
   "cell_type": "markdown",
   "metadata": {},
   "source": [
    "Львиная доля отзывов оставлена около трех лет назад, но есть и сосвем старые отзывы. Посмотрим, повлияет ли эта информация на точность прогнозов."
   ]
  },
  {
   "cell_type": "code",
   "execution_count": 45,
   "metadata": {},
   "outputs": [
    {
     "data": {
      "text/plain": [
       "<AxesSubplot:>"
      ]
     },
     "execution_count": 45,
     "metadata": {},
     "output_type": "execute_result"
    },
    {
     "data": {
      "image/png": "[encoded data removed]",
      "text/plain": [
       "<Figure size 432x288 with 1 Axes>"
      ]
     },
     "metadata": {
      "needs_background": "light"
     },
     "output_type": "display_data"
    }
   ],
   "source": [
    "# Посмотрим теперь на распределение нового признака date_delta:\n",
    "\n",
    "df[\"date_delta\"].hist(bins=100)"
   ]
  },
  {
   "cell_type": "markdown",
   "metadata": {},
   "source": [
    "Здесь мы скорее всего имеем дело с [экспоненциальным распределением](http://sixsigmaonline.ru/baza-znanij/22-1-0-229#_16), которое моделирует время между двумя последовательными появлениями одного и того же события."
   ]
  },
  {
   "cell_type": "code",
   "execution_count": 46,
   "metadata": {},
   "outputs": [
    {
     "data": {
      "text/html": [
       "<div>\n",
       "<style scoped>\n",
       "    .dataframe tbody tr th:only-of-type {\n",
       "        vertical-align: middle;\n",
       "    }\n",
       "\n",
       "    .dataframe tbody tr th {\n",
       "        vertical-align: top;\n",
       "    }\n",
       "\n",
       "    .dataframe thead th {\n",
       "        text-align: right;\n",
       "    }\n",
       "</style>\n",
       "<table border=\"1\" class=\"dataframe\">\n",
       "  <thead>\n",
       "    <tr style=\"text-align: right;\">\n",
       "      <th></th>\n",
       "      <th>city</th>\n",
       "      <th>c_style</th>\n",
       "      <th>ranking</th>\n",
       "      <th>p_range</th>\n",
       "      <th>n_reviews</th>\n",
       "      <th>sample</th>\n",
       "      <th>rating</th>\n",
       "      <th>n_reviews_isNAN</th>\n",
       "      <th>c_style_isNAN</th>\n",
       "      <th>p_range_isNAN</th>\n",
       "      <th>reviews_isNAN</th>\n",
       "      <th>rev_single</th>\n",
       "      <th>date_1</th>\n",
       "      <th>date_2</th>\n",
       "      <th>date_delta</th>\n",
       "      <th>rev_fresh</th>\n",
       "    </tr>\n",
       "  </thead>\n",
       "  <tbody>\n",
       "    <tr>\n",
       "      <th>0</th>\n",
       "      <td>Paris</td>\n",
       "      <td>['Bar', 'Pub']</td>\n",
       "      <td>12963.0</td>\n",
       "      <td>$$ - $$$</td>\n",
       "      <td>4.0</td>\n",
       "      <td>0</td>\n",
       "      <td>0.0</td>\n",
       "      <td>0</td>\n",
       "      <td>0</td>\n",
       "      <td>0</td>\n",
       "      <td>1</td>\n",
       "      <td>0</td>\n",
       "      <td>NaT</td>\n",
       "      <td>NaT</td>\n",
       "      <td>NaN</td>\n",
       "      <td>NaN</td>\n",
       "    </tr>\n",
       "    <tr>\n",
       "      <th>1</th>\n",
       "      <td>Helsinki</td>\n",
       "      <td>['European', 'Scandinavian', 'Gluten Free Opti...</td>\n",
       "      <td>106.0</td>\n",
       "      <td>$$ - $$$</td>\n",
       "      <td>97.0</td>\n",
       "      <td>0</td>\n",
       "      <td>0.0</td>\n",
       "      <td>0</td>\n",
       "      <td>0</td>\n",
       "      <td>0</td>\n",
       "      <td>0</td>\n",
       "      <td>0</td>\n",
       "      <td>2017-12-05</td>\n",
       "      <td>2017-10-29</td>\n",
       "      <td>37.0</td>\n",
       "      <td>1096.0</td>\n",
       "    </tr>\n",
       "    <tr>\n",
       "      <th>2</th>\n",
       "      <td>Edinburgh</td>\n",
       "      <td>['Vegetarian Friendly']</td>\n",
       "      <td>810.0</td>\n",
       "      <td>$$ - $$$</td>\n",
       "      <td>28.0</td>\n",
       "      <td>0</td>\n",
       "      <td>0.0</td>\n",
       "      <td>0</td>\n",
       "      <td>0</td>\n",
       "      <td>0</td>\n",
       "      <td>0</td>\n",
       "      <td>0</td>\n",
       "      <td>2017-12-28</td>\n",
       "      <td>2017-12-06</td>\n",
       "      <td>22.0</td>\n",
       "      <td>1073.0</td>\n",
       "    </tr>\n",
       "  </tbody>\n",
       "</table>\n",
       "</div>"
      ],
      "text/plain": [
       "        city                                            c_style  ranking  \\\n",
       "0      Paris                                     ['Bar', 'Pub']  12963.0   \n",
       "1   Helsinki  ['European', 'Scandinavian', 'Gluten Free Opti...    106.0   \n",
       "2  Edinburgh                            ['Vegetarian Friendly']    810.0   \n",
       "\n",
       "    p_range  n_reviews  sample  rating  n_reviews_isNAN  c_style_isNAN  \\\n",
       "0  $$ - $$$        4.0       0     0.0                0              0   \n",
       "1  $$ - $$$       97.0       0     0.0                0              0   \n",
       "2  $$ - $$$       28.0       0     0.0                0              0   \n",
       "\n",
       "   p_range_isNAN  reviews_isNAN  rev_single     date_1     date_2  date_delta  \\\n",
       "0              0              1           0        NaT        NaT         NaN   \n",
       "1              0              0           0 2017-12-05 2017-10-29        37.0   \n",
       "2              0              0           0 2017-12-28 2017-12-06        22.0   \n",
       "\n",
       "   rev_fresh  \n",
       "0        NaN  \n",
       "1     1096.0  \n",
       "2     1073.0  "
      ]
     },
     "execution_count": 46,
     "metadata": {},
     "output_type": "execute_result"
    }
   ],
   "source": [
    "df.head(3)"
   ]
  },
  {
   "cell_type": "code",
   "execution_count": 47,
   "metadata": {},
   "outputs": [
    {
     "data": {
      "text/plain": [
       "city                   0\n",
       "c_style            11590\n",
       "ranking                0\n",
       "p_range            17361\n",
       "n_reviews              0\n",
       "sample                 0\n",
       "rating                 0\n",
       "n_reviews_isNAN        0\n",
       "c_style_isNAN          0\n",
       "p_range_isNAN          0\n",
       "reviews_isNAN          0\n",
       "rev_single             0\n",
       "date_1              8115\n",
       "date_2              8115\n",
       "date_delta          8115\n",
       "rev_fresh           8115\n",
       "dtype: int64"
      ]
     },
     "execution_count": 47,
     "metadata": {},
     "output_type": "execute_result"
    }
   ],
   "source": [
    "df.isna().sum()"
   ]
  },
  {
   "cell_type": "code",
   "execution_count": 48,
   "metadata": {},
   "outputs": [],
   "source": [
    "# Избавимся от колонок date_1 и date_2, они нам больше не понадобятся:\n",
    "df.drop([\"date_1\", \"date_2\"], 1, inplace=True)"
   ]
  },
  {
   "cell_type": "code",
   "execution_count": 49,
   "metadata": {},
   "outputs": [
    {
     "data": {
      "text/plain": [
       "city                   0\n",
       "c_style            11590\n",
       "ranking                0\n",
       "p_range            17361\n",
       "n_reviews              0\n",
       "sample                 0\n",
       "rating                 0\n",
       "n_reviews_isNAN        0\n",
       "c_style_isNAN          0\n",
       "p_range_isNAN          0\n",
       "reviews_isNAN          0\n",
       "rev_single             0\n",
       "date_delta          8115\n",
       "rev_fresh           8115\n",
       "dtype: int64"
      ]
     },
     "execution_count": 49,
     "metadata": {},
     "output_type": "execute_result"
    }
   ],
   "source": [
    "df.isna().sum()"
   ]
  },
  {
   "cell_type": "markdown",
   "metadata": {},
   "source": [
    "Заполним 8115 пропусков в признаках *date_delta* и *rev_fresh*:"
   ]
  },
  {
   "cell_type": "code",
   "execution_count": 50,
   "metadata": {},
   "outputs": [],
   "source": [
    "df[\"date_delta\"].fillna(method=\"bfill\", inplace=True)\n",
    "df[\"rev_fresh\"].fillna(method=\"bfill\", inplace=True)"
   ]
  },
  {
   "cell_type": "markdown",
   "metadata": {},
   "source": [
    "**Итог: Из признака *reviews* мы сконструировали новых признака:**\n",
    "1. reviews_isNAN - информация о пропусках\n",
    "2. rev_single - один отзыв или больше\n",
    "3. date_delta - кол-во дней между последними отзывами\n",
    "4. rev_fresh - кол-во дней с последнего отзыва"
   ]
  },
  {
   "cell_type": "markdown",
   "metadata": {},
   "source": [
    "### p_range: Цены в ресторане в 3 категориях"
   ]
  },
  {
   "cell_type": "markdown",
   "metadata": {},
   "source": [
    "Теперь разберемся с *p_range*. Этот признак описывает порядок цен в каждом ресторане. Приведем его значения к числовым."
   ]
  },
  {
   "cell_type": "code",
   "execution_count": 51,
   "metadata": {},
   "outputs": [],
   "source": [
    "def p_range(row):\n",
    "    if type(row.p_range) == float:\n",
    "        return row.p_range\n",
    "    elif row.p_range == \"$\":\n",
    "        return 1\n",
    "    elif row.p_range == \"$$ - $$$\":\n",
    "        return 2\n",
    "    return 3\n",
    "    return row.p_range"
   ]
  },
  {
   "cell_type": "code",
   "execution_count": 52,
   "metadata": {},
   "outputs": [],
   "source": [
    "df[\"p_range\"] = df.apply(p_range, axis=1)"
   ]
  },
  {
   "cell_type": "code",
   "execution_count": 53,
   "metadata": {},
   "outputs": [
    {
     "data": {
      "text/html": [
       "<div>\n",
       "<style scoped>\n",
       "    .dataframe tbody tr th:only-of-type {\n",
       "        vertical-align: middle;\n",
       "    }\n",
       "\n",
       "    .dataframe tbody tr th {\n",
       "        vertical-align: top;\n",
       "    }\n",
       "\n",
       "    .dataframe thead th {\n",
       "        text-align: right;\n",
       "    }\n",
       "</style>\n",
       "<table border=\"1\" class=\"dataframe\">\n",
       "  <thead>\n",
       "    <tr style=\"text-align: right;\">\n",
       "      <th></th>\n",
       "      <th>city</th>\n",
       "      <th>c_style</th>\n",
       "      <th>ranking</th>\n",
       "      <th>p_range</th>\n",
       "      <th>n_reviews</th>\n",
       "      <th>sample</th>\n",
       "      <th>rating</th>\n",
       "      <th>n_reviews_isNAN</th>\n",
       "      <th>c_style_isNAN</th>\n",
       "      <th>p_range_isNAN</th>\n",
       "      <th>reviews_isNAN</th>\n",
       "      <th>rev_single</th>\n",
       "      <th>date_delta</th>\n",
       "      <th>rev_fresh</th>\n",
       "    </tr>\n",
       "  </thead>\n",
       "  <tbody>\n",
       "    <tr>\n",
       "      <th>30754</th>\n",
       "      <td>Paris</td>\n",
       "      <td>NaN</td>\n",
       "      <td>6583.0</td>\n",
       "      <td>NaN</td>\n",
       "      <td>18.0</td>\n",
       "      <td>1</td>\n",
       "      <td>4.0</td>\n",
       "      <td>0</td>\n",
       "      <td>1</td>\n",
       "      <td>1</td>\n",
       "      <td>0</td>\n",
       "      <td>0</td>\n",
       "      <td>333.0</td>\n",
       "      <td>1201.0</td>\n",
       "    </tr>\n",
       "    <tr>\n",
       "      <th>27514</th>\n",
       "      <td>Brussels</td>\n",
       "      <td>['Belgian', 'Fast Food', 'European']</td>\n",
       "      <td>188.0</td>\n",
       "      <td>1.0</td>\n",
       "      <td>366.0</td>\n",
       "      <td>1</td>\n",
       "      <td>4.0</td>\n",
       "      <td>0</td>\n",
       "      <td>0</td>\n",
       "      <td>0</td>\n",
       "      <td>0</td>\n",
       "      <td>0</td>\n",
       "      <td>0.0</td>\n",
       "      <td>1111.0</td>\n",
       "    </tr>\n",
       "    <tr>\n",
       "      <th>30508</th>\n",
       "      <td>Rome</td>\n",
       "      <td>['Italian', 'Seafood', 'Mediterranean']</td>\n",
       "      <td>2591.0</td>\n",
       "      <td>2.0</td>\n",
       "      <td>155.0</td>\n",
       "      <td>1</td>\n",
       "      <td>4.5</td>\n",
       "      <td>0</td>\n",
       "      <td>0</td>\n",
       "      <td>0</td>\n",
       "      <td>0</td>\n",
       "      <td>0</td>\n",
       "      <td>1.0</td>\n",
       "      <td>1966.0</td>\n",
       "    </tr>\n",
       "    <tr>\n",
       "      <th>12561</th>\n",
       "      <td>London</td>\n",
       "      <td>['European']</td>\n",
       "      <td>11959.0</td>\n",
       "      <td>NaN</td>\n",
       "      <td>7.0</td>\n",
       "      <td>1</td>\n",
       "      <td>4.5</td>\n",
       "      <td>0</td>\n",
       "      <td>0</td>\n",
       "      <td>1</td>\n",
       "      <td>0</td>\n",
       "      <td>0</td>\n",
       "      <td>357.0</td>\n",
       "      <td>2288.0</td>\n",
       "    </tr>\n",
       "    <tr>\n",
       "      <th>26902</th>\n",
       "      <td>Rome</td>\n",
       "      <td>['Italian', 'Pizza', 'Mediterranean', 'Vegetar...</td>\n",
       "      <td>3549.0</td>\n",
       "      <td>2.0</td>\n",
       "      <td>115.0</td>\n",
       "      <td>1</td>\n",
       "      <td>4.0</td>\n",
       "      <td>0</td>\n",
       "      <td>0</td>\n",
       "      <td>0</td>\n",
       "      <td>0</td>\n",
       "      <td>0</td>\n",
       "      <td>104.0</td>\n",
       "      <td>1177.0</td>\n",
       "    </tr>\n",
       "  </tbody>\n",
       "</table>\n",
       "</div>"
      ],
      "text/plain": [
       "           city                                            c_style  ranking  \\\n",
       "30754     Paris                                                NaN   6583.0   \n",
       "27514  Brussels               ['Belgian', 'Fast Food', 'European']    188.0   \n",
       "30508      Rome            ['Italian', 'Seafood', 'Mediterranean']   2591.0   \n",
       "12561    London                                       ['European']  11959.0   \n",
       "26902      Rome  ['Italian', 'Pizza', 'Mediterranean', 'Vegetar...   3549.0   \n",
       "\n",
       "       p_range  n_reviews  sample  rating  n_reviews_isNAN  c_style_isNAN  \\\n",
       "30754      NaN       18.0       1     4.0                0              1   \n",
       "27514      1.0      366.0       1     4.0                0              0   \n",
       "30508      2.0      155.0       1     4.5                0              0   \n",
       "12561      NaN        7.0       1     4.5                0              0   \n",
       "26902      2.0      115.0       1     4.0                0              0   \n",
       "\n",
       "       p_range_isNAN  reviews_isNAN  rev_single  date_delta  rev_fresh  \n",
       "30754              1              0           0       333.0     1201.0  \n",
       "27514              0              0           0         0.0     1111.0  \n",
       "30508              0              0           0         1.0     1966.0  \n",
       "12561              1              0           0       357.0     2288.0  \n",
       "26902              0              0           0       104.0     1177.0  "
      ]
     },
     "execution_count": 53,
     "metadata": {},
     "output_type": "execute_result"
    }
   ],
   "source": [
    "df.sample(5)"
   ]
  },
  {
   "cell_type": "code",
   "execution_count": 54,
   "metadata": {},
   "outputs": [
    {
     "data": {
      "text/plain": [
       "2.0    23041\n",
       "NaN    17361\n",
       "1.0     7816\n",
       "3.0     1782\n",
       "Name: p_range, dtype: int64"
      ]
     },
     "execution_count": 54,
     "metadata": {},
     "output_type": "execute_result"
    }
   ],
   "source": [
    "df.p_range.value_counts(dropna=False)"
   ]
  },
  {
   "cell_type": "code",
   "execution_count": 55,
   "metadata": {},
   "outputs": [
    {
     "data": {
      "text/plain": [
       "<AxesSubplot:>"
      ]
     },
     "execution_count": 55,
     "metadata": {},
     "output_type": "execute_result"
    },
    {
     "data": {
      "image/png": "[encoded data removed]",
      "text/plain": [
       "<Figure size 432x288 with 1 Axes>"
      ]
     },
     "metadata": {
      "needs_background": "light"
     },
     "output_type": "display_data"
    }
   ],
   "source": [
    "df.p_range.value_counts(dropna=False).plot(kind=\"bar\")"
   ]
  },
  {
   "cell_type": "markdown",
   "metadata": {},
   "source": [
    "Чаще всего встречается значение 2: средний уровень цен. Также наблюдаем большое кол-во пропусков в признаке - 15650. С пропусками в этом признаками разберемся чуть позже."
   ]
  },
  {
   "cell_type": "markdown",
   "metadata": {},
   "source": [
    "**Итог: Ординальный признак *p_range* получил числовые значения. Создан новый признак:**\n",
    "1. p_range_isNAN - информация о пропусках"
   ]
  },
  {
   "cell_type": "markdown",
   "metadata": {},
   "source": [
    "### c_style: Кухня или кухни, к которым можно отнести блюда, предлагаемые в ресторане"
   ]
  },
  {
   "cell_type": "markdown",
   "metadata": {},
   "source": [
    "Теперь разберемся с признаком *c_style* (кухня или кухни, к которым можно отнести блюда, предлагаемые в ресторане)."
   ]
  },
  {
   "cell_type": "markdown",
   "metadata": {},
   "source": [
    "Сам по себе он мало полезен для нашей модели, но из него мы можем сконструировать новые признаки:\n",
    "1. *n_style* - количество кухонь, предлагаемых в ресторане\n",
    "2. *top_cuis* - кол-во кухонь из топ пять самых **популярных** кухонь, предлагаемых в ресторане.\n",
    "3. *unique_cuis* - кол-во кухонь из 20 самых **редких** кухонь, предлагаемых в ресторане.\n",
    "* Кроме того, на основе признака *c_style* мы можем создать **фиктивные переменные**."
   ]
  },
  {
   "cell_type": "code",
   "execution_count": 56,
   "metadata": {},
   "outputs": [],
   "source": [
    "# Переведем str в list\n",
    "\n",
    "df[\"c_style\"] = df.c_style.apply(lambda x: x.split(\",\") if type(x) == str else x)"
   ]
  },
  {
   "cell_type": "code",
   "execution_count": 57,
   "metadata": {},
   "outputs": [
    {
     "name": "stdout",
     "output_type": "stream",
     "text": [
      "['Italian', 'Mediterranean', 'European', 'Seafood', 'Vegetarian Friendly', 'Gluten Free Options']\n"
     ]
    }
   ],
   "source": [
    "# Уберем лишнее\n",
    "\n",
    "for lst in df[\"c_style\"]:\n",
    "    if type(lst) == list:\n",
    "        for i in range(len(lst)):\n",
    "            lst[i] = lst[i].replace(\"[\", \"\").strip()\n",
    "            lst[i] = lst[i].replace(\"'\", \"\").strip()\n",
    "            lst[i] = lst[i].replace(\"]\", \"\").strip()\n",
    "            \n",
    "print(df[\"c_style\"][4])"
   ]
  },
  {
   "cell_type": "code",
   "execution_count": 58,
   "metadata": {},
   "outputs": [],
   "source": [
    "# Заполним пропуски в c_style популярной кухней European\n",
    "\n",
    "df[\"c_style\"] = df.c_style.apply(lambda x: [\"European\"] if type(x) == float else x)"
   ]
  },
  {
   "cell_type": "code",
   "execution_count": 59,
   "metadata": {},
   "outputs": [],
   "source": [
    "# Создадим признак n_style - кол-во кухонь, предлагаемых в ресторане\n",
    "\n",
    "df[\"n_style\"] = df.c_style.apply(lambda x: len(x) if type(x) == list else x)"
   ]
  },
  {
   "cell_type": "code",
   "execution_count": 60,
   "metadata": {},
   "outputs": [
    {
     "data": {
      "text/plain": [
       "<AxesSubplot:>"
      ]
     },
     "execution_count": 60,
     "metadata": {},
     "output_type": "execute_result"
    },
    {
     "data": {
      "image/png": "[encoded data removed]",
      "text/plain": [
       "<Figure size 432x288 with 1 Axes>"
      ]
     },
     "metadata": {
      "needs_background": "light"
     },
     "output_type": "display_data"
    }
   ],
   "source": [
    "# Посмотрим на распределение нового признака\n",
    "\n",
    "df.n_style.hist(bins=20)"
   ]
  },
  {
   "cell_type": "markdown",
   "metadata": {},
   "source": [
    "Добавим аннонсированный ранее признак *top_cuis*, содержащий кол-во кухонь из топ пять самых популярных кухонь, предлагаемых в ресторане:"
   ]
  },
  {
   "cell_type": "code",
   "execution_count": 61,
   "metadata": {},
   "outputs": [
    {
     "name": "stdout",
     "output_type": "stream",
     "text": [
      "{'Mediterranean', 'Vegan Options', 'European', 'Vegetarian Friendly', 'Italian'}\n"
     ]
    }
   ],
   "source": [
    "# Создадим лист, содержащий кухни из каждого наблюдения датасета\n",
    "\n",
    "cuis = []\n",
    "\n",
    "for lst in df.c_style:\n",
    "    if type(lst) == list:\n",
    "        for el in lst:\n",
    "            cuis.append(el)\n",
    "            \n",
    "            \n",
    "# Отберем топ пять самых часто встречающихся кухонь и поместим их в множество\n",
    "\n",
    "top_cuis = set(pd.Series(cuis).value_counts().head().index.to_list())\n",
    "print(top_cuis)"
   ]
  },
  {
   "cell_type": "code",
   "execution_count": 62,
   "metadata": {},
   "outputs": [],
   "source": [
    "# Поместим все кухни в лист, пригодится\n",
    "\n",
    "cuis_lst = sorted(list(set(pd.Series(cuis).value_counts().index.to_list())))"
   ]
  },
  {
   "cell_type": "code",
   "execution_count": 63,
   "metadata": {},
   "outputs": [],
   "source": [
    "# Превратим списки из c_style в множества\n",
    "\n",
    "df[\"c_style\"] = df.c_style.apply(lambda x: set(x) if type(x) != float else x)"
   ]
  },
  {
   "cell_type": "code",
   "execution_count": 64,
   "metadata": {},
   "outputs": [],
   "source": [
    "# Создадим признак top_cuis, являющийся длиной пересечения множества из c_style и множества top_cuis\n",
    "\n",
    "df[\"top_cuis\"] = df.c_style.apply(lambda x: len(x.intersection(top_cuis)) if type(x) != float else x)"
   ]
  },
  {
   "cell_type": "markdown",
   "metadata": {},
   "source": [
    "Теперь сконструируем признак *unique_cuis*, содержащий информацию о количестве редких кухонь, предлагаемых в ресторане."
   ]
  },
  {
   "cell_type": "code",
   "execution_count": 65,
   "metadata": {},
   "outputs": [
    {
     "name": "stdout",
     "output_type": "stream",
     "text": [
      "{'Xinjiang', 'Yunnan', 'New Zealand', 'Azerbaijani', 'Fujian', 'Minority Chinese', 'Polynesian', 'Caucasian', 'Welsh', 'Central Asian', 'Romanian', 'Native American', 'Canadian', 'Salvadoran', 'Albanian', 'Ecuadorean', 'Latvian', 'Chilean', 'Uzbek', 'Burmese'}\n"
     ]
    }
   ],
   "source": [
    "# Сначала отберем 20 самых редких кухонь и поместим их в множество\n",
    "\n",
    "unique_cuis = set(pd.Series(cuis).value_counts(ascending=False).tail(20).index.to_list())\n",
    "print(unique_cuis)"
   ]
  },
  {
   "cell_type": "code",
   "execution_count": 66,
   "metadata": {},
   "outputs": [],
   "source": [
    "# Создадим признак unique_cuis, являющийся длиной пересечения множества из c_style и множества unique_cuis\n",
    "\n",
    "df[\"unique_cuis\"] = df.c_style.apply(lambda x: len(x.intersection(unique_cuis)) if type(x) != float else x)"
   ]
  },
  {
   "cell_type": "code",
   "execution_count": 67,
   "metadata": {},
   "outputs": [
    {
     "data": {
      "text/plain": [
       "0    49891\n",
       "1      106\n",
       "2        2\n",
       "3        1\n",
       "Name: unique_cuis, dtype: int64"
      ]
     },
     "execution_count": 67,
     "metadata": {},
     "output_type": "execute_result"
    }
   ],
   "source": [
    "df[\"unique_cuis\"].value_counts()"
   ]
  },
  {
   "cell_type": "markdown",
   "metadata": {},
   "source": [
    "Как видим, редкие кухни встречаются довольно редко. Позже проверим, влияет ли новый признак на нашу целевую переменную."
   ]
  },
  {
   "cell_type": "markdown",
   "metadata": {},
   "source": [
    "Наконец, создадим фиктивные переменные (dummy variables) по принципу **One-hot-encoding**. Для этого воспользуемся [MultiLabelBinarizer](https://scikit-learn.org/stable/modules/generated/sklearn.preprocessing.MultiLabelBinarizer.html) из библиотеки **sklearn**."
   ]
  },
  {
   "cell_type": "code",
   "execution_count": 68,
   "metadata": {},
   "outputs": [],
   "source": [
    "mlb = MultiLabelBinarizer()"
   ]
  },
  {
   "cell_type": "code",
   "execution_count": 69,
   "metadata": {},
   "outputs": [],
   "source": [
    "df_columns_for_mlb = df.drop(\"c_style\", 1).columns.to_list()"
   ]
  },
  {
   "cell_type": "code",
   "execution_count": 70,
   "metadata": {},
   "outputs": [],
   "source": [
    "cuisines = mlb.fit_transform(df.pop('c_style'))"
   ]
  },
  {
   "cell_type": "code",
   "execution_count": 71,
   "metadata": {},
   "outputs": [
    {
     "data": {
      "text/plain": [
       "array([[0, 0, 0, ..., 0, 0, 0],\n",
       "       [0, 0, 0, ..., 0, 0, 0],\n",
       "       [0, 0, 0, ..., 0, 0, 0],\n",
       "       ...,\n",
       "       [0, 0, 0, ..., 0, 0, 0],\n",
       "       [0, 0, 0, ..., 0, 0, 0],\n",
       "       [0, 0, 0, ..., 0, 0, 0]])"
      ]
     },
     "execution_count": 71,
     "metadata": {},
     "output_type": "execute_result"
    }
   ],
   "source": [
    "cuisines"
   ]
  },
  {
   "cell_type": "code",
   "execution_count": 72,
   "metadata": {},
   "outputs": [],
   "source": [
    "df = pd.concat([df, pd.DataFrame(cuisines)], 1)"
   ]
  },
  {
   "cell_type": "code",
   "execution_count": 73,
   "metadata": {},
   "outputs": [],
   "source": [
    "df.columns = df_columns_for_mlb + list(mlb.classes_)"
   ]
  },
  {
   "cell_type": "code",
   "execution_count": 74,
   "metadata": {},
   "outputs": [
    {
     "data": {
      "text/html": [
       "<div>\n",
       "<style scoped>\n",
       "    .dataframe tbody tr th:only-of-type {\n",
       "        vertical-align: middle;\n",
       "    }\n",
       "\n",
       "    .dataframe tbody tr th {\n",
       "        vertical-align: top;\n",
       "    }\n",
       "\n",
       "    .dataframe thead th {\n",
       "        text-align: right;\n",
       "    }\n",
       "</style>\n",
       "<table border=\"1\" class=\"dataframe\">\n",
       "  <thead>\n",
       "    <tr style=\"text-align: right;\">\n",
       "      <th></th>\n",
       "      <th>city</th>\n",
       "      <th>ranking</th>\n",
       "      <th>p_range</th>\n",
       "      <th>n_reviews</th>\n",
       "      <th>sample</th>\n",
       "      <th>rating</th>\n",
       "      <th>n_reviews_isNAN</th>\n",
       "      <th>c_style_isNAN</th>\n",
       "      <th>p_range_isNAN</th>\n",
       "      <th>reviews_isNAN</th>\n",
       "      <th>...</th>\n",
       "      <th>Ukrainian</th>\n",
       "      <th>Uzbek</th>\n",
       "      <th>Vegan Options</th>\n",
       "      <th>Vegetarian Friendly</th>\n",
       "      <th>Venezuelan</th>\n",
       "      <th>Vietnamese</th>\n",
       "      <th>Welsh</th>\n",
       "      <th>Wine Bar</th>\n",
       "      <th>Xinjiang</th>\n",
       "      <th>Yunnan</th>\n",
       "    </tr>\n",
       "  </thead>\n",
       "  <tbody>\n",
       "    <tr>\n",
       "      <th>0</th>\n",
       "      <td>Paris</td>\n",
       "      <td>12963.0</td>\n",
       "      <td>2.0</td>\n",
       "      <td>4.0</td>\n",
       "      <td>0</td>\n",
       "      <td>0.0</td>\n",
       "      <td>0</td>\n",
       "      <td>0</td>\n",
       "      <td>0</td>\n",
       "      <td>1</td>\n",
       "      <td>...</td>\n",
       "      <td>0</td>\n",
       "      <td>0</td>\n",
       "      <td>0</td>\n",
       "      <td>0</td>\n",
       "      <td>0</td>\n",
       "      <td>0</td>\n",
       "      <td>0</td>\n",
       "      <td>0</td>\n",
       "      <td>0</td>\n",
       "      <td>0</td>\n",
       "    </tr>\n",
       "    <tr>\n",
       "      <th>1</th>\n",
       "      <td>Helsinki</td>\n",
       "      <td>106.0</td>\n",
       "      <td>2.0</td>\n",
       "      <td>97.0</td>\n",
       "      <td>0</td>\n",
       "      <td>0.0</td>\n",
       "      <td>0</td>\n",
       "      <td>0</td>\n",
       "      <td>0</td>\n",
       "      <td>0</td>\n",
       "      <td>...</td>\n",
       "      <td>0</td>\n",
       "      <td>0</td>\n",
       "      <td>1</td>\n",
       "      <td>1</td>\n",
       "      <td>0</td>\n",
       "      <td>0</td>\n",
       "      <td>0</td>\n",
       "      <td>0</td>\n",
       "      <td>0</td>\n",
       "      <td>0</td>\n",
       "    </tr>\n",
       "    <tr>\n",
       "      <th>2</th>\n",
       "      <td>Edinburgh</td>\n",
       "      <td>810.0</td>\n",
       "      <td>2.0</td>\n",
       "      <td>28.0</td>\n",
       "      <td>0</td>\n",
       "      <td>0.0</td>\n",
       "      <td>0</td>\n",
       "      <td>0</td>\n",
       "      <td>0</td>\n",
       "      <td>0</td>\n",
       "      <td>...</td>\n",
       "      <td>0</td>\n",
       "      <td>0</td>\n",
       "      <td>0</td>\n",
       "      <td>1</td>\n",
       "      <td>0</td>\n",
       "      <td>0</td>\n",
       "      <td>0</td>\n",
       "      <td>0</td>\n",
       "      <td>0</td>\n",
       "      <td>0</td>\n",
       "    </tr>\n",
       "    <tr>\n",
       "      <th>3</th>\n",
       "      <td>London</td>\n",
       "      <td>1669.0</td>\n",
       "      <td>3.0</td>\n",
       "      <td>202.0</td>\n",
       "      <td>0</td>\n",
       "      <td>0.0</td>\n",
       "      <td>0</td>\n",
       "      <td>0</td>\n",
       "      <td>0</td>\n",
       "      <td>0</td>\n",
       "      <td>...</td>\n",
       "      <td>0</td>\n",
       "      <td>0</td>\n",
       "      <td>0</td>\n",
       "      <td>1</td>\n",
       "      <td>0</td>\n",
       "      <td>0</td>\n",
       "      <td>0</td>\n",
       "      <td>0</td>\n",
       "      <td>0</td>\n",
       "      <td>0</td>\n",
       "    </tr>\n",
       "    <tr>\n",
       "      <th>4</th>\n",
       "      <td>Bratislava</td>\n",
       "      <td>37.0</td>\n",
       "      <td>3.0</td>\n",
       "      <td>162.0</td>\n",
       "      <td>0</td>\n",
       "      <td>0.0</td>\n",
       "      <td>0</td>\n",
       "      <td>0</td>\n",
       "      <td>0</td>\n",
       "      <td>0</td>\n",
       "      <td>...</td>\n",
       "      <td>0</td>\n",
       "      <td>0</td>\n",
       "      <td>0</td>\n",
       "      <td>1</td>\n",
       "      <td>0</td>\n",
       "      <td>0</td>\n",
       "      <td>0</td>\n",
       "      <td>0</td>\n",
       "      <td>0</td>\n",
       "      <td>0</td>\n",
       "    </tr>\n",
       "  </tbody>\n",
       "</table>\n",
       "<p>5 rows × 141 columns</p>\n",
       "</div>"
      ],
      "text/plain": [
       "         city  ranking  p_range  n_reviews  sample  rating  n_reviews_isNAN  \\\n",
       "0       Paris  12963.0      2.0        4.0       0     0.0                0   \n",
       "1    Helsinki    106.0      2.0       97.0       0     0.0                0   \n",
       "2   Edinburgh    810.0      2.0       28.0       0     0.0                0   \n",
       "3      London   1669.0      3.0      202.0       0     0.0                0   \n",
       "4  Bratislava     37.0      3.0      162.0       0     0.0                0   \n",
       "\n",
       "   c_style_isNAN  p_range_isNAN  reviews_isNAN  ...  Ukrainian  Uzbek  \\\n",
       "0              0              0              1  ...          0      0   \n",
       "1              0              0              0  ...          0      0   \n",
       "2              0              0              0  ...          0      0   \n",
       "3              0              0              0  ...          0      0   \n",
       "4              0              0              0  ...          0      0   \n",
       "\n",
       "   Vegan Options  Vegetarian Friendly  Venezuelan  Vietnamese  Welsh  \\\n",
       "0              0                    0           0           0      0   \n",
       "1              1                    1           0           0      0   \n",
       "2              0                    1           0           0      0   \n",
       "3              0                    1           0           0      0   \n",
       "4              0                    1           0           0      0   \n",
       "\n",
       "   Wine Bar  Xinjiang  Yunnan  \n",
       "0         0         0       0  \n",
       "1         0         0       0  \n",
       "2         0         0       0  \n",
       "3         0         0       0  \n",
       "4         0         0       0  \n",
       "\n",
       "[5 rows x 141 columns]"
      ]
     },
     "execution_count": 74,
     "metadata": {},
     "output_type": "execute_result"
    }
   ],
   "source": [
    "df.head()"
   ]
  },
  {
   "cell_type": "markdown",
   "metadata": {},
   "source": [
    "Итог: Пропуски в *c_style* заменены популярной кухней European; Из признака *c_style* было создано несколько новых переменных:\n",
    "1. *c_style_isNAN* - информация о пропусках\n",
    "2. *n_style* - количество кухонь, предлагаемых в ресторане\n",
    "3. *top_cuis* - кол-во кухонь из топ пять самых **популярных** кухонь, предлагаемых в ресторане.\n",
    "4. *unique_cuis* - кол-во кухонь из 20 самых **редких** кухонь, предлагаемых в ресторане.\n",
    "5. Фиктивные dummy-переменные."
   ]
  },
  {
   "cell_type": "markdown",
   "metadata": {},
   "source": [
    "## city: город, в котором находится ресторан"
   ]
  },
  {
   "cell_type": "code",
   "execution_count": 75,
   "metadata": {},
   "outputs": [
    {
     "name": "stdout",
     "output_type": "stream",
     "text": [
      "В признаке 'city' 0 пропущенных значений\n",
      "Признак 'city' принимает 31 уникальных значений\n"
     ]
    }
   ],
   "source": [
    "print(f\"В признаке 'city' {df.city.isna().sum()} пропущенных значений\")\n",
    "print(f\"Признак 'city' принимает {df.city.nunique()} уникальных значений\")"
   ]
  },
  {
   "cell_type": "markdown",
   "metadata": {},
   "source": [
    "Посмотрим, рестораны каких городов представлены в датасете чаще всего:"
   ]
  },
  {
   "cell_type": "code",
   "execution_count": 76,
   "metadata": {},
   "outputs": [
    {
     "data": {
      "text/plain": [
       "<AxesSubplot:>"
      ]
     },
     "execution_count": 76,
     "metadata": {},
     "output_type": "execute_result"
    },
    {
     "data": {
      "image/png": "[encoded data removed]",
      "text/plain": [
       "<Figure size 864x432 with 1 Axes>"
      ]
     },
     "metadata": {
      "needs_background": "light"
     },
     "output_type": "display_data"
    }
   ],
   "source": [
    "plt.rcParams['figure.figsize'] = (12,6)\n",
    "df[\"city\"].value_counts(normalize=True).head(10).plot(kind=\"barh\", grid=True)"
   ]
  },
  {
   "cell_type": "markdown",
   "metadata": {},
   "source": [
    "По количеству ресторанов лидируют столицы Великобритании, Франции и Испании."
   ]
  },
  {
   "cell_type": "markdown",
   "metadata": {},
   "source": [
    "Из признака *city* сконструируем несколько новых переменных."
   ]
  },
  {
   "cell_type": "markdown",
   "metadata": {},
   "source": [
    "Начнем с того, что закодируем этот признак с помощью [**CountEncoder**](https://contrib.scikit-learn.org/category_encoders/count.html) (заменяет значение переменной числом повторений этого значения в столбце). *Позже добавим также **dummy-переменные** для этого признака.*"
   ]
  },
  {
   "cell_type": "code",
   "execution_count": 77,
   "metadata": {},
   "outputs": [],
   "source": [
    "count_enc = ce.CountEncoder()\n",
    "count_encoded = count_enc.fit_transform(df[\"city\"])\n",
    "df = df.join(count_encoded.add_suffix(\"_count\"))"
   ]
  },
  {
   "cell_type": "code",
   "execution_count": 78,
   "metadata": {},
   "outputs": [],
   "source": [
    "cities_lst = sorted(df.city.unique().tolist())"
   ]
  },
  {
   "cell_type": "markdown",
   "metadata": {},
   "source": [
    "Воспользуемся [внешними источниками](https://en.wikipedia.org/wiki/List_of_European_cities_by_population_within_city_limits) и добавим информацию кол-ве жителей в каждом городе (в тыс человек):"
   ]
  },
  {
   "cell_type": "code",
   "execution_count": 79,
   "metadata": {},
   "outputs": [],
   "source": [
    "cities_pop = {'Amsterdam': 821, 'Athens': 664, 'Barcelona': 1620,'Berlin': 3769,'Bratislava': 424,\n",
    "              'Brussels': 174,'Budapest': 1752,'Copenhagen': 602,'Dublin': 1388,'Edinburgh': 482,\n",
    "              'Geneva': 500,'Hamburg': 1841,'Helsinki': 632,'Krakow': 775,'Lisbon': 505,'Ljubljana': 280,\n",
    "              'London': 8962,'Luxembourg': 614,'Lyon': 513,'Madrid': 3348,'Milan': 1404,'Munich': 1484,'Oporto': 214,\n",
    "              'Oslo':681,'Paris': 2140,'Prague': 1324,'Rome': 2856,'Stockholm': 974,'Vienna': 1911,'Warsaw': 1793,'Zurich': 403}"
   ]
  },
  {
   "cell_type": "code",
   "execution_count": 80,
   "metadata": {},
   "outputs": [],
   "source": [
    "df[\"cities_pop\"] = df['city'].map(lambda x: cities_pop.get(x,x))"
   ]
  },
  {
   "cell_type": "markdown",
   "metadata": {},
   "source": [
    "Добавим список, содержащий информацию о странах:"
   ]
  },
  {
   "cell_type": "code",
   "execution_count": 81,
   "metadata": {},
   "outputs": [],
   "source": [
    "countries = {'London': 'UK', \n",
    "             'Paris': 'France', \n",
    "             'Madrid': 'Spain', \n",
    "             'Barcelona': 'Spain', \n",
    "             'Berlin': 'Germany', \n",
    "             'Milan': 'Italy', \n",
    "             'Rome': 'Italy', \n",
    "             'Prague': 'Czech Rep', \n",
    "             'Lisbon': 'Portugal', \n",
    "             'Vienna': 'Austria', \n",
    "             'Amsterdam': 'Netherlands', \n",
    "             'Brussels': 'Belgium', \n",
    "             'Hamburg': 'Germany', \n",
    "             'Munich': 'Germany', \n",
    "             'Lyon': 'France', \n",
    "             'Stockholm': 'Sweden', \n",
    "             'Budapest': 'Romania', \n",
    "             'Warsaw': 'Poland', \n",
    "             'Dublin': 'Ireland', \n",
    "             'Copenhagen': 'Denmark', \n",
    "             'Athens': 'Greece', \n",
    "             'Edinburgh': 'Scotland', \n",
    "             'Zurich': 'Switzerland', \n",
    "             'Oporto': 'Portugal', \n",
    "             'Geneva': 'Switzerland', \n",
    "             'Krakow': 'Poland', \n",
    "             'Oslo': 'Norway', \n",
    "             'Helsinki': 'Finland', \n",
    "             'Bratislava': 'Slovakia', \n",
    "             'Luxembourg': 'GD of Luxembourg', \n",
    "             'Ljubljana': 'Slovenia'}"
   ]
  },
  {
   "cell_type": "code",
   "execution_count": 82,
   "metadata": {},
   "outputs": [],
   "source": [
    "countries_lst = sorted(list(countries.values()))"
   ]
  },
  {
   "cell_type": "code",
   "execution_count": 83,
   "metadata": {},
   "outputs": [],
   "source": [
    "df[\"country\"] = df['city'].map(lambda x: countries.get(x,x))"
   ]
  },
  {
   "cell_type": "markdown",
   "metadata": {},
   "source": [
    "Также закодируем признак *country* через CountEncoder:"
   ]
  },
  {
   "cell_type": "code",
   "execution_count": 84,
   "metadata": {},
   "outputs": [],
   "source": [
    "count_enc = ce.CountEncoder()\n",
    "count_encoded = count_enc.fit_transform(df[\"country\"])\n",
    "df = df.join(count_encoded.add_suffix(\"_count\"))"
   ]
  },
  {
   "cell_type": "markdown",
   "metadata": {},
   "source": [
    "Добавим признак с информацией о популярности страны для туризма. [Собрана информация](https://ec.europa.eu/eurostat/statistics-explained/index.php/Tourism_statistics) о кол-ве ночей в год, проведенных в стране нерезидентами (в млн)"
   ]
  },
  {
   "cell_type": "code",
   "execution_count": 85,
   "metadata": {},
   "outputs": [],
   "source": [
    "# Nights spent in country by non residents (mln)\n",
    "\n",
    "tourism_vol = {'Austria': 89.3, 'Belgium': 20.6, 'Czech Rep': 26.8, 'Denmark': 12.6, 'UK': 127, 'Finland': 6.8,\n",
    "                'France': 140.7, 'GD of Luxembourg': 1.6, 'Germany': 87, 'Greece': 102.6, 'Netherlands': 47, 'Ireland': 16.8,\n",
    "                'Italy': 216.5, 'Norway': 10.1, 'Poland': 17.7, 'Portugal': 49.9, 'Romania': 5.3, 'Scotland': 11.2,\n",
    "                'Slovakia': 5.6, 'Slovenia': 11.2, 'Spain': 301, 'Sweden': 15.7, 'Switzerland': 26.7}"
   ]
  },
  {
   "cell_type": "code",
   "execution_count": 86,
   "metadata": {},
   "outputs": [],
   "source": [
    "df[\"tourism\"] = df['country'].map(lambda x: tourism_vol.get(x,x))"
   ]
  },
  {
   "cell_type": "markdown",
   "metadata": {},
   "source": [
    "Наконец, добавим признак, хранящий информацию об уровне жизни в городе - [ВВП на душу населения для городов](https://en.wikipedia.org/wiki/List_of_cities_by_GDP_(PPP)_per_capita) (USD)."
   ]
  },
  {
   "cell_type": "code",
   "execution_count": 87,
   "metadata": {},
   "outputs": [],
   "source": [
    "GDPperCapita = {'London': 58827, \n",
    "             'Paris': 61883, \n",
    "             'Madrid': 43074, \n",
    "             'Barcelona': 45752, \n",
    "             'Berlin': 37601, \n",
    "             'Milan': 51768, \n",
    "             'Rome': 41475, \n",
    "             'Prague': 48160, \n",
    "             'Lisbon': 34782, \n",
    "             'Vienna': 46787, \n",
    "             'Amsterdam': 60857, \n",
    "             'Brussels': 54634, \n",
    "             'Hamburg': 52947, \n",
    "             'Munich': 69844, \n",
    "             'Lyon': 46913, \n",
    "             'Stockholm': 61754, \n",
    "             'Budapest': 37399, \n",
    "             'Warsaw': 49722, \n",
    "             'Dublin': 59798, \n",
    "             'Copenhagen': 54197, \n",
    "             'Athens': 32167, \n",
    "             'Edinburgh': 44059, \n",
    "             'Zurich': 64302, \n",
    "             'Oporto': 24819, \n",
    "             'Geneva': 62115, \n",
    "             'Krakow': 29695, \n",
    "             'Oslo': 64673, \n",
    "             'Helsinki': 49760, \n",
    "             'Bratislava': 67841, \n",
    "             'Luxembourg': 88312, \n",
    "             'Ljubljana': 39763}"
   ]
  },
  {
   "cell_type": "code",
   "execution_count": 88,
   "metadata": {},
   "outputs": [],
   "source": [
    "df[\"GDP\"] = df['city'].map(lambda x: GDPperCapita.get(x,x))"
   ]
  },
  {
   "cell_type": "code",
   "execution_count": 89,
   "metadata": {},
   "outputs": [],
   "source": [
    "# # GDP per capita PPP (USD) - для стран\n",
    "\n",
    "# GDPperCapita = {'Austria': 56352, 'Belgium': 51708, 'Czech Rep': 40314, 'Denmark': 57184, 'UK': 46699, 'Finland': 48621,\n",
    "#                 'France': 46184, 'GD of Luxembourg': 114482, 'Germany': 53815, 'Greece': 30315, 'Netherlands': 57141, 'Ireland': 86781,\n",
    "#                 'Italy': 42413, 'Norway': 63633, 'Poland': 33086, 'Portugal': 34798, 'Romania': 29909, 'Scotland': 46699,\n",
    "#                 'Slovakia': 32793, 'Slovenia': 38689, 'Spain': 40883, 'Sweden': 53205, 'Switzerland': 68628}"
   ]
  },
  {
   "cell_type": "markdown",
   "metadata": {},
   "source": [
    "Руководствуясь житейской логикой (а иногда просто наугад), создадим из полученных выше признаков новые признаки!"
   ]
  },
  {
   "cell_type": "code",
   "execution_count": 90,
   "metadata": {},
   "outputs": [],
   "source": [
    "# city_count взвешенный по населенности города\n",
    "df[\"city_count_pop\"] = df[\"city_count\"] / df[\"cities_pop\"]"
   ]
  },
  {
   "cell_type": "code",
   "execution_count": 91,
   "metadata": {},
   "outputs": [],
   "source": [
    "# country_count взвешенный по объему туризма в стране\n",
    "df[\"country_count_tourism\"] = round(df[\"country_count\"] / df[\"tourism\"], 2)\n",
    "\n",
    "# city_count взвешенный по объему туризма в стране\n",
    "df[\"city_count_tourism\"] = round(df[\"city_count\"] / df[\"tourism\"], 2)"
   ]
  },
  {
   "cell_type": "code",
   "execution_count": 92,
   "metadata": {},
   "outputs": [],
   "source": [
    "# GDP взвешенный по city_count\n",
    "df[\"GDP_city_count\"] = round(df[\"GDP\"] / df[\"city_count\"], 2)\n",
    "\n",
    "# GDP взвешенный по city_pop\n",
    "df[\"GDP_city_pop\"] = round(df[\"GDP\"] / df[\"cities_pop\"], 2)\n",
    "\n",
    "# GDP взвешенный по tourism\n",
    "df[\"GDP_tourism\"] = round(df[\"GDP\"] / df[\"tourism\"], 2)"
   ]
  },
  {
   "cell_type": "code",
   "execution_count": 93,
   "metadata": {},
   "outputs": [],
   "source": [
    "# # GDP взвешенный по уровню цен\n",
    "# df[\"GDP_p_range\"] = round(df[\"GDP\"] / df[\"p_range\"], 2)\n",
    "\n",
    "# Добавим после, когда устраним пропуски в p_range"
   ]
  },
  {
   "cell_type": "code",
   "execution_count": 94,
   "metadata": {},
   "outputs": [],
   "source": [
    "# Кол-во отзывов / население\n",
    "df[\"n_rev_pop\"] = df[\"n_reviews\"] / df[\"cities_pop\"]\n",
    "\n",
    "# Кол-во отзывов / объем туризма\n",
    "df[\"n_rev_tourism\"] = df[\"n_reviews\"] / df[\"tourism\"]"
   ]
  },
  {
   "cell_type": "code",
   "execution_count": 95,
   "metadata": {},
   "outputs": [],
   "source": [
    "# Средняя цена в городе\n",
    "price_in_city_dict = df.groupby('city')['p_range'].mean().to_dict()\n",
    "df['city_p_range'] = df['city'].map(price_in_city_dict)"
   ]
  },
  {
   "cell_type": "code",
   "execution_count": 96,
   "metadata": {},
   "outputs": [],
   "source": [
    "# Среднее количество отзывов в городе\n",
    "n_rev_in_city_dict = df.groupby('city')['n_reviews'].mean().to_dict()\n",
    "df['city_n_rev'] = df['city'].map(n_rev_in_city_dict)"
   ]
  },
  {
   "cell_type": "code",
   "execution_count": 97,
   "metadata": {},
   "outputs": [],
   "source": [
    "# Среднее кол-во кухонь, предлагаемых в городе\n",
    "cuis_in_city_dict = df.groupby('city')['n_style'].mean().to_dict()\n",
    "df['city_n_style'] = df['city'].map(cuis_in_city_dict)"
   ]
  },
  {
   "cell_type": "code",
   "execution_count": 98,
   "metadata": {},
   "outputs": [],
   "source": [
    "# Максимальное количество отзывов в городе\n",
    "max_n_rev_in_city_dict = df.groupby('city')['n_reviews'].max().to_dict()\n",
    "df['city_n_rev_max'] = df['city'].map(max_n_rev_in_city_dict)"
   ]
  },
  {
   "cell_type": "markdown",
   "metadata": {},
   "source": [
    "Для *country* и *city* добавим фиктивные переменные:"
   ]
  },
  {
   "cell_type": "code",
   "execution_count": 99,
   "metadata": {},
   "outputs": [],
   "source": [
    "df = pd.get_dummies(df, columns=[\"city\", \"country\"], dummy_na=True)"
   ]
  },
  {
   "cell_type": "code",
   "execution_count": 100,
   "metadata": {},
   "outputs": [
    {
     "data": {
      "text/plain": [
       "(50000, 213)"
      ]
     },
     "execution_count": 100,
     "metadata": {},
     "output_type": "execute_result"
    }
   ],
   "source": [
    "df.shape"
   ]
  },
  {
   "cell_type": "markdown",
   "metadata": {},
   "source": [
    "**Итог: Из категориальной (номинальной) переменной *city* были сконструированы следующие признаки:**\n",
    "1. *city_count* - кол-во повторений каждого значения признака city\n",
    "2. *cities_pop* - размер населения города в тыс. жителей\n",
    "3. *country* - страна, в которой находится ресторан\n",
    "4. *country_count* - кол-во повторений каждого значения признака country\n",
    "5. *tourism* - признак, сообщающий информацию об объеме туризма в стране ресторана (млн ночей в год, проведенных в стране нерезидентами)\n",
    "6. *GDP* - информация об уровне жизни в городе: ВВП на душу населения города ($)\n",
    "\n",
    "7. *city_count_pop* - city_count взвешенный по населенности города\n",
    "8. *country_count_tourism* - country_count взвешенный по объему туризма в стране\n",
    "9. *city_count_tourism* - city_count взвешенный по объему туризма в стране\n",
    "10. *GDP_city_count* - GDP взвешенный по city_count\n",
    "11. *GDP_city_pop* - GDP взвешенный по city_pop\n",
    "12. *GDP_tourism* - GDP взвешенный по tourism\n",
    "13. *GDP_p_range* - GDP взвешенный по уровню цен (добавлю ниже, устранив пропуски)\n",
    "14. *n_rev_pop* - кол-во отзывов для ресторана к населению города\n",
    "15. *n_rev_tourism* - кол-во отзывов для ресторана к объему туризма в стране\n",
    "16. *city_p_range* - средняя цена в городе\n",
    "17. *city_n_rev* - среднее количество отзывов в городе\n",
    "18. *city_n_style* - среднее кол-во кухонь, предлагаемых в городе\n",
    "19. *city_n_rev_max* - максимальное количество отзывов в городе\n",
    "20. *dummy для city*\n",
    "21. *dummy для country*"
   ]
  },
  {
   "cell_type": "markdown",
   "metadata": {},
   "source": [
    "### ranking: место, которое занимает ресторан среди всех ресторанов своего города"
   ]
  },
  {
   "cell_type": "markdown",
   "metadata": {},
   "source": [
    "*ranking* - важный признак, один из немногих, оказывающих непосредственное влияние на цел. переменную."
   ]
  },
  {
   "cell_type": "code",
   "execution_count": 101,
   "metadata": {},
   "outputs": [
    {
     "data": {
      "text/html": [
       "<div>\n",
       "<style scoped>\n",
       "    .dataframe tbody tr th:only-of-type {\n",
       "        vertical-align: middle;\n",
       "    }\n",
       "\n",
       "    .dataframe tbody tr th {\n",
       "        vertical-align: top;\n",
       "    }\n",
       "\n",
       "    .dataframe thead th {\n",
       "        text-align: right;\n",
       "    }\n",
       "</style>\n",
       "<table border=\"1\" class=\"dataframe\">\n",
       "  <thead>\n",
       "    <tr style=\"text-align: right;\">\n",
       "      <th></th>\n",
       "      <th>Ranking</th>\n",
       "      <th>Rating</th>\n",
       "    </tr>\n",
       "  </thead>\n",
       "  <tbody>\n",
       "    <tr>\n",
       "      <th>Ranking</th>\n",
       "      <td>1.000000</td>\n",
       "      <td>-0.368371</td>\n",
       "    </tr>\n",
       "    <tr>\n",
       "      <th>Rating</th>\n",
       "      <td>-0.368371</td>\n",
       "      <td>1.000000</td>\n",
       "    </tr>\n",
       "  </tbody>\n",
       "</table>\n",
       "</div>"
      ],
      "text/plain": [
       "          Ranking    Rating\n",
       "Ranking  1.000000 -0.368371\n",
       "Rating  -0.368371  1.000000"
      ]
     },
     "execution_count": 101,
     "metadata": {},
     "output_type": "execute_result"
    }
   ],
   "source": [
    "df_train.loc[:, [\"Ranking\", \"Rating\"]].corr()"
   ]
  },
  {
   "cell_type": "markdown",
   "metadata": {},
   "source": [
    "Прежде чем мы начнем работу с ним, избавимся от пропусков в признаке *p_range*. Для этого воспользуемся пакетом [IterativeImputer](https://scikit-learn.org/stable/modules/impute.html#multivariate-feature-imputation) из **sklearn**, который моделирует каждый признак с пропущенными значениями как функцию других признаков, используя ее для заполнения пропусков. В качестве алгоритма используем **Decision Tree Regressor**."
   ]
  },
  {
   "cell_type": "code",
   "execution_count": 102,
   "metadata": {},
   "outputs": [
    {
     "data": {
      "text/plain": [
       "17361"
      ]
     },
     "execution_count": 102,
     "metadata": {},
     "output_type": "execute_result"
    }
   ],
   "source": [
    "df.p_range.isna().sum()"
   ]
  },
  {
   "cell_type": "code",
   "execution_count": 103,
   "metadata": {},
   "outputs": [],
   "source": [
    "imp = IterativeImputer(estimator=DecisionTreeRegressor(), max_iter=10, verbose=0, random_state=4)\n",
    "\n",
    "# В обучении алгоритма не участвует целевая переменная, чтобы избежать data leakage:\n",
    "df_imp = pd.DataFrame(imp.fit_transform(df.drop(\"rating\", 1)))\n",
    "\n",
    "df_imp.columns = df.drop(\"rating\", 1).columns.to_list()\n",
    "\n",
    "df = pd.concat([df.loc[:, \"rating\"], df_imp], 1)"
   ]
  },
  {
   "cell_type": "code",
   "execution_count": 104,
   "metadata": {},
   "outputs": [
    {
     "data": {
      "text/plain": [
       "2.0    33428\n",
       "1.0    13933\n",
       "3.0     2639\n",
       "Name: p_range, dtype: int64"
      ]
     },
     "execution_count": 104,
     "metadata": {},
     "output_type": "execute_result"
    }
   ],
   "source": [
    "df.p_range.value_counts(dropna=False)"
   ]
  },
  {
   "cell_type": "markdown",
   "metadata": {},
   "source": [
    "Посмотрим, как алгоритм распределил значения среди более чем 15 тысяч пропусков"
   ]
  },
  {
   "cell_type": "code",
   "execution_count": 105,
   "metadata": {},
   "outputs": [
    {
     "data": {
      "text/plain": [
       "2.0    0.598295\n",
       "1.0    0.352341\n",
       "3.0    0.049364\n",
       "Name: p_range, dtype: float64"
      ]
     },
     "execution_count": 105,
     "metadata": {},
     "output_type": "execute_result"
    }
   ],
   "source": [
    "df[df.p_range_isNAN == 1].p_range.value_counts(normalize=True)"
   ]
  },
  {
   "cell_type": "markdown",
   "metadata": {},
   "source": [
    "Чуть менее 60 процентов пришлось на среднюю ценовую категорию, около одной трети - на категорию ниже среднего. 6 процентов пропусков были заполнены значением, обозначающим категорию цен выше среднего."
   ]
  },
  {
   "cell_type": "code",
   "execution_count": 106,
   "metadata": {},
   "outputs": [
    {
     "data": {
      "text/plain": [
       "0        6108.0\n",
       "1         475.0\n",
       "2         745.0\n",
       "3        7193.0\n",
       "4         380.0\n",
       "          ...  \n",
       "49995    2694.0\n",
       "49996    6108.0\n",
       "49997    1033.0\n",
       "49998     925.0\n",
       "49999    2694.0\n",
       "Name: city_count, Length: 50000, dtype: float64"
      ]
     },
     "execution_count": 106,
     "metadata": {},
     "output_type": "execute_result"
    }
   ],
   "source": [
    "df.city_count"
   ]
  },
  {
   "cell_type": "markdown",
   "metadata": {},
   "source": [
    "Переменная *ranking* описывает место, которое занимает данный ресторан **среди всех ресторанов своего города**. Предлагаю создать пременную *ranking_pure* = *rnaking* / *city_count*, которая будет хранить информацию о качестве ресторана, очищенную от влияния размера города. Напомню, что переменная *city_count* содержит числа повторений того или иного города в датасете. Взаимосвязь между *ranking* и *city_count* хорошо видна из корреляционной матрицы ниже (коэф. корр. Пирсона = 0,70):"
   ]
  },
  {
   "cell_type": "code",
   "execution_count": 107,
   "metadata": {},
   "outputs": [
    {
     "data": {
      "image/png": "[encoded data removed]",
      "text/plain": [
       "<Figure size 864x432 with 1 Axes>"
      ]
     },
     "metadata": {
      "needs_background": "light"
     },
     "output_type": "display_data"
    }
   ],
   "source": [
    "# посмотрим на топ 10 городов\n",
    "for x in (df_train['City'].value_counts())[0:10].index:\n",
    "    df_train['Ranking'][df_train['City'] == x].hist(bins=100)\n",
    "plt.show()"
   ]
  },
  {
   "cell_type": "code",
   "execution_count": 108,
   "metadata": {},
   "outputs": [],
   "source": [
    "# Здесь создам список с названиями признаков, которые не хочу видеть в корр. матрице\n",
    "\n",
    "countries_lst = list(set(countries_lst))\n",
    "cities_lst = list(set(cities_lst))\n",
    "\n",
    "prefix_city = \"city_\"\n",
    "prefix_country = \"country_\"\n",
    "\n",
    "cities_lst_drop = [prefix_city + x for x in cities_lst]\n",
    "countries_lst_drop = [prefix_country + x for x in countries_lst]\n",
    "\n",
    "columns_to_drop = list(set(cuis_lst + cities_lst_drop + countries_lst_drop))"
   ]
  },
  {
   "cell_type": "code",
   "execution_count": 109,
   "metadata": {},
   "outputs": [
    {
     "data": {
      "text/html": [
       "<div>\n",
       "<style scoped>\n",
       "    .dataframe tbody tr th:only-of-type {\n",
       "        vertical-align: middle;\n",
       "    }\n",
       "\n",
       "    .dataframe tbody tr th {\n",
       "        vertical-align: top;\n",
       "    }\n",
       "\n",
       "    .dataframe thead th {\n",
       "        text-align: right;\n",
       "    }\n",
       "</style>\n",
       "<table border=\"1\" class=\"dataframe\">\n",
       "  <thead>\n",
       "    <tr style=\"text-align: right;\">\n",
       "      <th></th>\n",
       "      <th>rating</th>\n",
       "      <th>ranking</th>\n",
       "      <th>p_range</th>\n",
       "      <th>n_reviews</th>\n",
       "      <th>n_reviews_isNAN</th>\n",
       "      <th>c_style_isNAN</th>\n",
       "      <th>p_range_isNAN</th>\n",
       "      <th>reviews_isNAN</th>\n",
       "      <th>rev_single</th>\n",
       "      <th>date_delta</th>\n",
       "      <th>...</th>\n",
       "      <th>city_count_tourism</th>\n",
       "      <th>GDP_city_count</th>\n",
       "      <th>GDP_city_pop</th>\n",
       "      <th>GDP_tourism</th>\n",
       "      <th>n_rev_pop</th>\n",
       "      <th>n_rev_tourism</th>\n",
       "      <th>city_p_range</th>\n",
       "      <th>city_n_rev</th>\n",
       "      <th>city_n_style</th>\n",
       "      <th>city_n_rev_max</th>\n",
       "    </tr>\n",
       "  </thead>\n",
       "  <tbody>\n",
       "    <tr>\n",
       "      <th>rating</th>\n",
       "      <td>1.000000</td>\n",
       "      <td>-0.368371</td>\n",
       "      <td>-0.024487</td>\n",
       "      <td>0.026938</td>\n",
       "      <td>0.008386</td>\n",
       "      <td>-0.038263</td>\n",
       "      <td>-0.064567</td>\n",
       "      <td>-0.024727</td>\n",
       "      <td>0.008562</td>\n",
       "      <td>-0.067439</td>\n",
       "      <td>...</td>\n",
       "      <td>0.003188</td>\n",
       "      <td>0.016010</td>\n",
       "      <td>-0.005729</td>\n",
       "      <td>-0.002662</td>\n",
       "      <td>0.023874</td>\n",
       "      <td>0.028828</td>\n",
       "      <td>-0.076125</td>\n",
       "      <td>0.050662</td>\n",
       "      <td>0.081707</td>\n",
       "      <td>-0.019094</td>\n",
       "    </tr>\n",
       "    <tr>\n",
       "      <th>ranking</th>\n",
       "      <td>-0.368371</td>\n",
       "      <td>1.000000</td>\n",
       "      <td>-0.056427</td>\n",
       "      <td>-0.222030</td>\n",
       "      <td>0.094078</td>\n",
       "      <td>0.147995</td>\n",
       "      <td>0.233043</td>\n",
       "      <td>0.106386</td>\n",
       "      <td>0.085453</td>\n",
       "      <td>0.084179</td>\n",
       "      <td>...</td>\n",
       "      <td>0.036733</td>\n",
       "      <td>-0.416794</td>\n",
       "      <td>-0.341766</td>\n",
       "      <td>-0.201388</td>\n",
       "      <td>-0.206234</td>\n",
       "      <td>-0.143447</td>\n",
       "      <td>0.069413</td>\n",
       "      <td>0.102007</td>\n",
       "      <td>-0.074345</td>\n",
       "      <td>0.554007</td>\n",
       "    </tr>\n",
       "    <tr>\n",
       "      <th>p_range</th>\n",
       "      <td>-0.024487</td>\n",
       "      <td>-0.056427</td>\n",
       "      <td>1.000000</td>\n",
       "      <td>0.160052</td>\n",
       "      <td>-0.034805</td>\n",
       "      <td>-0.079124</td>\n",
       "      <td>-0.103880</td>\n",
       "      <td>-0.028298</td>\n",
       "      <td>-0.072403</td>\n",
       "      <td>-0.026027</td>\n",
       "      <td>...</td>\n",
       "      <td>0.000319</td>\n",
       "      <td>0.039006</td>\n",
       "      <td>0.039318</td>\n",
       "      <td>0.025019</td>\n",
       "      <td>0.098634</td>\n",
       "      <td>0.077116</td>\n",
       "      <td>0.162551</td>\n",
       "      <td>-0.042940</td>\n",
       "      <td>-0.045581</td>\n",
       "      <td>0.020271</td>\n",
       "    </tr>\n",
       "    <tr>\n",
       "      <th>n_reviews</th>\n",
       "      <td>0.026938</td>\n",
       "      <td>-0.222030</td>\n",
       "      <td>0.160052</td>\n",
       "      <td>1.000000</td>\n",
       "      <td>-0.105541</td>\n",
       "      <td>-0.201260</td>\n",
       "      <td>-0.266721</td>\n",
       "      <td>-0.163576</td>\n",
       "      <td>-0.128925</td>\n",
       "      <td>-0.116331</td>\n",
       "      <td>...</td>\n",
       "      <td>-0.007033</td>\n",
       "      <td>-0.048185</td>\n",
       "      <td>-0.037855</td>\n",
       "      <td>-0.022092</td>\n",
       "      <td>0.600298</td>\n",
       "      <td>0.439691</td>\n",
       "      <td>-0.083284</td>\n",
       "      <td>0.175619</td>\n",
       "      <td>0.097100</td>\n",
       "      <td>0.101716</td>\n",
       "    </tr>\n",
       "    <tr>\n",
       "      <th>n_reviews_isNAN</th>\n",
       "      <td>0.008386</td>\n",
       "      <td>0.094078</td>\n",
       "      <td>-0.034805</td>\n",
       "      <td>-0.105541</td>\n",
       "      <td>1.000000</td>\n",
       "      <td>0.186118</td>\n",
       "      <td>0.266923</td>\n",
       "      <td>0.329887</td>\n",
       "      <td>0.211646</td>\n",
       "      <td>-0.055110</td>\n",
       "      <td>...</td>\n",
       "      <td>0.017979</td>\n",
       "      <td>0.015745</td>\n",
       "      <td>0.003761</td>\n",
       "      <td>0.010512</td>\n",
       "      <td>-0.073222</td>\n",
       "      <td>-0.046467</td>\n",
       "      <td>-0.007370</td>\n",
       "      <td>-0.052629</td>\n",
       "      <td>-0.010608</td>\n",
       "      <td>-0.038578</td>\n",
       "    </tr>\n",
       "    <tr>\n",
       "      <th>c_style_isNAN</th>\n",
       "      <td>-0.038263</td>\n",
       "      <td>0.147995</td>\n",
       "      <td>-0.079124</td>\n",
       "      <td>-0.201260</td>\n",
       "      <td>0.186118</td>\n",
       "      <td>1.000000</td>\n",
       "      <td>0.753881</td>\n",
       "      <td>0.272140</td>\n",
       "      <td>0.189826</td>\n",
       "      <td>0.048546</td>\n",
       "      <td>...</td>\n",
       "      <td>-0.046449</td>\n",
       "      <td>0.007114</td>\n",
       "      <td>0.009457</td>\n",
       "      <td>-0.010398</td>\n",
       "      <td>-0.138327</td>\n",
       "      <td>-0.090943</td>\n",
       "      <td>0.039404</td>\n",
       "      <td>-0.113051</td>\n",
       "      <td>-0.123611</td>\n",
       "      <td>-0.099099</td>\n",
       "    </tr>\n",
       "    <tr>\n",
       "      <th>p_range_isNAN</th>\n",
       "      <td>-0.064567</td>\n",
       "      <td>0.233043</td>\n",
       "      <td>-0.103880</td>\n",
       "      <td>-0.266721</td>\n",
       "      <td>0.266923</td>\n",
       "      <td>0.753881</td>\n",
       "      <td>1.000000</td>\n",
       "      <td>0.414213</td>\n",
       "      <td>0.244130</td>\n",
       "      <td>0.084441</td>\n",
       "      <td>...</td>\n",
       "      <td>-0.034951</td>\n",
       "      <td>0.006124</td>\n",
       "      <td>0.000677</td>\n",
       "      <td>-0.006045</td>\n",
       "      <td>-0.185150</td>\n",
       "      <td>-0.121014</td>\n",
       "      <td>0.032095</td>\n",
       "      <td>-0.120937</td>\n",
       "      <td>-0.128899</td>\n",
       "      <td>-0.100110</td>\n",
       "    </tr>\n",
       "    <tr>\n",
       "      <th>reviews_isNAN</th>\n",
       "      <td>-0.024727</td>\n",
       "      <td>0.106386</td>\n",
       "      <td>-0.028298</td>\n",
       "      <td>-0.163576</td>\n",
       "      <td>0.329887</td>\n",
       "      <td>0.272140</td>\n",
       "      <td>0.414213</td>\n",
       "      <td>1.000000</td>\n",
       "      <td>-0.157525</td>\n",
       "      <td>0.009844</td>\n",
       "      <td>...</td>\n",
       "      <td>-0.164263</td>\n",
       "      <td>-0.061161</td>\n",
       "      <td>-0.023850</td>\n",
       "      <td>-0.059611</td>\n",
       "      <td>-0.115118</td>\n",
       "      <td>-0.076597</td>\n",
       "      <td>0.003382</td>\n",
       "      <td>-0.020009</td>\n",
       "      <td>-0.204416</td>\n",
       "      <td>-0.072669</td>\n",
       "    </tr>\n",
       "    <tr>\n",
       "      <th>rev_single</th>\n",
       "      <td>0.008562</td>\n",
       "      <td>0.085453</td>\n",
       "      <td>-0.072403</td>\n",
       "      <td>-0.128925</td>\n",
       "      <td>0.211646</td>\n",
       "      <td>0.189826</td>\n",
       "      <td>0.244130</td>\n",
       "      <td>-0.157525</td>\n",
       "      <td>1.000000</td>\n",
       "      <td>-0.206354</td>\n",
       "      <td>...</td>\n",
       "      <td>-0.031622</td>\n",
       "      <td>0.005123</td>\n",
       "      <td>0.006287</td>\n",
       "      <td>-0.001620</td>\n",
       "      <td>-0.091017</td>\n",
       "      <td>-0.060900</td>\n",
       "      <td>0.021106</td>\n",
       "      <td>-0.045651</td>\n",
       "      <td>-0.076646</td>\n",
       "      <td>-0.057164</td>\n",
       "    </tr>\n",
       "    <tr>\n",
       "      <th>date_delta</th>\n",
       "      <td>-0.067439</td>\n",
       "      <td>0.084179</td>\n",
       "      <td>-0.026027</td>\n",
       "      <td>-0.116331</td>\n",
       "      <td>-0.055110</td>\n",
       "      <td>0.048546</td>\n",
       "      <td>0.084441</td>\n",
       "      <td>0.009844</td>\n",
       "      <td>-0.206354</td>\n",
       "      <td>1.000000</td>\n",
       "      <td>...</td>\n",
       "      <td>-0.037727</td>\n",
       "      <td>0.003421</td>\n",
       "      <td>0.005600</td>\n",
       "      <td>-0.003328</td>\n",
       "      <td>-0.081542</td>\n",
       "      <td>-0.064447</td>\n",
       "      <td>0.028900</td>\n",
       "      <td>-0.036954</td>\n",
       "      <td>-0.077705</td>\n",
       "      <td>-0.039235</td>\n",
       "    </tr>\n",
       "    <tr>\n",
       "      <th>rev_fresh</th>\n",
       "      <td>-0.078774</td>\n",
       "      <td>0.167319</td>\n",
       "      <td>-0.039888</td>\n",
       "      <td>-0.179369</td>\n",
       "      <td>0.097369</td>\n",
       "      <td>0.136208</td>\n",
       "      <td>0.261131</td>\n",
       "      <td>-0.006032</td>\n",
       "      <td>0.353391</td>\n",
       "      <td>0.073295</td>\n",
       "      <td>...</td>\n",
       "      <td>-0.039856</td>\n",
       "      <td>-0.005932</td>\n",
       "      <td>-0.003330</td>\n",
       "      <td>-0.009708</td>\n",
       "      <td>-0.133226</td>\n",
       "      <td>-0.092758</td>\n",
       "      <td>0.036109</td>\n",
       "      <td>-0.053232</td>\n",
       "      <td>-0.104512</td>\n",
       "      <td>-0.052866</td>\n",
       "    </tr>\n",
       "    <tr>\n",
       "      <th>n_style</th>\n",
       "      <td>0.120059</td>\n",
       "      <td>-0.320250</td>\n",
       "      <td>0.155069</td>\n",
       "      <td>0.405599</td>\n",
       "      <td>-0.175335</td>\n",
       "      <td>-0.490787</td>\n",
       "      <td>-0.566692</td>\n",
       "      <td>-0.286146</td>\n",
       "      <td>-0.221962</td>\n",
       "      <td>-0.173211</td>\n",
       "      <td>...</td>\n",
       "      <td>0.078142</td>\n",
       "      <td>0.034700</td>\n",
       "      <td>0.002071</td>\n",
       "      <td>0.029518</td>\n",
       "      <td>0.277297</td>\n",
       "      <td>0.222852</td>\n",
       "      <td>-0.100945</td>\n",
       "      <td>0.139621</td>\n",
       "      <td>0.236854</td>\n",
       "      <td>0.069414</td>\n",
       "    </tr>\n",
       "    <tr>\n",
       "      <th>top_cuis</th>\n",
       "      <td>0.118133</td>\n",
       "      <td>-0.321113</td>\n",
       "      <td>0.151233</td>\n",
       "      <td>0.354727</td>\n",
       "      <td>-0.107981</td>\n",
       "      <td>-0.092674</td>\n",
       "      <td>-0.258740</td>\n",
       "      <td>-0.179190</td>\n",
       "      <td>-0.147064</td>\n",
       "      <td>-0.137388</td>\n",
       "      <td>...</td>\n",
       "      <td>-0.038813</td>\n",
       "      <td>0.016427</td>\n",
       "      <td>0.011363</td>\n",
       "      <td>0.003230</td>\n",
       "      <td>0.230719</td>\n",
       "      <td>0.153812</td>\n",
       "      <td>-0.115039</td>\n",
       "      <td>0.164054</td>\n",
       "      <td>0.143253</td>\n",
       "      <td>0.021043</td>\n",
       "    </tr>\n",
       "    <tr>\n",
       "      <th>unique_cuis</th>\n",
       "      <td>0.012450</td>\n",
       "      <td>-0.004713</td>\n",
       "      <td>-0.000615</td>\n",
       "      <td>-0.007200</td>\n",
       "      <td>-0.001481</td>\n",
       "      <td>-0.024763</td>\n",
       "      <td>-0.022334</td>\n",
       "      <td>0.000598</td>\n",
       "      <td>-0.005125</td>\n",
       "      <td>-0.004804</td>\n",
       "      <td>...</td>\n",
       "      <td>0.001731</td>\n",
       "      <td>0.005438</td>\n",
       "      <td>0.003289</td>\n",
       "      <td>0.000110</td>\n",
       "      <td>-0.004721</td>\n",
       "      <td>-0.003297</td>\n",
       "      <td>0.001760</td>\n",
       "      <td>-0.008388</td>\n",
       "      <td>-0.000893</td>\n",
       "      <td>-0.001606</td>\n",
       "    </tr>\n",
       "    <tr>\n",
       "      <th>city_count</th>\n",
       "      <td>-0.060874</td>\n",
       "      <td>0.709143</td>\n",
       "      <td>0.042403</td>\n",
       "      <td>0.027981</td>\n",
       "      <td>-0.023589</td>\n",
       "      <td>-0.046999</td>\n",
       "      <td>-0.044224</td>\n",
       "      <td>-0.062047</td>\n",
       "      <td>-0.035512</td>\n",
       "      <td>-0.020106</td>\n",
       "      <td>...</td>\n",
       "      <td>0.053124</td>\n",
       "      <td>-0.584176</td>\n",
       "      <td>-0.478166</td>\n",
       "      <td>-0.282225</td>\n",
       "      <td>-0.156682</td>\n",
       "      <td>-0.128947</td>\n",
       "      <td>0.100890</td>\n",
       "      <td>0.146728</td>\n",
       "      <td>-0.102810</td>\n",
       "      <td>0.783353</td>\n",
       "    </tr>\n",
       "    <tr>\n",
       "      <th>cities_pop</th>\n",
       "      <td>-0.024306</td>\n",
       "      <td>0.566478</td>\n",
       "      <td>0.001973</td>\n",
       "      <td>0.022378</td>\n",
       "      <td>-0.004010</td>\n",
       "      <td>-0.042867</td>\n",
       "      <td>-0.040139</td>\n",
       "      <td>-0.117646</td>\n",
       "      <td>-0.051760</td>\n",
       "      <td>-0.044755</td>\n",
       "      <td>...</td>\n",
       "      <td>0.149568</td>\n",
       "      <td>-0.415383</td>\n",
       "      <td>-0.491348</td>\n",
       "      <td>-0.183404</td>\n",
       "      <td>-0.162780</td>\n",
       "      <td>-0.080544</td>\n",
       "      <td>-0.076866</td>\n",
       "      <td>0.124576</td>\n",
       "      <td>0.197125</td>\n",
       "      <td>0.665879</td>\n",
       "    </tr>\n",
       "    <tr>\n",
       "      <th>country_count</th>\n",
       "      <td>-0.070371</td>\n",
       "      <td>0.571651</td>\n",
       "      <td>0.030129</td>\n",
       "      <td>0.026374</td>\n",
       "      <td>-0.027106</td>\n",
       "      <td>0.010756</td>\n",
       "      <td>0.007303</td>\n",
       "      <td>0.088191</td>\n",
       "      <td>0.002867</td>\n",
       "      <td>0.015281</td>\n",
       "      <td>...</td>\n",
       "      <td>-0.319154</td>\n",
       "      <td>-0.638385</td>\n",
       "      <td>-0.532782</td>\n",
       "      <td>-0.393215</td>\n",
       "      <td>-0.164617</td>\n",
       "      <td>-0.184885</td>\n",
       "      <td>0.083547</td>\n",
       "      <td>0.136488</td>\n",
       "      <td>-0.415521</td>\n",
       "      <td>0.553066</td>\n",
       "    </tr>\n",
       "    <tr>\n",
       "      <th>tourism</th>\n",
       "      <td>-0.068268</td>\n",
       "      <td>0.286544</td>\n",
       "      <td>0.009733</td>\n",
       "      <td>0.051437</td>\n",
       "      <td>-0.027290</td>\n",
       "      <td>0.018675</td>\n",
       "      <td>0.015964</td>\n",
       "      <td>0.178342</td>\n",
       "      <td>0.019079</td>\n",
       "      <td>0.024072</td>\n",
       "      <td>...</td>\n",
       "      <td>-0.546022</td>\n",
       "      <td>-0.513471</td>\n",
       "      <td>-0.436808</td>\n",
       "      <td>-0.343865</td>\n",
       "      <td>-0.112575</td>\n",
       "      <td>-0.162195</td>\n",
       "      <td>-0.082002</td>\n",
       "      <td>0.284683</td>\n",
       "      <td>-0.309007</td>\n",
       "      <td>0.356047</td>\n",
       "    </tr>\n",
       "    <tr>\n",
       "      <th>GDP</th>\n",
       "      <td>-0.063549</td>\n",
       "      <td>0.247354</td>\n",
       "      <td>0.121293</td>\n",
       "      <td>-0.026013</td>\n",
       "      <td>-0.013991</td>\n",
       "      <td>-0.026629</td>\n",
       "      <td>-0.028486</td>\n",
       "      <td>-0.108674</td>\n",
       "      <td>-0.020795</td>\n",
       "      <td>-0.002657</td>\n",
       "      <td>...</td>\n",
       "      <td>0.217884</td>\n",
       "      <td>0.282875</td>\n",
       "      <td>0.124735</td>\n",
       "      <td>0.285934</td>\n",
       "      <td>-0.078168</td>\n",
       "      <td>0.013971</td>\n",
       "      <td>0.725524</td>\n",
       "      <td>-0.158914</td>\n",
       "      <td>-0.041636</td>\n",
       "      <td>0.223224</td>\n",
       "    </tr>\n",
       "    <tr>\n",
       "      <th>city_count_pop</th>\n",
       "      <td>-0.037601</td>\n",
       "      <td>-0.003943</td>\n",
       "      <td>0.031656</td>\n",
       "      <td>-0.007250</td>\n",
       "      <td>-0.015874</td>\n",
       "      <td>0.000965</td>\n",
       "      <td>-0.006544</td>\n",
       "      <td>0.039627</td>\n",
       "      <td>0.013385</td>\n",
       "      <td>0.019612</td>\n",
       "      <td>...</td>\n",
       "      <td>-0.030837</td>\n",
       "      <td>-0.121417</td>\n",
       "      <td>0.698489</td>\n",
       "      <td>-0.091052</td>\n",
       "      <td>0.203337</td>\n",
       "      <td>-0.040002</td>\n",
       "      <td>0.129851</td>\n",
       "      <td>-0.037675</td>\n",
       "      <td>-0.267390</td>\n",
       "      <td>0.058004</td>\n",
       "    </tr>\n",
       "    <tr>\n",
       "      <th>country_count_tourism</th>\n",
       "      <td>0.018231</td>\n",
       "      <td>-0.067515</td>\n",
       "      <td>-0.013092</td>\n",
       "      <td>-0.029437</td>\n",
       "      <td>0.024964</td>\n",
       "      <td>-0.008285</td>\n",
       "      <td>-0.002803</td>\n",
       "      <td>-0.115356</td>\n",
       "      <td>-0.009823</td>\n",
       "      <td>-0.019908</td>\n",
       "      <td>...</td>\n",
       "      <td>0.908291</td>\n",
       "      <td>0.306419</td>\n",
       "      <td>0.117058</td>\n",
       "      <td>0.510550</td>\n",
       "      <td>0.010650</td>\n",
       "      <td>0.267208</td>\n",
       "      <td>0.004529</td>\n",
       "      <td>-0.159503</td>\n",
       "      <td>0.169857</td>\n",
       "      <td>-0.060458</td>\n",
       "    </tr>\n",
       "    <tr>\n",
       "      <th>city_count_tourism</th>\n",
       "      <td>0.003188</td>\n",
       "      <td>0.036733</td>\n",
       "      <td>0.000319</td>\n",
       "      <td>-0.007033</td>\n",
       "      <td>0.017979</td>\n",
       "      <td>-0.046449</td>\n",
       "      <td>-0.034951</td>\n",
       "      <td>-0.164263</td>\n",
       "      <td>-0.031622</td>\n",
       "      <td>-0.037727</td>\n",
       "      <td>...</td>\n",
       "      <td>1.000000</td>\n",
       "      <td>0.258922</td>\n",
       "      <td>0.118690</td>\n",
       "      <td>0.524421</td>\n",
       "      <td>0.009804</td>\n",
       "      <td>0.273819</td>\n",
       "      <td>0.000136</td>\n",
       "      <td>-0.032060</td>\n",
       "      <td>0.336970</td>\n",
       "      <td>0.148552</td>\n",
       "    </tr>\n",
       "    <tr>\n",
       "      <th>GDP_city_count</th>\n",
       "      <td>0.016010</td>\n",
       "      <td>-0.416794</td>\n",
       "      <td>0.039006</td>\n",
       "      <td>-0.048185</td>\n",
       "      <td>0.015745</td>\n",
       "      <td>0.007114</td>\n",
       "      <td>0.006124</td>\n",
       "      <td>-0.061161</td>\n",
       "      <td>0.005123</td>\n",
       "      <td>0.003421</td>\n",
       "      <td>...</td>\n",
       "      <td>0.258922</td>\n",
       "      <td>1.000000</td>\n",
       "      <td>0.495956</td>\n",
       "      <td>0.800405</td>\n",
       "      <td>0.086960</td>\n",
       "      <td>0.214468</td>\n",
       "      <td>0.320200</td>\n",
       "      <td>-0.257332</td>\n",
       "      <td>0.158921</td>\n",
       "      <td>-0.561872</td>\n",
       "    </tr>\n",
       "    <tr>\n",
       "      <th>GDP_city_pop</th>\n",
       "      <td>-0.005729</td>\n",
       "      <td>-0.341766</td>\n",
       "      <td>0.039318</td>\n",
       "      <td>-0.037855</td>\n",
       "      <td>0.003761</td>\n",
       "      <td>0.009457</td>\n",
       "      <td>0.000677</td>\n",
       "      <td>-0.023850</td>\n",
       "      <td>0.006287</td>\n",
       "      <td>0.005600</td>\n",
       "      <td>...</td>\n",
       "      <td>0.118690</td>\n",
       "      <td>0.495956</td>\n",
       "      <td>1.000000</td>\n",
       "      <td>0.287181</td>\n",
       "      <td>0.253326</td>\n",
       "      <td>0.082241</td>\n",
       "      <td>0.250874</td>\n",
       "      <td>-0.197687</td>\n",
       "      <td>0.010762</td>\n",
       "      <td>-0.326249</td>\n",
       "    </tr>\n",
       "    <tr>\n",
       "      <th>GDP_tourism</th>\n",
       "      <td>-0.002662</td>\n",
       "      <td>-0.201388</td>\n",
       "      <td>0.025019</td>\n",
       "      <td>-0.022092</td>\n",
       "      <td>0.010512</td>\n",
       "      <td>-0.010398</td>\n",
       "      <td>-0.006045</td>\n",
       "      <td>-0.059611</td>\n",
       "      <td>-0.001620</td>\n",
       "      <td>-0.003328</td>\n",
       "      <td>...</td>\n",
       "      <td>0.524421</td>\n",
       "      <td>0.800405</td>\n",
       "      <td>0.287181</td>\n",
       "      <td>1.000000</td>\n",
       "      <td>0.038489</td>\n",
       "      <td>0.279203</td>\n",
       "      <td>0.190936</td>\n",
       "      <td>-0.114854</td>\n",
       "      <td>0.136762</td>\n",
       "      <td>-0.268537</td>\n",
       "    </tr>\n",
       "    <tr>\n",
       "      <th>n_rev_pop</th>\n",
       "      <td>0.023874</td>\n",
       "      <td>-0.206234</td>\n",
       "      <td>0.098634</td>\n",
       "      <td>0.600298</td>\n",
       "      <td>-0.073222</td>\n",
       "      <td>-0.138327</td>\n",
       "      <td>-0.185150</td>\n",
       "      <td>-0.115118</td>\n",
       "      <td>-0.091017</td>\n",
       "      <td>-0.081542</td>\n",
       "      <td>...</td>\n",
       "      <td>0.009804</td>\n",
       "      <td>0.086960</td>\n",
       "      <td>0.253326</td>\n",
       "      <td>0.038489</td>\n",
       "      <td>1.000000</td>\n",
       "      <td>0.419747</td>\n",
       "      <td>-0.063181</td>\n",
       "      <td>0.050702</td>\n",
       "      <td>0.072049</td>\n",
       "      <td>-0.074445</td>\n",
       "    </tr>\n",
       "    <tr>\n",
       "      <th>n_rev_tourism</th>\n",
       "      <td>0.028828</td>\n",
       "      <td>-0.143447</td>\n",
       "      <td>0.077116</td>\n",
       "      <td>0.439691</td>\n",
       "      <td>-0.046467</td>\n",
       "      <td>-0.090943</td>\n",
       "      <td>-0.121014</td>\n",
       "      <td>-0.076597</td>\n",
       "      <td>-0.060900</td>\n",
       "      <td>-0.064447</td>\n",
       "      <td>...</td>\n",
       "      <td>0.273819</td>\n",
       "      <td>0.214468</td>\n",
       "      <td>0.082241</td>\n",
       "      <td>0.279203</td>\n",
       "      <td>0.419747</td>\n",
       "      <td>1.000000</td>\n",
       "      <td>-0.027821</td>\n",
       "      <td>0.032886</td>\n",
       "      <td>0.141393</td>\n",
       "      <td>-0.060301</td>\n",
       "    </tr>\n",
       "    <tr>\n",
       "      <th>city_p_range</th>\n",
       "      <td>-0.076125</td>\n",
       "      <td>0.069413</td>\n",
       "      <td>0.162551</td>\n",
       "      <td>-0.083284</td>\n",
       "      <td>-0.007370</td>\n",
       "      <td>0.039404</td>\n",
       "      <td>0.032095</td>\n",
       "      <td>0.003382</td>\n",
       "      <td>0.021106</td>\n",
       "      <td>0.028900</td>\n",
       "      <td>...</td>\n",
       "      <td>0.000136</td>\n",
       "      <td>0.320200</td>\n",
       "      <td>0.250874</td>\n",
       "      <td>0.190936</td>\n",
       "      <td>-0.063181</td>\n",
       "      <td>-0.027821</td>\n",
       "      <td>1.000000</td>\n",
       "      <td>-0.479348</td>\n",
       "      <td>-0.421112</td>\n",
       "      <td>-0.144348</td>\n",
       "    </tr>\n",
       "    <tr>\n",
       "      <th>city_n_rev</th>\n",
       "      <td>0.050662</td>\n",
       "      <td>0.102007</td>\n",
       "      <td>-0.042940</td>\n",
       "      <td>0.175619</td>\n",
       "      <td>-0.052629</td>\n",
       "      <td>-0.113051</td>\n",
       "      <td>-0.120937</td>\n",
       "      <td>-0.020009</td>\n",
       "      <td>-0.045651</td>\n",
       "      <td>-0.036954</td>\n",
       "      <td>...</td>\n",
       "      <td>-0.032060</td>\n",
       "      <td>-0.257332</td>\n",
       "      <td>-0.197687</td>\n",
       "      <td>-0.114854</td>\n",
       "      <td>0.050702</td>\n",
       "      <td>0.032886</td>\n",
       "      <td>-0.479348</td>\n",
       "      <td>1.000000</td>\n",
       "      <td>0.572424</td>\n",
       "      <td>0.569583</td>\n",
       "    </tr>\n",
       "    <tr>\n",
       "      <th>city_n_style</th>\n",
       "      <td>0.081707</td>\n",
       "      <td>-0.074345</td>\n",
       "      <td>-0.045581</td>\n",
       "      <td>0.097100</td>\n",
       "      <td>-0.010608</td>\n",
       "      <td>-0.123611</td>\n",
       "      <td>-0.128899</td>\n",
       "      <td>-0.204416</td>\n",
       "      <td>-0.076646</td>\n",
       "      <td>-0.077705</td>\n",
       "      <td>...</td>\n",
       "      <td>0.336970</td>\n",
       "      <td>0.158921</td>\n",
       "      <td>0.010762</td>\n",
       "      <td>0.136762</td>\n",
       "      <td>0.072049</td>\n",
       "      <td>0.141393</td>\n",
       "      <td>-0.421112</td>\n",
       "      <td>0.572424</td>\n",
       "      <td>1.000000</td>\n",
       "      <td>0.282125</td>\n",
       "    </tr>\n",
       "    <tr>\n",
       "      <th>city_n_rev_max</th>\n",
       "      <td>-0.019094</td>\n",
       "      <td>0.554007</td>\n",
       "      <td>0.020271</td>\n",
       "      <td>0.101716</td>\n",
       "      <td>-0.038578</td>\n",
       "      <td>-0.099099</td>\n",
       "      <td>-0.100110</td>\n",
       "      <td>-0.072669</td>\n",
       "      <td>-0.057164</td>\n",
       "      <td>-0.039235</td>\n",
       "      <td>...</td>\n",
       "      <td>0.148552</td>\n",
       "      <td>-0.561872</td>\n",
       "      <td>-0.326249</td>\n",
       "      <td>-0.268537</td>\n",
       "      <td>-0.074445</td>\n",
       "      <td>-0.060301</td>\n",
       "      <td>-0.144348</td>\n",
       "      <td>0.569583</td>\n",
       "      <td>0.282125</td>\n",
       "      <td>1.000000</td>\n",
       "    </tr>\n",
       "  </tbody>\n",
       "</table>\n",
       "<p>31 rows × 31 columns</p>\n",
       "</div>"
      ],
      "text/plain": [
       "                         rating   ranking   p_range  n_reviews  \\\n",
       "rating                 1.000000 -0.368371 -0.024487   0.026938   \n",
       "ranking               -0.368371  1.000000 -0.056427  -0.222030   \n",
       "p_range               -0.024487 -0.056427  1.000000   0.160052   \n",
       "n_reviews              0.026938 -0.222030  0.160052   1.000000   \n",
       "n_reviews_isNAN        0.008386  0.094078 -0.034805  -0.105541   \n",
       "c_style_isNAN         -0.038263  0.147995 -0.079124  -0.201260   \n",
       "p_range_isNAN         -0.064567  0.233043 -0.103880  -0.266721   \n",
       "reviews_isNAN         -0.024727  0.106386 -0.028298  -0.163576   \n",
       "rev_single             0.008562  0.085453 -0.072403  -0.128925   \n",
       "date_delta            -0.067439  0.084179 -0.026027  -0.116331   \n",
       "rev_fresh             -0.078774  0.167319 -0.039888  -0.179369   \n",
       "n_style                0.120059 -0.320250  0.155069   0.405599   \n",
       "top_cuis               0.118133 -0.321113  0.151233   0.354727   \n",
       "unique_cuis            0.012450 -0.004713 -0.000615  -0.007200   \n",
       "city_count            -0.060874  0.709143  0.042403   0.027981   \n",
       "cities_pop            -0.024306  0.566478  0.001973   0.022378   \n",
       "country_count         -0.070371  0.571651  0.030129   0.026374   \n",
       "tourism               -0.068268  0.286544  0.009733   0.051437   \n",
       "GDP                   -0.063549  0.247354  0.121293  -0.026013   \n",
       "city_count_pop        -0.037601 -0.003943  0.031656  -0.007250   \n",
       "country_count_tourism  0.018231 -0.067515 -0.013092  -0.029437   \n",
       "city_count_tourism     0.003188  0.036733  0.000319  -0.007033   \n",
       "GDP_city_count         0.016010 -0.416794  0.039006  -0.048185   \n",
       "GDP_city_pop          -0.005729 -0.341766  0.039318  -0.037855   \n",
       "GDP_tourism           -0.002662 -0.201388  0.025019  -0.022092   \n",
       "n_rev_pop              0.023874 -0.206234  0.098634   0.600298   \n",
       "n_rev_tourism          0.028828 -0.143447  0.077116   0.439691   \n",
       "city_p_range          -0.076125  0.069413  0.162551  -0.083284   \n",
       "city_n_rev             0.050662  0.102007 -0.042940   0.175619   \n",
       "city_n_style           0.081707 -0.074345 -0.045581   0.097100   \n",
       "city_n_rev_max        -0.019094  0.554007  0.020271   0.101716   \n",
       "\n",
       "                       n_reviews_isNAN  c_style_isNAN  p_range_isNAN  \\\n",
       "rating                        0.008386      -0.038263      -0.064567   \n",
       "ranking                       0.094078       0.147995       0.233043   \n",
       "p_range                      -0.034805      -0.079124      -0.103880   \n",
       "n_reviews                    -0.105541      -0.201260      -0.266721   \n",
       "n_reviews_isNAN               1.000000       0.186118       0.266923   \n",
       "c_style_isNAN                 0.186118       1.000000       0.753881   \n",
       "p_range_isNAN                 0.266923       0.753881       1.000000   \n",
       "reviews_isNAN                 0.329887       0.272140       0.414213   \n",
       "rev_single                    0.211646       0.189826       0.244130   \n",
       "date_delta                   -0.055110       0.048546       0.084441   \n",
       "rev_fresh                     0.097369       0.136208       0.261131   \n",
       "n_style                      -0.175335      -0.490787      -0.566692   \n",
       "top_cuis                     -0.107981      -0.092674      -0.258740   \n",
       "unique_cuis                  -0.001481      -0.024763      -0.022334   \n",
       "city_count                   -0.023589      -0.046999      -0.044224   \n",
       "cities_pop                   -0.004010      -0.042867      -0.040139   \n",
       "country_count                -0.027106       0.010756       0.007303   \n",
       "tourism                      -0.027290       0.018675       0.015964   \n",
       "GDP                          -0.013991      -0.026629      -0.028486   \n",
       "city_count_pop               -0.015874       0.000965      -0.006544   \n",
       "country_count_tourism         0.024964      -0.008285      -0.002803   \n",
       "city_count_tourism            0.017979      -0.046449      -0.034951   \n",
       "GDP_city_count                0.015745       0.007114       0.006124   \n",
       "GDP_city_pop                  0.003761       0.009457       0.000677   \n",
       "GDP_tourism                   0.010512      -0.010398      -0.006045   \n",
       "n_rev_pop                    -0.073222      -0.138327      -0.185150   \n",
       "n_rev_tourism                -0.046467      -0.090943      -0.121014   \n",
       "city_p_range                 -0.007370       0.039404       0.032095   \n",
       "city_n_rev                   -0.052629      -0.113051      -0.120937   \n",
       "city_n_style                 -0.010608      -0.123611      -0.128899   \n",
       "city_n_rev_max               -0.038578      -0.099099      -0.100110   \n",
       "\n",
       "                       reviews_isNAN  rev_single  date_delta  ...  \\\n",
       "rating                     -0.024727    0.008562   -0.067439  ...   \n",
       "ranking                     0.106386    0.085453    0.084179  ...   \n",
       "p_range                    -0.028298   -0.072403   -0.026027  ...   \n",
       "n_reviews                  -0.163576   -0.128925   -0.116331  ...   \n",
       "n_reviews_isNAN             0.329887    0.211646   -0.055110  ...   \n",
       "c_style_isNAN               0.272140    0.189826    0.048546  ...   \n",
       "p_range_isNAN               0.414213    0.244130    0.084441  ...   \n",
       "reviews_isNAN               1.000000   -0.157525    0.009844  ...   \n",
       "rev_single                 -0.157525    1.000000   -0.206354  ...   \n",
       "date_delta                  0.009844   -0.206354    1.000000  ...   \n",
       "rev_fresh                  -0.006032    0.353391    0.073295  ...   \n",
       "n_style                    -0.286146   -0.221962   -0.173211  ...   \n",
       "top_cuis                   -0.179190   -0.147064   -0.137388  ...   \n",
       "unique_cuis                 0.000598   -0.005125   -0.004804  ...   \n",
       "city_count                 -0.062047   -0.035512   -0.020106  ...   \n",
       "cities_pop                 -0.117646   -0.051760   -0.044755  ...   \n",
       "country_count               0.088191    0.002867    0.015281  ...   \n",
       "tourism                     0.178342    0.019079    0.024072  ...   \n",
       "GDP                        -0.108674   -0.020795   -0.002657  ...   \n",
       "city_count_pop              0.039627    0.013385    0.019612  ...   \n",
       "country_count_tourism      -0.115356   -0.009823   -0.019908  ...   \n",
       "city_count_tourism         -0.164263   -0.031622   -0.037727  ...   \n",
       "GDP_city_count             -0.061161    0.005123    0.003421  ...   \n",
       "GDP_city_pop               -0.023850    0.006287    0.005600  ...   \n",
       "GDP_tourism                -0.059611   -0.001620   -0.003328  ...   \n",
       "n_rev_pop                  -0.115118   -0.091017   -0.081542  ...   \n",
       "n_rev_tourism              -0.076597   -0.060900   -0.064447  ...   \n",
       "city_p_range                0.003382    0.021106    0.028900  ...   \n",
       "city_n_rev                 -0.020009   -0.045651   -0.036954  ...   \n",
       "city_n_style               -0.204416   -0.076646   -0.077705  ...   \n",
       "city_n_rev_max             -0.072669   -0.057164   -0.039235  ...   \n",
       "\n",
       "                       city_count_tourism  GDP_city_count  GDP_city_pop  \\\n",
       "rating                           0.003188        0.016010     -0.005729   \n",
       "ranking                          0.036733       -0.416794     -0.341766   \n",
       "p_range                          0.000319        0.039006      0.039318   \n",
       "n_reviews                       -0.007033       -0.048185     -0.037855   \n",
       "n_reviews_isNAN                  0.017979        0.015745      0.003761   \n",
       "c_style_isNAN                   -0.046449        0.007114      0.009457   \n",
       "p_range_isNAN                   -0.034951        0.006124      0.000677   \n",
       "reviews_isNAN                   -0.164263       -0.061161     -0.023850   \n",
       "rev_single                      -0.031622        0.005123      0.006287   \n",
       "date_delta                      -0.037727        0.003421      0.005600   \n",
       "rev_fresh                       -0.039856       -0.005932     -0.003330   \n",
       "n_style                          0.078142        0.034700      0.002071   \n",
       "top_cuis                        -0.038813        0.016427      0.011363   \n",
       "unique_cuis                      0.001731        0.005438      0.003289   \n",
       "city_count                       0.053124       -0.584176     -0.478166   \n",
       "cities_pop                       0.149568       -0.415383     -0.491348   \n",
       "country_count                   -0.319154       -0.638385     -0.532782   \n",
       "tourism                         -0.546022       -0.513471     -0.436808   \n",
       "GDP                              0.217884        0.282875      0.124735   \n",
       "city_count_pop                  -0.030837       -0.121417      0.698489   \n",
       "country_count_tourism            0.908291        0.306419      0.117058   \n",
       "city_count_tourism               1.000000        0.258922      0.118690   \n",
       "GDP_city_count                   0.258922        1.000000      0.495956   \n",
       "GDP_city_pop                     0.118690        0.495956      1.000000   \n",
       "GDP_tourism                      0.524421        0.800405      0.287181   \n",
       "n_rev_pop                        0.009804        0.086960      0.253326   \n",
       "n_rev_tourism                    0.273819        0.214468      0.082241   \n",
       "city_p_range                     0.000136        0.320200      0.250874   \n",
       "city_n_rev                      -0.032060       -0.257332     -0.197687   \n",
       "city_n_style                     0.336970        0.158921      0.010762   \n",
       "city_n_rev_max                   0.148552       -0.561872     -0.326249   \n",
       "\n",
       "                       GDP_tourism  n_rev_pop  n_rev_tourism  city_p_range  \\\n",
       "rating                   -0.002662   0.023874       0.028828     -0.076125   \n",
       "ranking                  -0.201388  -0.206234      -0.143447      0.069413   \n",
       "p_range                   0.025019   0.098634       0.077116      0.162551   \n",
       "n_reviews                -0.022092   0.600298       0.439691     -0.083284   \n",
       "n_reviews_isNAN           0.010512  -0.073222      -0.046467     -0.007370   \n",
       "c_style_isNAN            -0.010398  -0.138327      -0.090943      0.039404   \n",
       "p_range_isNAN            -0.006045  -0.185150      -0.121014      0.032095   \n",
       "reviews_isNAN            -0.059611  -0.115118      -0.076597      0.003382   \n",
       "rev_single               -0.001620  -0.091017      -0.060900      0.021106   \n",
       "date_delta               -0.003328  -0.081542      -0.064447      0.028900   \n",
       "rev_fresh                -0.009708  -0.133226      -0.092758      0.036109   \n",
       "n_style                   0.029518   0.277297       0.222852     -0.100945   \n",
       "top_cuis                  0.003230   0.230719       0.153812     -0.115039   \n",
       "unique_cuis               0.000110  -0.004721      -0.003297      0.001760   \n",
       "city_count               -0.282225  -0.156682      -0.128947      0.100890   \n",
       "cities_pop               -0.183404  -0.162780      -0.080544     -0.076866   \n",
       "country_count            -0.393215  -0.164617      -0.184885      0.083547   \n",
       "tourism                  -0.343865  -0.112575      -0.162195     -0.082002   \n",
       "GDP                       0.285934  -0.078168       0.013971      0.725524   \n",
       "city_count_pop           -0.091052   0.203337      -0.040002      0.129851   \n",
       "country_count_tourism     0.510550   0.010650       0.267208      0.004529   \n",
       "city_count_tourism        0.524421   0.009804       0.273819      0.000136   \n",
       "GDP_city_count            0.800405   0.086960       0.214468      0.320200   \n",
       "GDP_city_pop              0.287181   0.253326       0.082241      0.250874   \n",
       "GDP_tourism               1.000000   0.038489       0.279203      0.190936   \n",
       "n_rev_pop                 0.038489   1.000000       0.419747     -0.063181   \n",
       "n_rev_tourism             0.279203   0.419747       1.000000     -0.027821   \n",
       "city_p_range              0.190936  -0.063181      -0.027821      1.000000   \n",
       "city_n_rev               -0.114854   0.050702       0.032886     -0.479348   \n",
       "city_n_style              0.136762   0.072049       0.141393     -0.421112   \n",
       "city_n_rev_max           -0.268537  -0.074445      -0.060301     -0.144348   \n",
       "\n",
       "                       city_n_rev  city_n_style  city_n_rev_max  \n",
       "rating                   0.050662      0.081707       -0.019094  \n",
       "ranking                  0.102007     -0.074345        0.554007  \n",
       "p_range                 -0.042940     -0.045581        0.020271  \n",
       "n_reviews                0.175619      0.097100        0.101716  \n",
       "n_reviews_isNAN         -0.052629     -0.010608       -0.038578  \n",
       "c_style_isNAN           -0.113051     -0.123611       -0.099099  \n",
       "p_range_isNAN           -0.120937     -0.128899       -0.100110  \n",
       "reviews_isNAN           -0.020009     -0.204416       -0.072669  \n",
       "rev_single              -0.045651     -0.076646       -0.057164  \n",
       "date_delta              -0.036954     -0.077705       -0.039235  \n",
       "rev_fresh               -0.053232     -0.104512       -0.052866  \n",
       "n_style                  0.139621      0.236854        0.069414  \n",
       "top_cuis                 0.164054      0.143253        0.021043  \n",
       "unique_cuis             -0.008388     -0.000893       -0.001606  \n",
       "city_count               0.146728     -0.102810        0.783353  \n",
       "cities_pop               0.124576      0.197125        0.665879  \n",
       "country_count            0.136488     -0.415521        0.553066  \n",
       "tourism                  0.284683     -0.309007        0.356047  \n",
       "GDP                     -0.158914     -0.041636        0.223224  \n",
       "city_count_pop          -0.037675     -0.267390        0.058004  \n",
       "country_count_tourism   -0.159503      0.169857       -0.060458  \n",
       "city_count_tourism      -0.032060      0.336970        0.148552  \n",
       "GDP_city_count          -0.257332      0.158921       -0.561872  \n",
       "GDP_city_pop            -0.197687      0.010762       -0.326249  \n",
       "GDP_tourism             -0.114854      0.136762       -0.268537  \n",
       "n_rev_pop                0.050702      0.072049       -0.074445  \n",
       "n_rev_tourism            0.032886      0.141393       -0.060301  \n",
       "city_p_range            -0.479348     -0.421112       -0.144348  \n",
       "city_n_rev               1.000000      0.572424        0.569583  \n",
       "city_n_style             0.572424      1.000000        0.282125  \n",
       "city_n_rev_max           0.569583      0.282125        1.000000  \n",
       "\n",
       "[31 rows x 31 columns]"
      ]
     },
     "metadata": {},
     "output_type": "display_data"
    }
   ],
   "source": [
    "corr_matrix = df[df[\"sample\"] == 1].drop(columns_to_drop, 1).drop([\"sample\", \"city_nan\", \"country_nan\"], 1).corr()\n",
    "display(corr_matrix)"
   ]
  },
  {
   "cell_type": "code",
   "execution_count": 110,
   "metadata": {},
   "outputs": [
    {
     "data": {
      "text/plain": [
       "<AxesSubplot:>"
      ]
     },
     "execution_count": 110,
     "metadata": {},
     "output_type": "execute_result"
    },
    {
     "data": {
      "image/png": "[encoded data removed]",
      "text/plain": [
       "<Figure size 2160x1080 with 2 Axes>"
      ]
     },
     "metadata": {
      "needs_background": "light"
     },
     "output_type": "display_data"
    }
   ],
   "source": [
    "mask = np.array(corr_matrix)\n",
    "mask[np.tril_indices_from(mask)] = False\n",
    "fig,ax= plt.subplots()\n",
    "fig.set_size_inches(30,15)\n",
    "sns.heatmap(corr_matrix, mask=mask, vmax=.8, square=True, annot=True)"
   ]
  },
  {
   "cell_type": "code",
   "execution_count": 111,
   "metadata": {},
   "outputs": [],
   "source": [
    "# создаем переменную ranking_pure\n",
    "df[\"ranking_pure\"] = df.ranking / df.city_count"
   ]
  },
  {
   "cell_type": "code",
   "execution_count": 112,
   "metadata": {},
   "outputs": [],
   "source": [
    "corr_matrix_new = df[df[\"sample\"] == 1].drop(columns_to_drop, 1).drop([\"sample\", \n",
    "                                                                       \"city_nan\", \"country_nan\"], 1).corr()"
   ]
  },
  {
   "cell_type": "code",
   "execution_count": 113,
   "metadata": {},
   "outputs": [
    {
     "data": {
      "text/plain": [
       "rating          -0.543724\n",
       "ranking          0.557146\n",
       "n_reviews       -0.406382\n",
       "c_style_isNAN    0.323033\n",
       "p_range_isNAN    0.463439\n",
       "rev_fresh        0.320608\n",
       "n_style         -0.540847\n",
       "top_cuis        -0.450628\n",
       "ranking_pure     1.000000\n",
       "Name: ranking_pure, dtype: float64"
      ]
     },
     "execution_count": 113,
     "metadata": {},
     "output_type": "execute_result"
    }
   ],
   "source": [
    "corr_matrix_new[abs(corr_matrix_new.ranking_pure) > 0.3].ranking_pure"
   ]
  },
  {
   "cell_type": "markdown",
   "metadata": {},
   "source": [
    "Новая переменная хорошо скоррелированна с многими признаками:\n",
    "* Чем ниже ранг (лучше ресторан), тем выше его рейтинг\n",
    "* Чем больше отзывов, тем лучше ресторан\n",
    "* Больше представлено кухонь - лучше ресторан\n",
    "* Рестораны со свежеми отзывами как правило выше оценены"
   ]
  },
  {
   "cell_type": "code",
   "execution_count": 114,
   "metadata": {},
   "outputs": [],
   "source": [
    "# Добавим также эту переменную с возведенными в квадрат значениями\n",
    "df[\"ranking_pure_2\"] = df.ranking_pure ** 2"
   ]
  },
  {
   "cell_type": "markdown",
   "metadata": {},
   "source": [
    "**Далее на основе признака *ranking* / *ranking_pure* сконструируем новые переменные:**"
   ]
  },
  {
   "cell_type": "code",
   "execution_count": 115,
   "metadata": {},
   "outputs": [],
   "source": [
    "# # Чистый ранг к населению\n",
    "# df['ranking_pure_pop'] = df.ranking_pure / df.cities_pop\n",
    "\n",
    "# # Кол-во отзывов деленное на чистый ранг\n",
    "# df[\"ranking_pure_n_reviews\"] = df[\"n_reviews\"] / df[\"ranking_pure\"] # чемы выше, тем выше target \n",
    "\n",
    "# # Кол-во кухонь деленное на чистый ранг\n",
    "# df[\"ranking_pure_n_style\"] = df[\"n_style\"] / df[\"ranking_pure\"] # чемы выше, тем выше target\n",
    "\n",
    "# Ранг ресторана с учетом частоты отзывов в городе\n",
    "df['rank_pure_rev_pop'] =  df['ranking_pure']  *  df['n_rev_pop']\n",
    "\n",
    "# Средняя цена в городе к чистому рангу\n",
    "df[\"city_p_range_ranking_pure\"] = df['city_p_range'] / df['ranking_pure']\n",
    "\n",
    "# Среднее кол-во отзывов в городе к чистому рангу\n",
    "df[\"city_n_rev_ranking_pure\"] = df['city_n_rev'] / df['ranking_pure']\n",
    "\n",
    "# Среднее кол-во кухонь в городе к чистому рангу\n",
    "df[\"city_n_style_ranking_pure\"] = df['city_n_style'] / df['ranking_pure']\n",
    "\n",
    "# Максимальное кол-во кухонь в городе к чистому рангу\n",
    "df[\"city_n_rev_max_ranking_pure\"] = df['city_n_rev_max'] / df['ranking_pure']"
   ]
  },
  {
   "cell_type": "code",
   "execution_count": 116,
   "metadata": {},
   "outputs": [],
   "source": [
    "# GDP взвешенный по уровню цен\n",
    "df[\"GDP_p_range\"] = round(df[\"GDP\"] / df[\"p_range\"], 4)"
   ]
  },
  {
   "cell_type": "code",
   "execution_count": 117,
   "metadata": {},
   "outputs": [
    {
     "data": {
      "text/html": [
       "<div>\n",
       "<style scoped>\n",
       "    .dataframe tbody tr th:only-of-type {\n",
       "        vertical-align: middle;\n",
       "    }\n",
       "\n",
       "    .dataframe tbody tr th {\n",
       "        vertical-align: top;\n",
       "    }\n",
       "\n",
       "    .dataframe thead th {\n",
       "        text-align: right;\n",
       "    }\n",
       "</style>\n",
       "<table border=\"1\" class=\"dataframe\">\n",
       "  <thead>\n",
       "    <tr style=\"text-align: right;\">\n",
       "      <th></th>\n",
       "      <th>0</th>\n",
       "      <th>1</th>\n",
       "      <th>2</th>\n",
       "      <th>3</th>\n",
       "      <th>4</th>\n",
       "    </tr>\n",
       "  </thead>\n",
       "  <tbody>\n",
       "    <tr>\n",
       "      <th>country_Spain</th>\n",
       "      <td>0.000000</td>\n",
       "      <td>0.000000</td>\n",
       "      <td>0.000000</td>\n",
       "      <td>0.000000</td>\n",
       "      <td>0.000000</td>\n",
       "    </tr>\n",
       "    <tr>\n",
       "      <th>country_Sweden</th>\n",
       "      <td>0.000000</td>\n",
       "      <td>0.000000</td>\n",
       "      <td>0.000000</td>\n",
       "      <td>0.000000</td>\n",
       "      <td>0.000000</td>\n",
       "    </tr>\n",
       "    <tr>\n",
       "      <th>country_Switzerland</th>\n",
       "      <td>0.000000</td>\n",
       "      <td>0.000000</td>\n",
       "      <td>0.000000</td>\n",
       "      <td>0.000000</td>\n",
       "      <td>0.000000</td>\n",
       "    </tr>\n",
       "    <tr>\n",
       "      <th>country_UK</th>\n",
       "      <td>0.000000</td>\n",
       "      <td>0.000000</td>\n",
       "      <td>0.000000</td>\n",
       "      <td>1.000000</td>\n",
       "      <td>0.000000</td>\n",
       "    </tr>\n",
       "    <tr>\n",
       "      <th>country_nan</th>\n",
       "      <td>0.000000</td>\n",
       "      <td>0.000000</td>\n",
       "      <td>0.000000</td>\n",
       "      <td>0.000000</td>\n",
       "      <td>0.000000</td>\n",
       "    </tr>\n",
       "    <tr>\n",
       "      <th>ranking_pure</th>\n",
       "      <td>2.122299</td>\n",
       "      <td>0.223158</td>\n",
       "      <td>1.087248</td>\n",
       "      <td>0.232031</td>\n",
       "      <td>0.097368</td>\n",
       "    </tr>\n",
       "    <tr>\n",
       "      <th>ranking_pure_2</th>\n",
       "      <td>4.504151</td>\n",
       "      <td>0.049799</td>\n",
       "      <td>1.182109</td>\n",
       "      <td>0.053838</td>\n",
       "      <td>0.009481</td>\n",
       "    </tr>\n",
       "    <tr>\n",
       "      <th>rank_pure_rev_pop</th>\n",
       "      <td>0.003967</td>\n",
       "      <td>0.034250</td>\n",
       "      <td>0.063160</td>\n",
       "      <td>0.005230</td>\n",
       "      <td>0.037202</td>\n",
       "    </tr>\n",
       "    <tr>\n",
       "      <th>city_p_range_ranking_pure</th>\n",
       "      <td>0.891380</td>\n",
       "      <td>8.368549</td>\n",
       "      <td>1.572778</td>\n",
       "      <td>7.795899</td>\n",
       "      <td>19.140049</td>\n",
       "    </tr>\n",
       "    <tr>\n",
       "      <th>city_n_rev_ranking_pure</th>\n",
       "      <td>52.526036</td>\n",
       "      <td>278.613208</td>\n",
       "      <td>212.495062</td>\n",
       "      <td>559.702816</td>\n",
       "      <td>451.378378</td>\n",
       "    </tr>\n",
       "    <tr>\n",
       "      <th>city_n_style_ranking_pure</th>\n",
       "      <td>1.009257</td>\n",
       "      <td>11.773585</td>\n",
       "      <td>3.434568</td>\n",
       "      <td>12.796285</td>\n",
       "      <td>22.891892</td>\n",
       "    </tr>\n",
       "    <tr>\n",
       "      <th>city_n_rev_max_ranking_pure</th>\n",
       "      <td>3591.389030</td>\n",
       "      <td>6667.924528</td>\n",
       "      <td>4200.512346</td>\n",
       "      <td>41632.342720</td>\n",
       "      <td>26476.756757</td>\n",
       "    </tr>\n",
       "    <tr>\n",
       "      <th>GDP_p_range</th>\n",
       "      <td>30941.500000</td>\n",
       "      <td>24880.000000</td>\n",
       "      <td>22029.500000</td>\n",
       "      <td>19609.000000</td>\n",
       "      <td>22613.666700</td>\n",
       "    </tr>\n",
       "  </tbody>\n",
       "</table>\n",
       "</div>"
      ],
      "text/plain": [
       "                                        0             1             2  \\\n",
       "country_Spain                    0.000000      0.000000      0.000000   \n",
       "country_Sweden                   0.000000      0.000000      0.000000   \n",
       "country_Switzerland              0.000000      0.000000      0.000000   \n",
       "country_UK                       0.000000      0.000000      0.000000   \n",
       "country_nan                      0.000000      0.000000      0.000000   \n",
       "ranking_pure                     2.122299      0.223158      1.087248   \n",
       "ranking_pure_2                   4.504151      0.049799      1.182109   \n",
       "rank_pure_rev_pop                0.003967      0.034250      0.063160   \n",
       "city_p_range_ranking_pure        0.891380      8.368549      1.572778   \n",
       "city_n_rev_ranking_pure         52.526036    278.613208    212.495062   \n",
       "city_n_style_ranking_pure        1.009257     11.773585      3.434568   \n",
       "city_n_rev_max_ranking_pure   3591.389030   6667.924528   4200.512346   \n",
       "GDP_p_range                  30941.500000  24880.000000  22029.500000   \n",
       "\n",
       "                                        3             4  \n",
       "country_Spain                    0.000000      0.000000  \n",
       "country_Sweden                   0.000000      0.000000  \n",
       "country_Switzerland              0.000000      0.000000  \n",
       "country_UK                       1.000000      0.000000  \n",
       "country_nan                      0.000000      0.000000  \n",
       "ranking_pure                     0.232031      0.097368  \n",
       "ranking_pure_2                   0.053838      0.009481  \n",
       "rank_pure_rev_pop                0.005230      0.037202  \n",
       "city_p_range_ranking_pure        7.795899     19.140049  \n",
       "city_n_rev_ranking_pure        559.702816    451.378378  \n",
       "city_n_style_ranking_pure       12.796285     22.891892  \n",
       "city_n_rev_max_ranking_pure  41632.342720  26476.756757  \n",
       "GDP_p_range                  19609.000000  22613.666700  "
      ]
     },
     "execution_count": 117,
     "metadata": {},
     "output_type": "execute_result"
    }
   ],
   "source": [
    "df.iloc[:, -13:].head().T"
   ]
  },
  {
   "cell_type": "markdown",
   "metadata": {},
   "source": [
    "**Итог: Из числовой переменной *ranking* были сконструированы следующие признаки:**\n",
    "1. *ranking_pure* - нормализованный ранг\n",
    "1. *ranking_pure_2* - нормализованный ранг в квадрате\n",
    "1. *ranking_pure_pop* - чистый ранг к населению\n",
    "1. *ranking_pure_n_reviews* - кол-во отзывов деленное на чистый ранг\n",
    "1. *ranking_pure_n_style* - кол-во кухонь деленное на чистый ранг\n",
    "1. *rank_pure_rev_pop* - ранг ресторана с учетом частоты отзывов в городе\n",
    "1. *city_p_range_ranking_pure* - средняя цена в городе к чистому рангу\n",
    "1. *city_n_rev_ranking_pure* - среднее кол-во отзывов в городе к чистому рангу\n",
    "1. *city_n_style_ranking_pure* - среднее кол-во кухонь в городе к чистому рангу\n",
    "1. *city_n_rev_max_ranking_pure* - максимальное кол-во кухонь в городе к чистому рангу"
   ]
  },
  {
   "cell_type": "markdown",
   "metadata": {},
   "source": [
    "*Примечание: После исключения признаков 3, 4 и 5 точность модели повысилась.*"
   ]
  },
  {
   "cell_type": "markdown",
   "metadata": {},
   "source": [
    "## Модель"
   ]
  },
  {
   "cell_type": "code",
   "execution_count": 118,
   "metadata": {},
   "outputs": [],
   "source": [
    "# Теперь выделим тестовую часть\n",
    "df_train = df.query('sample == 1').drop(['sample'], axis=1)\n",
    "df_test = df.query('sample == 0').drop(['sample'], axis=1)\n",
    "\n",
    "y = df_train.rating.values # наш таргет\n",
    "X = df_train.drop(['rating'], axis=1)"
   ]
  },
  {
   "cell_type": "markdown",
   "metadata": {},
   "source": [
    "**Перед тем как отправлять наши данные на обучение, разделим данные на еще один тест и трейн, для валидации. \n",
    "Это поможет нам проверить, как хорошо наша модель работает, до отправки submissiona на kaggle.**"
   ]
  },
  {
   "cell_type": "code",
   "execution_count": 119,
   "metadata": {},
   "outputs": [],
   "source": [
    "# Воспользуемся специальной функцие train_test_split для разбивки тестовых данных\n",
    "# выделим 20% данных на валидацию (параметр test_size)\n",
    "X_train, X_test, y_train, y_test = train_test_split(X, y, test_size=0.2, random_state=RANDOM_SEED)"
   ]
  },
  {
   "cell_type": "code",
   "execution_count": 120,
   "metadata": {},
   "outputs": [
    {
     "data": {
      "text/plain": [
       "((10000, 220), (40000, 220), (40000, 219), (32000, 219), (8000, 219))"
      ]
     },
     "execution_count": 120,
     "metadata": {},
     "output_type": "execute_result"
    }
   ],
   "source": [
    "# проверяем\n",
    "df_test.shape, df_train.shape, X.shape, X_train.shape, X_test.shape"
   ]
  },
  {
   "cell_type": "code",
   "execution_count": 121,
   "metadata": {},
   "outputs": [],
   "source": [
    "# Импортируем необходимые библиотеки:\n",
    "from sklearn.ensemble import RandomForestRegressor # инструмент для создания и обучения модели\n",
    "from sklearn import metrics # инструменты для оценки точности модели"
   ]
  },
  {
   "cell_type": "code",
   "execution_count": 122,
   "metadata": {},
   "outputs": [],
   "source": [
    "# Создаём модель (НАСТРОЙКИ НЕ ТРОГАЕМ)\n",
    "model = RandomForestRegressor(n_estimators=100, verbose=1, n_jobs=-1, random_state=RANDOM_SEED)"
   ]
  },
  {
   "cell_type": "code",
   "execution_count": 123,
   "metadata": {},
   "outputs": [
    {
     "name": "stderr",
     "output_type": "stream",
     "text": [
      "[Parallel(n_jobs=-1)]: Using backend ThreadingBackend with 8 concurrent workers.\n",
      "[Parallel(n_jobs=-1)]: Done  34 tasks      | elapsed:   16.1s\n"
     ]
    },
    {
     "name": "stdout",
     "output_type": "stream",
     "text": [
      "Wall time: 41.6 s\n"
     ]
    },
    {
     "name": "stderr",
     "output_type": "stream",
     "text": [
      "[Parallel(n_jobs=-1)]: Done 100 out of 100 | elapsed:   41.2s finished\n",
      "[Parallel(n_jobs=8)]: Using backend ThreadingBackend with 8 concurrent workers.\n",
      "[Parallel(n_jobs=8)]: Done  34 tasks      | elapsed:    0.0s\n",
      "[Parallel(n_jobs=8)]: Done 100 out of 100 | elapsed:    0.0s finished\n"
     ]
    }
   ],
   "source": [
    "%%time\n",
    "# Обучаем модель на тестовом наборе данных\n",
    "model.fit(X_train, y_train)\n",
    "\n",
    "# Используем обученную модель для предсказания рейтинга ресторанов в тестовой выборке.\n",
    "# Предсказанные значения записываем в переменную y_pred\n",
    "y_pred = model.predict(X_test)"
   ]
  },
  {
   "cell_type": "code",
   "execution_count": 124,
   "metadata": {},
   "outputs": [
    {
     "name": "stdout",
     "output_type": "stream",
     "text": [
      "MAE: 0.19873312499999998\n"
     ]
    }
   ],
   "source": [
    "# Сравниваем предсказанные значения (y_pred) с реальными (y_test), и смотрим насколько они в среднем отличаются\n",
    "# Метрика называется Mean Absolute Error (MAE) и показывает среднее отклонение предсказанных значений от фактических.\n",
    "print('MAE:', metrics.mean_absolute_error(y_test, y_pred))"
   ]
  },
  {
   "cell_type": "code",
   "execution_count": 125,
   "metadata": {},
   "outputs": [
    {
     "data": {
      "text/plain": [
       "<AxesSubplot:>"
      ]
     },
     "execution_count": 125,
     "metadata": {},
     "output_type": "execute_result"
    },
    {
     "data": {
      "image/png": "[encoded data removed]",
      "text/plain": [
       "<Figure size 720x720 with 1 Axes>"
      ]
     },
     "metadata": {
      "needs_background": "light"
     },
     "output_type": "display_data"
    }
   ],
   "source": [
    "# в RandomForestRegressor есть возможность вывести самые важные признаки для модели\n",
    "plt.rcParams['figure.figsize'] = (10,10)\n",
    "feat_importances = pd.Series(model.feature_importances_, index=X.columns)\n",
    "feat_importances.nlargest(15).plot(kind='barh')"
   ]
  },
  {
   "cell_type": "code",
   "execution_count": 126,
   "metadata": {},
   "outputs": [
    {
     "data": {
      "text/plain": [
       "city_Madrid                    0.001610\n",
       "GDP                            0.001650\n",
       "n_reviews_isNAN                0.001732\n",
       "p_range_isNAN                  0.001794\n",
       "GDP_tourism                    0.002548\n",
       "top_cuis                       0.002784\n",
       "city_count_tourism             0.002835\n",
       "country_count                  0.003501\n",
       "tourism                        0.003612\n",
       "n_style                        0.005062\n",
       "GDP_p_range                    0.005179\n",
       "city_Rome                      0.006207\n",
       "city_n_style                   0.006564\n",
       "city_count_pop                 0.007572\n",
       "n_rev_pop                      0.008655\n",
       "city_n_rev                     0.008984\n",
       "GDP_city_pop                   0.009635\n",
       "cities_pop                     0.010008\n",
       "city_n_rev_max_ranking_pure    0.011696\n",
       "city_p_range_ranking_pure      0.012105\n",
       "n_rev_tourism                  0.015019\n",
       "date_delta                     0.015565\n",
       "city_n_style_ranking_pure      0.021350\n",
       "rev_fresh                      0.022263\n",
       "n_reviews                      0.039404\n",
       "city_n_rev_ranking_pure        0.045770\n",
       "ranking                        0.056451\n",
       "rank_pure_rev_pop              0.109293\n",
       "ranking_pure                   0.210748\n",
       "ranking_pure_2                 0.303746\n",
       "dtype: float64"
      ]
     },
     "execution_count": 126,
     "metadata": {},
     "output_type": "execute_result"
    }
   ],
   "source": [
    "feat_importances.sort_values().tail(30)"
   ]
  },
  {
   "cell_type": "markdown",
   "metadata": {},
   "source": [
    "Оставим признаки с важностью более 0.005 и проверим, как поведет себя модель."
   ]
  },
  {
   "cell_type": "code",
   "execution_count": 127,
   "metadata": {},
   "outputs": [],
   "source": [
    "feat_importances_top = feat_importances[feat_importances > 0.005]"
   ]
  },
  {
   "cell_type": "code",
   "execution_count": 128,
   "metadata": {},
   "outputs": [
    {
     "data": {
      "text/plain": [
       "21"
      ]
     },
     "execution_count": 128,
     "metadata": {},
     "output_type": "execute_result"
    }
   ],
   "source": [
    "feat_importances[feat_importances > 0.005].count()"
   ]
  },
  {
   "cell_type": "code",
   "execution_count": 129,
   "metadata": {},
   "outputs": [
    {
     "data": {
      "text/plain": [
       "<AxesSubplot:>"
      ]
     },
     "execution_count": 129,
     "metadata": {},
     "output_type": "execute_result"
    },
    {
     "data": {
      "image/png": "[encoded data removed]",
      "text/plain": [
       "<Figure size 720x720 with 1 Axes>"
      ]
     },
     "metadata": {
      "needs_background": "light"
     },
     "output_type": "display_data"
    }
   ],
   "source": [
    "feat_importances_top.sort_values().plot(kind=\"barh\")"
   ]
  },
  {
   "cell_type": "code",
   "execution_count": 130,
   "metadata": {},
   "outputs": [],
   "source": [
    "to_keep = feat_importances_top.index.to_list() + [\"sample\", \"rating\"]"
   ]
  },
  {
   "cell_type": "code",
   "execution_count": 131,
   "metadata": {},
   "outputs": [],
   "source": [
    "df_keep = df.loc[:, to_keep]"
   ]
  },
  {
   "cell_type": "code",
   "execution_count": 132,
   "metadata": {},
   "outputs": [],
   "source": [
    "df_train = df_keep.query('sample == 1').drop(['sample'], axis=1)\n",
    "df_test = df_keep.query('sample == 0').drop(['sample'], axis=1)\n",
    "\n",
    "y = df_train.rating.values # наш таргет\n",
    "X = df_train.drop(['rating'], axis=1)"
   ]
  },
  {
   "cell_type": "code",
   "execution_count": 133,
   "metadata": {},
   "outputs": [
    {
     "name": "stderr",
     "output_type": "stream",
     "text": [
      "[Parallel(n_jobs=-1)]: Using backend ThreadingBackend with 8 concurrent workers.\n",
      "[Parallel(n_jobs=-1)]: Done  34 tasks      | elapsed:    5.1s\n"
     ]
    },
    {
     "name": "stdout",
     "output_type": "stream",
     "text": [
      "Wall time: 13.2 s\n"
     ]
    },
    {
     "name": "stderr",
     "output_type": "stream",
     "text": [
      "[Parallel(n_jobs=-1)]: Done 100 out of 100 | elapsed:   12.8s finished\n",
      "[Parallel(n_jobs=8)]: Using backend ThreadingBackend with 8 concurrent workers.\n",
      "[Parallel(n_jobs=8)]: Done  34 tasks      | elapsed:    0.0s\n",
      "[Parallel(n_jobs=8)]: Done 100 out of 100 | elapsed:    0.0s finished\n"
     ]
    }
   ],
   "source": [
    "%%time\n",
    "X_train, X_test, y_train, y_test = train_test_split(X, y, test_size=0.2, random_state=RANDOM_SEED)\n",
    "\n",
    "model.fit(X_train, y_train)\n",
    "\n",
    "y_pred_top30 = model.predict(X_test)"
   ]
  },
  {
   "cell_type": "code",
   "execution_count": 134,
   "metadata": {},
   "outputs": [
    {
     "name": "stdout",
     "output_type": "stream",
     "text": [
      "MAE: 0.20050437499999998\n"
     ]
    }
   ],
   "source": [
    "print('MAE:', metrics.mean_absolute_error(y_test, y_pred_top30))"
   ]
  },
  {
   "cell_type": "markdown",
   "metadata": {},
   "source": [
    "Модель, обученная на 21 самых важных признаках оказалась чуть менее точной. "
   ]
  },
  {
   "cell_type": "code",
   "execution_count": 135,
   "metadata": {},
   "outputs": [
    {
     "data": {
      "text/plain": [
       "<AxesSubplot:>"
      ]
     },
     "execution_count": 135,
     "metadata": {},
     "output_type": "execute_result"
    },
    {
     "data": {
      "image/png": "[encoded data removed]",
      "text/plain": [
       "<Figure size 2160x1080 with 2 Axes>"
      ]
     },
     "metadata": {
      "needs_background": "light"
     },
     "output_type": "display_data"
    }
   ],
   "source": [
    "mask = np.array(df_keep[df_keep[\"sample\"] == 1].drop(\"sample\", 1).corr())\n",
    "mask[np.tril_indices_from(mask)] = False\n",
    "fig,ax= plt.subplots()\n",
    "fig.set_size_inches(30,15)\n",
    "sns.heatmap(df_keep[df_keep[\"sample\"] == 1].drop(\"sample\", 1).corr(), mask=mask, vmax=.8, square=True, annot=True, cmap='vlag')"
   ]
  },
  {
   "cell_type": "markdown",
   "metadata": {},
   "source": [
    "# Submission"
   ]
  },
  {
   "cell_type": "code",
   "execution_count": 136,
   "metadata": {},
   "outputs": [
    {
     "data": {
      "text/html": [
       "<div>\n",
       "<style scoped>\n",
       "    .dataframe tbody tr th:only-of-type {\n",
       "        vertical-align: middle;\n",
       "    }\n",
       "\n",
       "    .dataframe tbody tr th {\n",
       "        vertical-align: top;\n",
       "    }\n",
       "\n",
       "    .dataframe thead th {\n",
       "        text-align: right;\n",
       "    }\n",
       "</style>\n",
       "<table border=\"1\" class=\"dataframe\">\n",
       "  <thead>\n",
       "    <tr style=\"text-align: right;\">\n",
       "      <th></th>\n",
       "      <th>ranking</th>\n",
       "      <th>n_reviews</th>\n",
       "      <th>date_delta</th>\n",
       "      <th>rev_fresh</th>\n",
       "      <th>n_style</th>\n",
       "      <th>cities_pop</th>\n",
       "      <th>city_count_pop</th>\n",
       "      <th>GDP_city_pop</th>\n",
       "      <th>n_rev_pop</th>\n",
       "      <th>n_rev_tourism</th>\n",
       "      <th>...</th>\n",
       "      <th>city_Rome</th>\n",
       "      <th>ranking_pure</th>\n",
       "      <th>ranking_pure_2</th>\n",
       "      <th>rank_pure_rev_pop</th>\n",
       "      <th>city_p_range_ranking_pure</th>\n",
       "      <th>city_n_rev_ranking_pure</th>\n",
       "      <th>city_n_style_ranking_pure</th>\n",
       "      <th>city_n_rev_max_ranking_pure</th>\n",
       "      <th>GDP_p_range</th>\n",
       "      <th>rating</th>\n",
       "    </tr>\n",
       "  </thead>\n",
       "  <tbody>\n",
       "    <tr>\n",
       "      <th>6221</th>\n",
       "      <td>980.0</td>\n",
       "      <td>42.0</td>\n",
       "      <td>24.0</td>\n",
       "      <td>1067.0</td>\n",
       "      <td>6.0</td>\n",
       "      <td>505.0</td>\n",
       "      <td>3.261386</td>\n",
       "      <td>68.88</td>\n",
       "      <td>0.083168</td>\n",
       "      <td>0.841683</td>\n",
       "      <td>...</td>\n",
       "      <td>0.0</td>\n",
       "      <td>0.595021</td>\n",
       "      <td>0.354050</td>\n",
       "      <td>0.049487</td>\n",
       "      <td>2.907382</td>\n",
       "      <td>200.392857</td>\n",
       "      <td>4.464286</td>\n",
       "      <td>5720.804082</td>\n",
       "      <td>17391.0000</td>\n",
       "      <td>0.0</td>\n",
       "    </tr>\n",
       "    <tr>\n",
       "      <th>2731</th>\n",
       "      <td>2790.0</td>\n",
       "      <td>15.0</td>\n",
       "      <td>0.0</td>\n",
       "      <td>1655.0</td>\n",
       "      <td>1.0</td>\n",
       "      <td>3348.0</td>\n",
       "      <td>1.138889</td>\n",
       "      <td>12.87</td>\n",
       "      <td>0.004480</td>\n",
       "      <td>0.049834</td>\n",
       "      <td>...</td>\n",
       "      <td>0.0</td>\n",
       "      <td>0.731707</td>\n",
       "      <td>0.535396</td>\n",
       "      <td>0.003278</td>\n",
       "      <td>2.527238</td>\n",
       "      <td>128.029391</td>\n",
       "      <td>2.879211</td>\n",
       "      <td>8217.766667</td>\n",
       "      <td>21537.0000</td>\n",
       "      <td>0.0</td>\n",
       "    </tr>\n",
       "    <tr>\n",
       "      <th>572</th>\n",
       "      <td>5088.0</td>\n",
       "      <td>0.0</td>\n",
       "      <td>577.0</td>\n",
       "      <td>1384.0</td>\n",
       "      <td>1.0</td>\n",
       "      <td>3769.0</td>\n",
       "      <td>0.717697</td>\n",
       "      <td>9.98</td>\n",
       "      <td>0.000000</td>\n",
       "      <td>0.000000</td>\n",
       "      <td>...</td>\n",
       "      <td>0.0</td>\n",
       "      <td>1.880961</td>\n",
       "      <td>3.538015</td>\n",
       "      <td>0.000000</td>\n",
       "      <td>0.926704</td>\n",
       "      <td>30.660574</td>\n",
       "      <td>1.210299</td>\n",
       "      <td>1367.386006</td>\n",
       "      <td>18800.5000</td>\n",
       "      <td>0.0</td>\n",
       "    </tr>\n",
       "    <tr>\n",
       "      <th>6055</th>\n",
       "      <td>1779.0</td>\n",
       "      <td>12.0</td>\n",
       "      <td>0.0</td>\n",
       "      <td>4235.0</td>\n",
       "      <td>2.0</td>\n",
       "      <td>974.0</td>\n",
       "      <td>1.060575</td>\n",
       "      <td>63.40</td>\n",
       "      <td>0.012320</td>\n",
       "      <td>0.764331</td>\n",
       "      <td>...</td>\n",
       "      <td>0.0</td>\n",
       "      <td>1.722168</td>\n",
       "      <td>2.965864</td>\n",
       "      <td>0.021218</td>\n",
       "      <td>1.127786</td>\n",
       "      <td>40.261945</td>\n",
       "      <td>1.458123</td>\n",
       "      <td>848.349073</td>\n",
       "      <td>30877.0000</td>\n",
       "      <td>0.0</td>\n",
       "    </tr>\n",
       "    <tr>\n",
       "      <th>9565</th>\n",
       "      <td>325.0</td>\n",
       "      <td>7.0</td>\n",
       "      <td>40.0</td>\n",
       "      <td>2039.0</td>\n",
       "      <td>3.0</td>\n",
       "      <td>280.0</td>\n",
       "      <td>0.792857</td>\n",
       "      <td>142.01</td>\n",
       "      <td>0.025000</td>\n",
       "      <td>0.625000</td>\n",
       "      <td>...</td>\n",
       "      <td>0.0</td>\n",
       "      <td>1.463964</td>\n",
       "      <td>2.143190</td>\n",
       "      <td>0.036599</td>\n",
       "      <td>1.193223</td>\n",
       "      <td>56.249231</td>\n",
       "      <td>2.326154</td>\n",
       "      <td>1370.252308</td>\n",
       "      <td>19881.5000</td>\n",
       "      <td>0.0</td>\n",
       "    </tr>\n",
       "    <tr>\n",
       "      <th>6256</th>\n",
       "      <td>12920.0</td>\n",
       "      <td>27.0</td>\n",
       "      <td>411.0</td>\n",
       "      <td>1235.0</td>\n",
       "      <td>4.0</td>\n",
       "      <td>2140.0</td>\n",
       "      <td>2.854206</td>\n",
       "      <td>28.92</td>\n",
       "      <td>0.012617</td>\n",
       "      <td>0.191898</td>\n",
       "      <td>...</td>\n",
       "      <td>0.0</td>\n",
       "      <td>2.115259</td>\n",
       "      <td>4.474319</td>\n",
       "      <td>0.026688</td>\n",
       "      <td>0.894346</td>\n",
       "      <td>52.700851</td>\n",
       "      <td>1.012616</td>\n",
       "      <td>3603.341796</td>\n",
       "      <td>20627.6667</td>\n",
       "      <td>0.0</td>\n",
       "    </tr>\n",
       "    <tr>\n",
       "      <th>1019</th>\n",
       "      <td>5099.0</td>\n",
       "      <td>3.0</td>\n",
       "      <td>4.0</td>\n",
       "      <td>1558.0</td>\n",
       "      <td>1.0</td>\n",
       "      <td>1620.0</td>\n",
       "      <td>2.095679</td>\n",
       "      <td>28.24</td>\n",
       "      <td>0.001852</td>\n",
       "      <td>0.009967</td>\n",
       "      <td>...</td>\n",
       "      <td>0.0</td>\n",
       "      <td>1.501915</td>\n",
       "      <td>2.255747</td>\n",
       "      <td>0.002781</td>\n",
       "      <td>1.187673</td>\n",
       "      <td>84.230241</td>\n",
       "      <td>1.783879</td>\n",
       "      <td>3326.420867</td>\n",
       "      <td>45752.0000</td>\n",
       "      <td>0.0</td>\n",
       "    </tr>\n",
       "    <tr>\n",
       "      <th>8404</th>\n",
       "      <td>12148.0</td>\n",
       "      <td>19.0</td>\n",
       "      <td>17.0</td>\n",
       "      <td>1639.0</td>\n",
       "      <td>1.0</td>\n",
       "      <td>2140.0</td>\n",
       "      <td>2.854206</td>\n",
       "      <td>28.92</td>\n",
       "      <td>0.008879</td>\n",
       "      <td>0.135039</td>\n",
       "      <td>...</td>\n",
       "      <td>0.0</td>\n",
       "      <td>1.988867</td>\n",
       "      <td>3.955592</td>\n",
       "      <td>0.017658</td>\n",
       "      <td>0.951182</td>\n",
       "      <td>56.049967</td>\n",
       "      <td>1.076967</td>\n",
       "      <td>3832.332565</td>\n",
       "      <td>30941.5000</td>\n",
       "      <td>0.0</td>\n",
       "    </tr>\n",
       "    <tr>\n",
       "      <th>4226</th>\n",
       "      <td>3151.0</td>\n",
       "      <td>103.0</td>\n",
       "      <td>183.0</td>\n",
       "      <td>1146.0</td>\n",
       "      <td>2.0</td>\n",
       "      <td>3348.0</td>\n",
       "      <td>1.138889</td>\n",
       "      <td>12.87</td>\n",
       "      <td>0.030765</td>\n",
       "      <td>0.342193</td>\n",
       "      <td>...</td>\n",
       "      <td>0.0</td>\n",
       "      <td>0.826383</td>\n",
       "      <td>0.682910</td>\n",
       "      <td>0.025423</td>\n",
       "      <td>2.237701</td>\n",
       "      <td>113.361473</td>\n",
       "      <td>2.549349</td>\n",
       "      <td>7276.283402</td>\n",
       "      <td>21537.0000</td>\n",
       "      <td>0.0</td>\n",
       "    </tr>\n",
       "    <tr>\n",
       "      <th>7899</th>\n",
       "      <td>1002.0</td>\n",
       "      <td>25.0</td>\n",
       "      <td>12.0</td>\n",
       "      <td>1062.0</td>\n",
       "      <td>2.0</td>\n",
       "      <td>1752.0</td>\n",
       "      <td>0.582763</td>\n",
       "      <td>21.35</td>\n",
       "      <td>0.014269</td>\n",
       "      <td>4.716981</td>\n",
       "      <td>...</td>\n",
       "      <td>0.0</td>\n",
       "      <td>0.981391</td>\n",
       "      <td>0.963128</td>\n",
       "      <td>0.014004</td>\n",
       "      <td>1.750749</td>\n",
       "      <td>148.107784</td>\n",
       "      <td>3.340319</td>\n",
       "      <td>7718.637725</td>\n",
       "      <td>37399.0000</td>\n",
       "      <td>0.0</td>\n",
       "    </tr>\n",
       "  </tbody>\n",
       "</table>\n",
       "<p>10 rows × 22 columns</p>\n",
       "</div>"
      ],
      "text/plain": [
       "      ranking  n_reviews  date_delta  rev_fresh  n_style  cities_pop  \\\n",
       "6221    980.0       42.0        24.0     1067.0      6.0       505.0   \n",
       "2731   2790.0       15.0         0.0     1655.0      1.0      3348.0   \n",
       "572    5088.0        0.0       577.0     1384.0      1.0      3769.0   \n",
       "6055   1779.0       12.0         0.0     4235.0      2.0       974.0   \n",
       "9565    325.0        7.0        40.0     2039.0      3.0       280.0   \n",
       "6256  12920.0       27.0       411.0     1235.0      4.0      2140.0   \n",
       "1019   5099.0        3.0         4.0     1558.0      1.0      1620.0   \n",
       "8404  12148.0       19.0        17.0     1639.0      1.0      2140.0   \n",
       "4226   3151.0      103.0       183.0     1146.0      2.0      3348.0   \n",
       "7899   1002.0       25.0        12.0     1062.0      2.0      1752.0   \n",
       "\n",
       "      city_count_pop  GDP_city_pop  n_rev_pop  n_rev_tourism  ...  city_Rome  \\\n",
       "6221        3.261386         68.88   0.083168       0.841683  ...        0.0   \n",
       "2731        1.138889         12.87   0.004480       0.049834  ...        0.0   \n",
       "572         0.717697          9.98   0.000000       0.000000  ...        0.0   \n",
       "6055        1.060575         63.40   0.012320       0.764331  ...        0.0   \n",
       "9565        0.792857        142.01   0.025000       0.625000  ...        0.0   \n",
       "6256        2.854206         28.92   0.012617       0.191898  ...        0.0   \n",
       "1019        2.095679         28.24   0.001852       0.009967  ...        0.0   \n",
       "8404        2.854206         28.92   0.008879       0.135039  ...        0.0   \n",
       "4226        1.138889         12.87   0.030765       0.342193  ...        0.0   \n",
       "7899        0.582763         21.35   0.014269       4.716981  ...        0.0   \n",
       "\n",
       "      ranking_pure  ranking_pure_2  rank_pure_rev_pop  \\\n",
       "6221      0.595021        0.354050           0.049487   \n",
       "2731      0.731707        0.535396           0.003278   \n",
       "572       1.880961        3.538015           0.000000   \n",
       "6055      1.722168        2.965864           0.021218   \n",
       "9565      1.463964        2.143190           0.036599   \n",
       "6256      2.115259        4.474319           0.026688   \n",
       "1019      1.501915        2.255747           0.002781   \n",
       "8404      1.988867        3.955592           0.017658   \n",
       "4226      0.826383        0.682910           0.025423   \n",
       "7899      0.981391        0.963128           0.014004   \n",
       "\n",
       "      city_p_range_ranking_pure  city_n_rev_ranking_pure  \\\n",
       "6221                   2.907382               200.392857   \n",
       "2731                   2.527238               128.029391   \n",
       "572                    0.926704                30.660574   \n",
       "6055                   1.127786                40.261945   \n",
       "9565                   1.193223                56.249231   \n",
       "6256                   0.894346                52.700851   \n",
       "1019                   1.187673                84.230241   \n",
       "8404                   0.951182                56.049967   \n",
       "4226                   2.237701               113.361473   \n",
       "7899                   1.750749               148.107784   \n",
       "\n",
       "      city_n_style_ranking_pure  city_n_rev_max_ranking_pure  GDP_p_range  \\\n",
       "6221                   4.464286                  5720.804082   17391.0000   \n",
       "2731                   2.879211                  8217.766667   21537.0000   \n",
       "572                    1.210299                  1367.386006   18800.5000   \n",
       "6055                   1.458123                   848.349073   30877.0000   \n",
       "9565                   2.326154                  1370.252308   19881.5000   \n",
       "6256                   1.012616                  3603.341796   20627.6667   \n",
       "1019                   1.783879                  3326.420867   45752.0000   \n",
       "8404                   1.076967                  3832.332565   30941.5000   \n",
       "4226                   2.549349                  7276.283402   21537.0000   \n",
       "7899                   3.340319                  7718.637725   37399.0000   \n",
       "\n",
       "      rating  \n",
       "6221     0.0  \n",
       "2731     0.0  \n",
       "572      0.0  \n",
       "6055     0.0  \n",
       "9565     0.0  \n",
       "6256     0.0  \n",
       "1019     0.0  \n",
       "8404     0.0  \n",
       "4226     0.0  \n",
       "7899     0.0  \n",
       "\n",
       "[10 rows x 22 columns]"
      ]
     },
     "execution_count": 136,
     "metadata": {},
     "output_type": "execute_result"
    }
   ],
   "source": [
    "df_test.sample(10)"
   ]
  },
  {
   "cell_type": "code",
   "execution_count": 137,
   "metadata": {},
   "outputs": [],
   "source": [
    "df_test = df_test.drop(['rating'], axis=1)"
   ]
  },
  {
   "cell_type": "code",
   "execution_count": 138,
   "metadata": {},
   "outputs": [
    {
     "data": {
      "text/html": [
       "<div>\n",
       "<style scoped>\n",
       "    .dataframe tbody tr th:only-of-type {\n",
       "        vertical-align: middle;\n",
       "    }\n",
       "\n",
       "    .dataframe tbody tr th {\n",
       "        vertical-align: top;\n",
       "    }\n",
       "\n",
       "    .dataframe thead th {\n",
       "        text-align: right;\n",
       "    }\n",
       "</style>\n",
       "<table border=\"1\" class=\"dataframe\">\n",
       "  <thead>\n",
       "    <tr style=\"text-align: right;\">\n",
       "      <th></th>\n",
       "      <th>Restaurant_id</th>\n",
       "      <th>Rating</th>\n",
       "    </tr>\n",
       "  </thead>\n",
       "  <tbody>\n",
       "    <tr>\n",
       "      <th>0</th>\n",
       "      <td>id_0</td>\n",
       "      <td>2.0</td>\n",
       "    </tr>\n",
       "    <tr>\n",
       "      <th>1</th>\n",
       "      <td>id_1</td>\n",
       "      <td>2.5</td>\n",
       "    </tr>\n",
       "    <tr>\n",
       "      <th>2</th>\n",
       "      <td>id_2</td>\n",
       "      <td>4.0</td>\n",
       "    </tr>\n",
       "    <tr>\n",
       "      <th>3</th>\n",
       "      <td>id_3</td>\n",
       "      <td>1.0</td>\n",
       "    </tr>\n",
       "    <tr>\n",
       "      <th>4</th>\n",
       "      <td>id_4</td>\n",
       "      <td>4.0</td>\n",
       "    </tr>\n",
       "  </tbody>\n",
       "</table>\n",
       "</div>"
      ],
      "text/plain": [
       "  Restaurant_id  Rating\n",
       "0          id_0     2.0\n",
       "1          id_1     2.5\n",
       "2          id_2     4.0\n",
       "3          id_3     1.0\n",
       "4          id_4     4.0"
      ]
     },
     "execution_count": 138,
     "metadata": {},
     "output_type": "execute_result"
    }
   ],
   "source": [
    "sample_submission.head()"
   ]
  },
  {
   "cell_type": "code",
   "execution_count": 139,
   "metadata": {},
   "outputs": [
    {
     "data": {
      "text/plain": [
       "(10000, 2)"
      ]
     },
     "execution_count": 139,
     "metadata": {},
     "output_type": "execute_result"
    }
   ],
   "source": [
    "sample_submission.shape"
   ]
  },
  {
   "cell_type": "code",
   "execution_count": 140,
   "metadata": {},
   "outputs": [
    {
     "data": {
      "text/plain": [
       "(10000, 21)"
      ]
     },
     "execution_count": 140,
     "metadata": {},
     "output_type": "execute_result"
    }
   ],
   "source": [
    "df_test.shape"
   ]
  },
  {
   "cell_type": "code",
   "execution_count": 141,
   "metadata": {},
   "outputs": [
    {
     "name": "stderr",
     "output_type": "stream",
     "text": [
      "[Parallel(n_jobs=8)]: Using backend ThreadingBackend with 8 concurrent workers.\n",
      "[Parallel(n_jobs=8)]: Done  34 tasks      | elapsed:    0.0s\n",
      "[Parallel(n_jobs=8)]: Done 100 out of 100 | elapsed:    0.0s finished\n"
     ]
    }
   ],
   "source": [
    "predict_submission = model.predict(df_test)"
   ]
  },
  {
   "cell_type": "code",
   "execution_count": 142,
   "metadata": {},
   "outputs": [
    {
     "data": {
      "text/plain": [
       "array([2.97 , 4.29 , 4.415, 4.31 , 4.425, 4.46 , 2.26 , 2.98 , 4.045,\n",
       "       4.61 , 4.04 , 3.82 , 3.99 , 4.005, 3.775, 3.02 , 3.65 , 4.125,\n",
       "       2.705, 4.03 ])"
      ]
     },
     "execution_count": 142,
     "metadata": {},
     "output_type": "execute_result"
    }
   ],
   "source": [
    "predict_submission[:20]"
   ]
  },
  {
   "cell_type": "code",
   "execution_count": 143,
   "metadata": {},
   "outputs": [
    {
     "data": {
      "text/plain": [
       "10000"
      ]
     },
     "execution_count": 143,
     "metadata": {},
     "output_type": "execute_result"
    }
   ],
   "source": [
    "len(predict_submission)"
   ]
  },
  {
   "cell_type": "code",
   "execution_count": 144,
   "metadata": {},
   "outputs": [
    {
     "data": {
      "text/html": [
       "<div>\n",
       "<style scoped>\n",
       "    .dataframe tbody tr th:only-of-type {\n",
       "        vertical-align: middle;\n",
       "    }\n",
       "\n",
       "    .dataframe tbody tr th {\n",
       "        vertical-align: top;\n",
       "    }\n",
       "\n",
       "    .dataframe thead th {\n",
       "        text-align: right;\n",
       "    }\n",
       "</style>\n",
       "<table border=\"1\" class=\"dataframe\">\n",
       "  <thead>\n",
       "    <tr style=\"text-align: right;\">\n",
       "      <th></th>\n",
       "      <th>Restaurant_id</th>\n",
       "      <th>Rating</th>\n",
       "    </tr>\n",
       "  </thead>\n",
       "  <tbody>\n",
       "    <tr>\n",
       "      <th>0</th>\n",
       "      <td>id_0</td>\n",
       "      <td>2.970</td>\n",
       "    </tr>\n",
       "    <tr>\n",
       "      <th>1</th>\n",
       "      <td>id_1</td>\n",
       "      <td>4.290</td>\n",
       "    </tr>\n",
       "    <tr>\n",
       "      <th>2</th>\n",
       "      <td>id_2</td>\n",
       "      <td>4.415</td>\n",
       "    </tr>\n",
       "    <tr>\n",
       "      <th>3</th>\n",
       "      <td>id_3</td>\n",
       "      <td>4.310</td>\n",
       "    </tr>\n",
       "    <tr>\n",
       "      <th>4</th>\n",
       "      <td>id_4</td>\n",
       "      <td>4.425</td>\n",
       "    </tr>\n",
       "    <tr>\n",
       "      <th>5</th>\n",
       "      <td>id_5</td>\n",
       "      <td>4.460</td>\n",
       "    </tr>\n",
       "    <tr>\n",
       "      <th>6</th>\n",
       "      <td>id_6</td>\n",
       "      <td>2.260</td>\n",
       "    </tr>\n",
       "    <tr>\n",
       "      <th>7</th>\n",
       "      <td>id_7</td>\n",
       "      <td>2.980</td>\n",
       "    </tr>\n",
       "    <tr>\n",
       "      <th>8</th>\n",
       "      <td>id_8</td>\n",
       "      <td>4.045</td>\n",
       "    </tr>\n",
       "    <tr>\n",
       "      <th>9</th>\n",
       "      <td>id_9</td>\n",
       "      <td>4.610</td>\n",
       "    </tr>\n",
       "  </tbody>\n",
       "</table>\n",
       "</div>"
      ],
      "text/plain": [
       "  Restaurant_id  Rating\n",
       "0          id_0   2.970\n",
       "1          id_1   4.290\n",
       "2          id_2   4.415\n",
       "3          id_3   4.310\n",
       "4          id_4   4.425\n",
       "5          id_5   4.460\n",
       "6          id_6   2.260\n",
       "7          id_7   2.980\n",
       "8          id_8   4.045\n",
       "9          id_9   4.610"
      ]
     },
     "execution_count": 144,
     "metadata": {},
     "output_type": "execute_result"
    }
   ],
   "source": [
    "sample_submission['Rating'] = predict_submission\n",
    "sample_submission.to_csv('submission.csv', index=False)\n",
    "sample_submission.head(10)"
   ]
  },
  {
   "cell_type": "code",
   "execution_count": null,
   "metadata": {},
   "outputs": [],
   "source": []
  }
 ],
 "metadata": {
  "kernelspec": {
   "display_name": "Python 3",
   "language": "python",
   "name": "python3"
  },
  "language_info": {
   "codemirror_mode": {
    "name": "ipython",
    "version": 3
   },
   "file_extension": ".py",
   "mimetype": "text/x-python",
   "name": "python",
   "nbconvert_exporter": "python",
   "pygments_lexer": "ipython3",
   "version": "3.8.3"
  }
 },
 "nbformat": 4,
 "nbformat_minor": 4
}
